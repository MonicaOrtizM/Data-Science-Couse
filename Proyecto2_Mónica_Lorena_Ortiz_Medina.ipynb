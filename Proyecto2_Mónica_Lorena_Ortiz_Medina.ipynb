{
  "nbformat": 4,
  "nbformat_minor": 0,
  "metadata": {
    "colab": {
      "name": "Proyecto2-Mónica Lorena Ortiz Medina.ipynb",
      "provenance": [],
      "collapsed_sections": []
    },
    "kernelspec": {
      "display_name": "Python 3",
      "name": "python3"
    }
  },
  "cells": [
    {
      "cell_type": "markdown",
      "metadata": {
        "id": "RCnChcJFDfoU"
      },
      "source": [
        "# Proyecto Entregable 2: Análisis de mercado inmobiliario\n",
        "# Ingeniería de features, Modelos avanzados e Interpretación de modelos"
      ]
    },
    {
      "cell_type": "markdown",
      "metadata": {
        "id": "9y32bh0cLm5E"
      },
      "source": [
        "Estudiante: Mónica Lorena Ortiz Medina"
      ]
    },
    {
      "cell_type": "markdown",
      "metadata": {
        "id": "G-1hk249C2L3"
      },
      "source": [
        "**PARTE A - Transformación de Datos**"
      ]
    },
    {
      "cell_type": "markdown",
      "metadata": {
        "id": "1kkJCuX8DKpW"
      },
      "source": [
        "Elige cuáles de las siguientes tareas son apropiadas para su dataset. Implementa las transformaciones que elegiste. Es importante que justifiques por qué las haces:\n",
        "\n",
        "\n",
        "\n",
        "1.   Detección y eliminación de Outliers\n",
        "2.   Encoding\n",
        "3.   Imputación de valores faltantes \n",
        "4.   Escalado de datos \n",
        "5.   Generación de nuevas variables predictoras/reducción de dimensionalidad (SDV/PCA)\n",
        "\n",
        "Vuelve a entrenar el modelo implementado en la Entrega 01 - en particular, el árbol de decisión - con este nuevo dataset transformado. Evalúa su desempeño a partir del dataset obtenido luego de transformar los datos. ¿Hay una mejora en su desempeño? Compara con el desempeño obtenido en el proyecto 01. Sea cual sea la respuesta, intenta explicar a qué se debe.\n"
      ]
    },
    {
      "cell_type": "code",
      "metadata": {
        "id": "pPEJFkvYDpkg"
      },
      "source": [
        "#Librerías\n",
        "import numpy as np\n",
        "import pandas as pd \n",
        "import matplotlib.pyplot as plt\n",
        "import seaborn as sns"
      ],
      "execution_count": null,
      "outputs": []
    },
    {
      "cell_type": "code",
      "metadata": {
        "colab": {
          "base_uri": "https://localhost:8080/",
          "height": 534
        },
        "id": "jUiMMZ4BD4s5",
        "outputId": "dd757add-f77d-4423-9430-937608095a32"
      },
      "source": [
        "#Base de datos de Properati\n",
        "\n",
        "from google.colab import drive\n",
        "drive.mount('/content/drive')\n",
        "df = pd.read_csv(\"/content/drive/My Drive/DS_Proyecto_01_Datos_Properati.csv\")\n",
        "\n",
        "# Cinco primeras instancias de la base de datos de Properati\n",
        "df.head()"
      ],
      "execution_count": null,
      "outputs": [
        {
          "output_type": "stream",
          "text": [
            "Mounted at /content/drive\n"
          ],
          "name": "stdout"
        },
        {
          "output_type": "execute_result",
          "data": {
            "text/html": [
              "<div>\n",
              "<style scoped>\n",
              "    .dataframe tbody tr th:only-of-type {\n",
              "        vertical-align: middle;\n",
              "    }\n",
              "\n",
              "    .dataframe tbody tr th {\n",
              "        vertical-align: top;\n",
              "    }\n",
              "\n",
              "    .dataframe thead th {\n",
              "        text-align: right;\n",
              "    }\n",
              "</style>\n",
              "<table border=\"1\" class=\"dataframe\">\n",
              "  <thead>\n",
              "    <tr style=\"text-align: right;\">\n",
              "      <th></th>\n",
              "      <th>start_date</th>\n",
              "      <th>end_date</th>\n",
              "      <th>created_on</th>\n",
              "      <th>lat</th>\n",
              "      <th>lon</th>\n",
              "      <th>l1</th>\n",
              "      <th>l2</th>\n",
              "      <th>l3</th>\n",
              "      <th>rooms</th>\n",
              "      <th>bedrooms</th>\n",
              "      <th>bathrooms</th>\n",
              "      <th>surface_total</th>\n",
              "      <th>surface_covered</th>\n",
              "      <th>price</th>\n",
              "      <th>currency</th>\n",
              "      <th>title</th>\n",
              "      <th>description</th>\n",
              "      <th>property_type</th>\n",
              "      <th>operation_type</th>\n",
              "    </tr>\n",
              "  </thead>\n",
              "  <tbody>\n",
              "    <tr>\n",
              "      <th>0</th>\n",
              "      <td>2019-10-17</td>\n",
              "      <td>2019-12-23</td>\n",
              "      <td>2019-10-17</td>\n",
              "      <td>-34.605880</td>\n",
              "      <td>-58.384949</td>\n",
              "      <td>Argentina</td>\n",
              "      <td>Capital Federal</td>\n",
              "      <td>San Cristobal</td>\n",
              "      <td>7.0</td>\n",
              "      <td>7.0</td>\n",
              "      <td>2.0</td>\n",
              "      <td>140.0</td>\n",
              "      <td>140.0</td>\n",
              "      <td>153000.0</td>\n",
              "      <td>USD</td>\n",
              "      <td>***Venta semipiso centro, ideal hostel*****</td>\n",
              "      <td>DESCRIPCION DE LA PROPIEDAD: Departamento de 1...</td>\n",
              "      <td>Departamento</td>\n",
              "      <td>Venta</td>\n",
              "    </tr>\n",
              "    <tr>\n",
              "      <th>1</th>\n",
              "      <td>2019-10-17</td>\n",
              "      <td>2019-11-21</td>\n",
              "      <td>2019-10-17</td>\n",
              "      <td>-34.624056</td>\n",
              "      <td>-58.412110</td>\n",
              "      <td>Argentina</td>\n",
              "      <td>Capital Federal</td>\n",
              "      <td>Boedo</td>\n",
              "      <td>2.0</td>\n",
              "      <td>1.0</td>\n",
              "      <td>2.0</td>\n",
              "      <td>70.0</td>\n",
              "      <td>58.0</td>\n",
              "      <td>159000.0</td>\n",
              "      <td>USD</td>\n",
              "      <td>Espectacular PH reciclado en Boedo sin expensas.</td>\n",
              "      <td>PH reciclado en Boedo a una cuadra de la plaz...</td>\n",
              "      <td>PH</td>\n",
              "      <td>Venta</td>\n",
              "    </tr>\n",
              "    <tr>\n",
              "      <th>2</th>\n",
              "      <td>2019-10-17</td>\n",
              "      <td>2019-11-01</td>\n",
              "      <td>2019-10-17</td>\n",
              "      <td>-34.593569</td>\n",
              "      <td>-58.427474</td>\n",
              "      <td>Argentina</td>\n",
              "      <td>Capital Federal</td>\n",
              "      <td>Palermo</td>\n",
              "      <td>2.0</td>\n",
              "      <td>1.0</td>\n",
              "      <td>1.0</td>\n",
              "      <td>45.0</td>\n",
              "      <td>45.0</td>\n",
              "      <td>125000.0</td>\n",
              "      <td>USD</td>\n",
              "      <td>Depto.tipo casa de 2 ambientes en Venta en Pal...</td>\n",
              "      <td>2 ambienets amplio , excelente estado , patio ...</td>\n",
              "      <td>PH</td>\n",
              "      <td>Venta</td>\n",
              "    </tr>\n",
              "    <tr>\n",
              "      <th>3</th>\n",
              "      <td>2019-10-17</td>\n",
              "      <td>2019-12-23</td>\n",
              "      <td>2019-10-17</td>\n",
              "      <td>-34.581294</td>\n",
              "      <td>-58.436754</td>\n",
              "      <td>Argentina</td>\n",
              "      <td>Capital Federal</td>\n",
              "      <td>Palermo</td>\n",
              "      <td>2.0</td>\n",
              "      <td>1.0</td>\n",
              "      <td>1.0</td>\n",
              "      <td>85.0</td>\n",
              "      <td>50.0</td>\n",
              "      <td>295000.0</td>\n",
              "      <td>USD</td>\n",
              "      <td>COSTA RICA 5800 / PALERMO HOLLYWOOD / VENTA PH...</td>\n",
              "      <td>HERMOSO PH EN PALERMO!!!2 AMBIENTES TOTALMENTE...</td>\n",
              "      <td>PH</td>\n",
              "      <td>Venta</td>\n",
              "    </tr>\n",
              "    <tr>\n",
              "      <th>4</th>\n",
              "      <td>2019-10-17</td>\n",
              "      <td>2020-03-11</td>\n",
              "      <td>2019-10-17</td>\n",
              "      <td>-34.914194</td>\n",
              "      <td>-57.938219</td>\n",
              "      <td>Argentina</td>\n",
              "      <td>Bs.As. G.B.A. Zona Sur</td>\n",
              "      <td>La Plata</td>\n",
              "      <td>2.0</td>\n",
              "      <td>1.0</td>\n",
              "      <td>1.0</td>\n",
              "      <td>50.0</td>\n",
              "      <td>35.0</td>\n",
              "      <td>40000.0</td>\n",
              "      <td>USD</td>\n",
              "      <td>58 entre 1 y 2  Venta de departamento en ph.1 ...</td>\n",
              "      <td>58 entre 1 y 2  Venta de departamento en PH. P...</td>\n",
              "      <td>PH</td>\n",
              "      <td>Venta</td>\n",
              "    </tr>\n",
              "  </tbody>\n",
              "</table>\n",
              "</div>"
            ],
            "text/plain": [
              "   start_date    end_date  ... property_type  operation_type\n",
              "0  2019-10-17  2019-12-23  ...  Departamento           Venta\n",
              "1  2019-10-17  2019-11-21  ...            PH           Venta\n",
              "2  2019-10-17  2019-11-01  ...            PH           Venta\n",
              "3  2019-10-17  2019-12-23  ...            PH           Venta\n",
              "4  2019-10-17  2020-03-11  ...            PH           Venta\n",
              "\n",
              "[5 rows x 19 columns]"
            ]
          },
          "metadata": {
            "tags": []
          },
          "execution_count": 2
        }
      ]
    },
    {
      "cell_type": "markdown",
      "metadata": {
        "id": "_Kh9AZ6CErXM"
      },
      "source": [
        "**1. Generación de Variables**\n",
        "\n",
        "Como primer paso se crean variables que podrían resultar útiles para la predicción del precio de la vivienda. Como hipótesis, se podría esperar que una venta rápida describe un valor justo dadas las características de la propiedad y su ubicación. Por esta razón la variable días, calculada como la diferencia entre la fecha de inicio de venta de la propiedad (start_date) y la finalización de compra del mismo (end_date), podría ser útil para este objetivo."
      ]
    },
    {
      "cell_type": "code",
      "metadata": {
        "id": "nJEyyYLLElZV"
      },
      "source": [
        "from datetime import date\n",
        "from datetime import datetime\n",
        "df['end_date'] = pd.to_datetime(df['end_date'], infer_datetime_format=True, errors='coerce')\n",
        "df['end_date'] = df['end_date'].astype('datetime64[ns]')\n",
        "df['end_date'] = pd.to_datetime(df['end_date'])"
      ],
      "execution_count": null,
      "outputs": []
    },
    {
      "cell_type": "code",
      "metadata": {
        "id": "a2QIslauEyxX"
      },
      "source": [
        "df['end_date']= pd.to_datetime(df['end_date'])\n",
        "df['start_date']= pd.to_datetime(df['start_date'])"
      ],
      "execution_count": null,
      "outputs": []
    },
    {
      "cell_type": "code",
      "metadata": {
        "colab": {
          "base_uri": "https://localhost:8080/"
        },
        "id": "0UoIGuyCE0bF",
        "outputId": "f35e8ee9-daea-4f20-a324-c312a1a575cb"
      },
      "source": [
        "df.info()"
      ],
      "execution_count": null,
      "outputs": [
        {
          "output_type": "stream",
          "text": [
            "<class 'pandas.core.frame.DataFrame'>\n",
            "RangeIndex: 146660 entries, 0 to 146659\n",
            "Data columns (total 19 columns):\n",
            " #   Column           Non-Null Count   Dtype         \n",
            "---  ------           --------------   -----         \n",
            " 0   start_date       146660 non-null  datetime64[ns]\n",
            " 1   end_date         121559 non-null  datetime64[ns]\n",
            " 2   created_on       146660 non-null  object        \n",
            " 3   lat              136735 non-null  float64       \n",
            " 4   lon              136701 non-null  float64       \n",
            " 5   l1               146660 non-null  object        \n",
            " 6   l2               146660 non-null  object        \n",
            " 7   l3               146660 non-null  object        \n",
            " 8   rooms            146660 non-null  float64       \n",
            " 9   bedrooms         146660 non-null  float64       \n",
            " 10  bathrooms        140703 non-null  float64       \n",
            " 11  surface_total    126133 non-null  float64       \n",
            " 12  surface_covered  125046 non-null  float64       \n",
            " 13  price            146660 non-null  float64       \n",
            " 14  currency         146660 non-null  object        \n",
            " 15  title            146660 non-null  object        \n",
            " 16  description      146660 non-null  object        \n",
            " 17  property_type    146660 non-null  object        \n",
            " 18  operation_type   146660 non-null  object        \n",
            "dtypes: datetime64[ns](2), float64(8), object(9)\n",
            "memory usage: 21.3+ MB\n"
          ],
          "name": "stdout"
        }
      ]
    },
    {
      "cell_type": "code",
      "metadata": {
        "id": "e86rv4EQE5FS"
      },
      "source": [
        "df['dif_days']=df['end_date']- df['start_date']"
      ],
      "execution_count": null,
      "outputs": []
    },
    {
      "cell_type": "code",
      "metadata": {
        "colab": {
          "base_uri": "https://localhost:8080/",
          "height": 261
        },
        "id": "MuHcbeyQE7Aq",
        "outputId": "5de7edbf-933f-45af-8672-b2dc5f26cb71"
      },
      "source": [
        "df['dif_days']=df['dif_days']/np.timedelta64(1,'D')\n",
        "\n",
        "df.head(2)"
      ],
      "execution_count": null,
      "outputs": [
        {
          "output_type": "execute_result",
          "data": {
            "text/html": [
              "<div>\n",
              "<style scoped>\n",
              "    .dataframe tbody tr th:only-of-type {\n",
              "        vertical-align: middle;\n",
              "    }\n",
              "\n",
              "    .dataframe tbody tr th {\n",
              "        vertical-align: top;\n",
              "    }\n",
              "\n",
              "    .dataframe thead th {\n",
              "        text-align: right;\n",
              "    }\n",
              "</style>\n",
              "<table border=\"1\" class=\"dataframe\">\n",
              "  <thead>\n",
              "    <tr style=\"text-align: right;\">\n",
              "      <th></th>\n",
              "      <th>start_date</th>\n",
              "      <th>end_date</th>\n",
              "      <th>created_on</th>\n",
              "      <th>lat</th>\n",
              "      <th>lon</th>\n",
              "      <th>l1</th>\n",
              "      <th>l2</th>\n",
              "      <th>l3</th>\n",
              "      <th>rooms</th>\n",
              "      <th>bedrooms</th>\n",
              "      <th>bathrooms</th>\n",
              "      <th>surface_total</th>\n",
              "      <th>surface_covered</th>\n",
              "      <th>price</th>\n",
              "      <th>currency</th>\n",
              "      <th>title</th>\n",
              "      <th>description</th>\n",
              "      <th>property_type</th>\n",
              "      <th>operation_type</th>\n",
              "      <th>dif_days</th>\n",
              "    </tr>\n",
              "  </thead>\n",
              "  <tbody>\n",
              "    <tr>\n",
              "      <th>0</th>\n",
              "      <td>2019-10-17</td>\n",
              "      <td>2019-12-23</td>\n",
              "      <td>2019-10-17</td>\n",
              "      <td>-34.605880</td>\n",
              "      <td>-58.384949</td>\n",
              "      <td>Argentina</td>\n",
              "      <td>Capital Federal</td>\n",
              "      <td>San Cristobal</td>\n",
              "      <td>7.0</td>\n",
              "      <td>7.0</td>\n",
              "      <td>2.0</td>\n",
              "      <td>140.0</td>\n",
              "      <td>140.0</td>\n",
              "      <td>153000.0</td>\n",
              "      <td>USD</td>\n",
              "      <td>***Venta semipiso centro, ideal hostel*****</td>\n",
              "      <td>DESCRIPCION DE LA PROPIEDAD: Departamento de 1...</td>\n",
              "      <td>Departamento</td>\n",
              "      <td>Venta</td>\n",
              "      <td>67.0</td>\n",
              "    </tr>\n",
              "    <tr>\n",
              "      <th>1</th>\n",
              "      <td>2019-10-17</td>\n",
              "      <td>2019-11-21</td>\n",
              "      <td>2019-10-17</td>\n",
              "      <td>-34.624056</td>\n",
              "      <td>-58.412110</td>\n",
              "      <td>Argentina</td>\n",
              "      <td>Capital Federal</td>\n",
              "      <td>Boedo</td>\n",
              "      <td>2.0</td>\n",
              "      <td>1.0</td>\n",
              "      <td>2.0</td>\n",
              "      <td>70.0</td>\n",
              "      <td>58.0</td>\n",
              "      <td>159000.0</td>\n",
              "      <td>USD</td>\n",
              "      <td>Espectacular PH reciclado en Boedo sin expensas.</td>\n",
              "      <td>PH reciclado en Boedo a una cuadra de la plaz...</td>\n",
              "      <td>PH</td>\n",
              "      <td>Venta</td>\n",
              "      <td>35.0</td>\n",
              "    </tr>\n",
              "  </tbody>\n",
              "</table>\n",
              "</div>"
            ],
            "text/plain": [
              "  start_date   end_date  created_on  ...  property_type  operation_type dif_days\n",
              "0 2019-10-17 2019-12-23  2019-10-17  ...   Departamento           Venta     67.0\n",
              "1 2019-10-17 2019-11-21  2019-10-17  ...             PH           Venta     35.0\n",
              "\n",
              "[2 rows x 20 columns]"
            ]
          },
          "metadata": {
            "tags": []
          },
          "execution_count": 7
        }
      ]
    },
    {
      "cell_type": "markdown",
      "metadata": {
        "id": "WpCligghE7pD"
      },
      "source": [
        "Por otro lado, palabras en el título de la propiedad podrían ser atractivas para los compradores. Analizando la base de datos se puede observar algunos de estos adjetivos: Espectacular, Lindo(a), Excelente, Impecable, Lindísimo(a), Precioso(a), entre otros. Por esta razón se crea la variable dummy en la que es \"True\" si la propiedad contine alguno de estos adjetivos."
      ]
    },
    {
      "cell_type": "code",
      "metadata": {
        "colab": {
          "base_uri": "https://localhost:8080/"
        },
        "id": "QEytCnYkE_Dn",
        "outputId": "c680eacd-44dc-4307-aeeb-f02ab38779ee"
      },
      "source": [
        "print(df['title'])"
      ],
      "execution_count": null,
      "outputs": [
        {
          "output_type": "stream",
          "text": [
            "0               ***Venta semipiso centro, ideal hostel*****\n",
            "1          Espectacular PH reciclado en Boedo sin expensas.\n",
            "2         Depto.tipo casa de 2 ambientes en Venta en Pal...\n",
            "3         COSTA RICA 5800 / PALERMO HOLLYWOOD / VENTA PH...\n",
            "4         58 entre 1 y 2  Venta de departamento en ph.1 ...\n",
            "                                ...                        \n",
            "146655    Departamento en Venta en Barrio Privado Barran...\n",
            "146656    Venta departamentos tres dormitorios jardín co...\n",
            "146657    Venta departamento de un ambiente Manzanares C...\n",
            "146658             Departamento en Venta. Manzanares chico.\n",
            "146659            Departamento en venta en Manzanares Chico\n",
            "Name: title, Length: 146660, dtype: object\n"
          ],
          "name": "stdout"
        }
      ]
    },
    {
      "cell_type": "code",
      "metadata": {
        "colab": {
          "base_uri": "https://localhost:8080/",
          "height": 164
        },
        "id": "robyaUAAFBFr",
        "outputId": "c759fb71-2b73-4af1-a6f4-373e4a32b0be"
      },
      "source": [
        "df['adjetivos'] = df['title'].str.contains('Espectacular|Lindo|Precioso|Estrenar|Excelente|Impecable|Lindísimo|Lindísima|Preciosa|Linda|Hermoso|Hermosa|Organizado|Moderno', regex=True)\n",
        "df.head(1)\n"
      ],
      "execution_count": null,
      "outputs": [
        {
          "output_type": "execute_result",
          "data": {
            "text/html": [
              "<div>\n",
              "<style scoped>\n",
              "    .dataframe tbody tr th:only-of-type {\n",
              "        vertical-align: middle;\n",
              "    }\n",
              "\n",
              "    .dataframe tbody tr th {\n",
              "        vertical-align: top;\n",
              "    }\n",
              "\n",
              "    .dataframe thead th {\n",
              "        text-align: right;\n",
              "    }\n",
              "</style>\n",
              "<table border=\"1\" class=\"dataframe\">\n",
              "  <thead>\n",
              "    <tr style=\"text-align: right;\">\n",
              "      <th></th>\n",
              "      <th>start_date</th>\n",
              "      <th>end_date</th>\n",
              "      <th>created_on</th>\n",
              "      <th>lat</th>\n",
              "      <th>lon</th>\n",
              "      <th>l1</th>\n",
              "      <th>l2</th>\n",
              "      <th>l3</th>\n",
              "      <th>rooms</th>\n",
              "      <th>bedrooms</th>\n",
              "      <th>bathrooms</th>\n",
              "      <th>surface_total</th>\n",
              "      <th>surface_covered</th>\n",
              "      <th>price</th>\n",
              "      <th>currency</th>\n",
              "      <th>title</th>\n",
              "      <th>description</th>\n",
              "      <th>property_type</th>\n",
              "      <th>operation_type</th>\n",
              "      <th>dif_days</th>\n",
              "      <th>adjetivos</th>\n",
              "    </tr>\n",
              "  </thead>\n",
              "  <tbody>\n",
              "    <tr>\n",
              "      <th>0</th>\n",
              "      <td>2019-10-17</td>\n",
              "      <td>2019-12-23</td>\n",
              "      <td>2019-10-17</td>\n",
              "      <td>-34.60588</td>\n",
              "      <td>-58.384949</td>\n",
              "      <td>Argentina</td>\n",
              "      <td>Capital Federal</td>\n",
              "      <td>San Cristobal</td>\n",
              "      <td>7.0</td>\n",
              "      <td>7.0</td>\n",
              "      <td>2.0</td>\n",
              "      <td>140.0</td>\n",
              "      <td>140.0</td>\n",
              "      <td>153000.0</td>\n",
              "      <td>USD</td>\n",
              "      <td>***Venta semipiso centro, ideal hostel*****</td>\n",
              "      <td>DESCRIPCION DE LA PROPIEDAD: Departamento de 1...</td>\n",
              "      <td>Departamento</td>\n",
              "      <td>Venta</td>\n",
              "      <td>67.0</td>\n",
              "      <td>False</td>\n",
              "    </tr>\n",
              "  </tbody>\n",
              "</table>\n",
              "</div>"
            ],
            "text/plain": [
              "  start_date   end_date  created_on  ...  operation_type  dif_days adjetivos\n",
              "0 2019-10-17 2019-12-23  2019-10-17  ...           Venta      67.0     False\n",
              "\n",
              "[1 rows x 21 columns]"
            ]
          },
          "metadata": {
            "tags": []
          },
          "execution_count": 9
        }
      ]
    },
    {
      "cell_type": "markdown",
      "metadata": {
        "id": "VGCs63s8ESV9"
      },
      "source": [
        "**2. Eliminación de datos**\n",
        "\n",
        "Se eliminan algunas variables que para el propósito del ejercicio no son útiles como: fecha de inicio de la venta, finalización de la venta, creación del registro, latitud, longitud, l1 que indica el país de la propiedad y puesto que es Argentina en todos no aporta información relevante, el tipo de moneda que es dólares en todos los casos, el título y la descripción, así como la operación que para el caso actual deben ser todas ventas."
      ]
    },
    {
      "cell_type": "code",
      "metadata": {
        "colab": {
          "base_uri": "https://localhost:8080/"
        },
        "id": "M89qbNu-EJM0",
        "outputId": "4a4df831-f394-4203-cab2-2f6610b4d8b0"
      },
      "source": [
        "columnas_eliminar=['end_date', 'start_date', 'created_on', 'lat', 'lon', 'l1', 'title', 'description', 'currency', 'operation_type']\n",
        "\n",
        "df2= df.drop(columnas_eliminar, axis=1)\n",
        "df2.shape"
      ],
      "execution_count": null,
      "outputs": [
        {
          "output_type": "execute_result",
          "data": {
            "text/plain": [
              "(146660, 11)"
            ]
          },
          "metadata": {
            "tags": []
          },
          "execution_count": 10
        }
      ]
    },
    {
      "cell_type": "markdown",
      "metadata": {
        "id": "v5yOKlAWF09P"
      },
      "source": [
        "El nuevo dataset tiene 146.660 filas y 11 columnas/variables tras la eliminación de las variables indicadas. "
      ]
    },
    {
      "cell_type": "code",
      "metadata": {
        "colab": {
          "base_uri": "https://localhost:8080/",
          "height": 195
        },
        "id": "l7wrV6nwFkQh",
        "outputId": "5b6fca78-61bf-449c-a221-b2830eed3388"
      },
      "source": [
        "df2.head()"
      ],
      "execution_count": null,
      "outputs": [
        {
          "output_type": "execute_result",
          "data": {
            "text/html": [
              "<div>\n",
              "<style scoped>\n",
              "    .dataframe tbody tr th:only-of-type {\n",
              "        vertical-align: middle;\n",
              "    }\n",
              "\n",
              "    .dataframe tbody tr th {\n",
              "        vertical-align: top;\n",
              "    }\n",
              "\n",
              "    .dataframe thead th {\n",
              "        text-align: right;\n",
              "    }\n",
              "</style>\n",
              "<table border=\"1\" class=\"dataframe\">\n",
              "  <thead>\n",
              "    <tr style=\"text-align: right;\">\n",
              "      <th></th>\n",
              "      <th>l2</th>\n",
              "      <th>l3</th>\n",
              "      <th>rooms</th>\n",
              "      <th>bedrooms</th>\n",
              "      <th>bathrooms</th>\n",
              "      <th>surface_total</th>\n",
              "      <th>surface_covered</th>\n",
              "      <th>price</th>\n",
              "      <th>property_type</th>\n",
              "      <th>dif_days</th>\n",
              "      <th>adjetivos</th>\n",
              "    </tr>\n",
              "  </thead>\n",
              "  <tbody>\n",
              "    <tr>\n",
              "      <th>0</th>\n",
              "      <td>Capital Federal</td>\n",
              "      <td>San Cristobal</td>\n",
              "      <td>7.0</td>\n",
              "      <td>7.0</td>\n",
              "      <td>2.0</td>\n",
              "      <td>140.0</td>\n",
              "      <td>140.0</td>\n",
              "      <td>153000.0</td>\n",
              "      <td>Departamento</td>\n",
              "      <td>67.0</td>\n",
              "      <td>False</td>\n",
              "    </tr>\n",
              "    <tr>\n",
              "      <th>1</th>\n",
              "      <td>Capital Federal</td>\n",
              "      <td>Boedo</td>\n",
              "      <td>2.0</td>\n",
              "      <td>1.0</td>\n",
              "      <td>2.0</td>\n",
              "      <td>70.0</td>\n",
              "      <td>58.0</td>\n",
              "      <td>159000.0</td>\n",
              "      <td>PH</td>\n",
              "      <td>35.0</td>\n",
              "      <td>True</td>\n",
              "    </tr>\n",
              "    <tr>\n",
              "      <th>2</th>\n",
              "      <td>Capital Federal</td>\n",
              "      <td>Palermo</td>\n",
              "      <td>2.0</td>\n",
              "      <td>1.0</td>\n",
              "      <td>1.0</td>\n",
              "      <td>45.0</td>\n",
              "      <td>45.0</td>\n",
              "      <td>125000.0</td>\n",
              "      <td>PH</td>\n",
              "      <td>15.0</td>\n",
              "      <td>False</td>\n",
              "    </tr>\n",
              "    <tr>\n",
              "      <th>3</th>\n",
              "      <td>Capital Federal</td>\n",
              "      <td>Palermo</td>\n",
              "      <td>2.0</td>\n",
              "      <td>1.0</td>\n",
              "      <td>1.0</td>\n",
              "      <td>85.0</td>\n",
              "      <td>50.0</td>\n",
              "      <td>295000.0</td>\n",
              "      <td>PH</td>\n",
              "      <td>67.0</td>\n",
              "      <td>False</td>\n",
              "    </tr>\n",
              "    <tr>\n",
              "      <th>4</th>\n",
              "      <td>Bs.As. G.B.A. Zona Sur</td>\n",
              "      <td>La Plata</td>\n",
              "      <td>2.0</td>\n",
              "      <td>1.0</td>\n",
              "      <td>1.0</td>\n",
              "      <td>50.0</td>\n",
              "      <td>35.0</td>\n",
              "      <td>40000.0</td>\n",
              "      <td>PH</td>\n",
              "      <td>146.0</td>\n",
              "      <td>False</td>\n",
              "    </tr>\n",
              "  </tbody>\n",
              "</table>\n",
              "</div>"
            ],
            "text/plain": [
              "                       l2             l3  ...  dif_days  adjetivos\n",
              "0         Capital Federal  San Cristobal  ...      67.0      False\n",
              "1         Capital Federal          Boedo  ...      35.0       True\n",
              "2         Capital Federal        Palermo  ...      15.0      False\n",
              "3         Capital Federal        Palermo  ...      67.0      False\n",
              "4  Bs.As. G.B.A. Zona Sur       La Plata  ...     146.0      False\n",
              "\n",
              "[5 rows x 11 columns]"
            ]
          },
          "metadata": {
            "tags": []
          },
          "execution_count": 11
        }
      ]
    },
    {
      "cell_type": "markdown",
      "metadata": {
        "id": "jsDqR4fDGlpT"
      },
      "source": [
        "**3. Outliers**\n",
        "\n",
        "Para que un modelo pueda generalizar en la predicción de la variable objetivo, que en este caso es precios, es importante hacer un análisis de los datos que son atípicos. Por esta razón a continuación se analiza la distribución que tienen los precios teniendo en cuenta los tipos de propiedad. "
      ]
    },
    {
      "cell_type": "markdown",
      "metadata": {
        "id": "0dsDEyBKH1xg"
      },
      "source": [
        "La primera gráfica que se observa a continuación permite ver que valores superiores a 5 millones de dólares son atípicos y hay una concentración importante en precios inferiores a este valor. "
      ]
    },
    {
      "cell_type": "code",
      "metadata": {
        "colab": {
          "base_uri": "https://localhost:8080/",
          "height": 458
        },
        "id": "nRXxSzYqHFY_",
        "outputId": "4c36bbd7-4d08-4071-f426-e41fada5a04d"
      },
      "source": [
        "plt.figure(figsize=(16,6))\n",
        "graph_price=df2.price/1000  #Se divide entre mil para tener los precios en miles de dólares\n",
        "sns.boxplot(graph_price, palette='Paired')"
      ],
      "execution_count": null,
      "outputs": [
        {
          "output_type": "stream",
          "text": [
            "/usr/local/lib/python3.6/dist-packages/seaborn/_decorators.py:43: FutureWarning: Pass the following variable as a keyword arg: x. From version 0.12, the only valid positional argument will be `data`, and passing other arguments without an explicit keyword will result in an error or misinterpretation.\n",
            "  FutureWarning\n"
          ],
          "name": "stderr"
        },
        {
          "output_type": "execute_result",
          "data": {
            "text/plain": [
              "<matplotlib.axes._subplots.AxesSubplot at 0x7f1b7dd34160>"
            ]
          },
          "metadata": {
            "tags": []
          },
          "execution_count": 12
        },
        {
          "output_type": "display_data",
          "data": {
            "image/png": "[encoded data removed]",
            "text/plain": [
              "<Figure size 1152x432 with 1 Axes>"
            ]
          },
          "metadata": {
            "tags": [],
            "needs_background": "light"
          }
        }
      ]
    },
    {
      "cell_type": "markdown",
      "metadata": {
        "id": "2jHil9PPI8a9"
      },
      "source": [
        "Del Proyecto 1 ya se tenía información de los outliers importantes que habían en el precio aún analizándolo por tipo de propiedad. En la gráfica a continuación es posible observar por ejemplo para departamento, existe un precio superior a los 30.000 millones de dólares, en el caso de la casa uno cercano a los 13.000 millones de dólares, y en otros tipos de propiedad valores cercanos a los 20.000 millones. "
      ]
    },
    {
      "cell_type": "code",
      "metadata": {
        "colab": {
          "base_uri": "https://localhost:8080/",
          "height": 406
        },
        "id": "HClaZesbIWG1",
        "outputId": "b95104f7-6777-46d4-87ed-dcb20b5d13d2"
      },
      "source": [
        "plt.figure(figsize=(16,6))\n",
        "graph_price=df2.price/1000  #Se divide entre mil para tener los precios en miles de dólares\n",
        "sns.boxplot(y=graph_price, x=df2.property_type, palette='Paired')"
      ],
      "execution_count": null,
      "outputs": [
        {
          "output_type": "execute_result",
          "data": {
            "text/plain": [
              "<matplotlib.axes._subplots.AxesSubplot at 0x7f1b7c59e390>"
            ]
          },
          "metadata": {
            "tags": []
          },
          "execution_count": 13
        },
        {
          "output_type": "display_data",
          "data": {
            "image/png": "[encoded data removed]",
            "text/plain": [
              "<Figure size 1152x432 with 1 Axes>"
            ]
          },
          "metadata": {
            "tags": [],
            "needs_background": "light"
          }
        }
      ]
    },
    {
      "cell_type": "markdown",
      "metadata": {
        "id": "KfX8gGtUJcbz"
      },
      "source": [
        "Teniendo en cuenta los outliers impiden una buena generalización pues limitan el poder del modelo de predecir precios a datos atípicos que pueden ser errores en la inserción de datos o propiedades especiales. \n",
        "\n",
        "A continuación se procede a remover estos valores atípicos utilizando el rango intercuartilico."
      ]
    },
    {
      "cell_type": "code",
      "metadata": {
        "id": "Nhn2h5DSJX9R"
      },
      "source": [
        "q1, q3 = df2['price'].quantile(0.25), df2['price'].quantile(0.75)\n",
        "IQR = q3 - q1\n",
        "\n",
        "upper = q3 + 1.5 * IQR\n",
        "lower = q1 - 1.5 * IQR \n",
        "\n",
        "df3 = df2[(df2.price > lower) & (df2.price < upper)]"
      ],
      "execution_count": null,
      "outputs": []
    },
    {
      "cell_type": "markdown",
      "metadata": {
        "id": "jNZU-rE-KQdx"
      },
      "source": [
        "La gráfica a continuación permite ver con mayor claridad la distribución del precio por tipo de propiedad al eliminar los precios por encima del rango intercuartilico."
      ]
    },
    {
      "cell_type": "code",
      "metadata": {
        "colab": {
          "base_uri": "https://localhost:8080/",
          "height": 406
        },
        "id": "uEKcWon_KOl1",
        "outputId": "e39a69de-ee78-459a-efb6-656197333042"
      },
      "source": [
        "plt.figure(figsize=(16,6))\n",
        "graph_price1 = df3.price/1000\n",
        "sns.boxplot(y = graph_price1, x = df3.property_type, palette='Paired')"
      ],
      "execution_count": null,
      "outputs": [
        {
          "output_type": "execute_result",
          "data": {
            "text/plain": [
              "<matplotlib.axes._subplots.AxesSubplot at 0x7f1b7c459b70>"
            ]
          },
          "metadata": {
            "tags": []
          },
          "execution_count": 15
        },
        {
          "output_type": "display_data",
          "data": {
            "image/png": "[encoded data removed]",
            "text/plain": [
              "<Figure size 1152x432 with 1 Axes>"
            ]
          },
          "metadata": {
            "tags": [],
            "needs_background": "light"
          }
        }
      ]
    },
    {
      "cell_type": "markdown",
      "metadata": {
        "id": "qEKSALWVLnh5"
      },
      "source": [
        "La cercanía a cero en el boxplot inicial se explica en el gráfico a continuación en donde los valores se acercan más a los 120 mil dólares, que antes era imposible observar con claridad. "
      ]
    },
    {
      "cell_type": "code",
      "metadata": {
        "colab": {
          "base_uri": "https://localhost:8080/",
          "height": 458
        },
        "id": "-m4ZaRkqHrpO",
        "outputId": "0339644a-154a-4755-a013-d45729c66c38"
      },
      "source": [
        "plt.figure(figsize=(16,6))\n",
        "sns.distplot(graph_price1)\n",
        "plt.axvline(x=graph_price1.mean(), linewidth=3, color='orange', label=\"Precio en dólares promedio\", alpha=0.5)\n",
        "plt.axvline(x=graph_price1.median(), linewidth=3, color='green', label=\"Mediana del precio en dólares\", alpha=0.5)\n",
        "plt.legend()"
      ],
      "execution_count": null,
      "outputs": [
        {
          "output_type": "stream",
          "text": [
            "/usr/local/lib/python3.6/dist-packages/seaborn/distributions.py:2557: FutureWarning: `distplot` is a deprecated function and will be removed in a future version. Please adapt your code to use either `displot` (a figure-level function with similar flexibility) or `histplot` (an axes-level function for histograms).\n",
            "  warnings.warn(msg, FutureWarning)\n"
          ],
          "name": "stderr"
        },
        {
          "output_type": "execute_result",
          "data": {
            "text/plain": [
              "<matplotlib.legend.Legend at 0x7f1b73a1f4e0>"
            ]
          },
          "metadata": {
            "tags": []
          },
          "execution_count": 16
        },
        {
          "output_type": "display_data",
          "data": {
            "image/png": "[encoded data removed]",
            "text/plain": [
              "<Figure size 1152x432 with 1 Axes>"
            ]
          },
          "metadata": {
            "tags": [],
            "needs_background": "light"
          }
        }
      ]
    },
    {
      "cell_type": "markdown",
      "metadata": {
        "id": "uuOPIMipMdUN"
      },
      "source": [
        "Tras la limpieza de los atípicos en la variable target, el dataset se redujo en 7.994 filas (5,6%), al pasar de 143.660 a 135.666 filas. "
      ]
    },
    {
      "cell_type": "code",
      "metadata": {
        "colab": {
          "base_uri": "https://localhost:8080/"
        },
        "id": "1DjZiZp8MaTL",
        "outputId": "e7b47f59-0fd7-4d12-ce7f-ad40a5074bd5"
      },
      "source": [
        "df3.shape"
      ],
      "execution_count": null,
      "outputs": [
        {
          "output_type": "execute_result",
          "data": {
            "text/plain": [
              "(135666, 11)"
            ]
          },
          "metadata": {
            "tags": []
          },
          "execution_count": 17
        }
      ]
    },
    {
      "cell_type": "markdown",
      "metadata": {
        "id": "FR6a1MwRMG_j"
      },
      "source": [
        "**4. Valores faltantes/Missings**\n",
        "\n",
        "Primero se estima el porcentaje de valores faltantes por cada columna que tiene la base de datos actual. En particular, y como ya se identificó en la Entrega 01, las variables de superficie total y cubierta tienen el mayor porcentaje de valores faltantes, seguido por el número de baños.\n",
        "\n",
        "Por otro lado, la variable recién creada, 'dif_days', que contabiliza el tiempo en dáis transcurrido entre la fecha de publicación de venta de la propiedad y la venta efectiva de la misma tiene la mayor proporción de missings. \n",
        "\n",
        "En todo caso se procederá a imputar los valores teniendo en cuenta dos caracteríasticas del tipo de propiedad, imputando el valor de la media. "
      ]
    },
    {
      "cell_type": "code",
      "metadata": {
        "colab": {
          "base_uri": "https://localhost:8080/"
        },
        "id": "uR285AkAMO_Z",
        "outputId": "a9657357-5704-486e-8e03-5028da2e1149"
      },
      "source": [
        "print(\"% missing values\")\n",
        "(df3.isna().sum()/len(df3))*100"
      ],
      "execution_count": null,
      "outputs": [
        {
          "output_type": "stream",
          "text": [
            "% missing values\n"
          ],
          "name": "stdout"
        },
        {
          "output_type": "execute_result",
          "data": {
            "text/plain": [
              "l2                  0.000000\n",
              "l3                  0.000000\n",
              "rooms               0.000000\n",
              "bedrooms            0.000000\n",
              "bathrooms           3.972255\n",
              "surface_total      14.134713\n",
              "surface_covered    14.839385\n",
              "price               0.000000\n",
              "property_type       0.000000\n",
              "dif_days           17.254139\n",
              "adjetivos           0.000000\n",
              "dtype: float64"
            ]
          },
          "metadata": {
            "tags": []
          },
          "execution_count": 18
        }
      ]
    },
    {
      "cell_type": "code",
      "metadata": {
        "colab": {
          "base_uri": "https://localhost:8080/",
          "height": 195
        },
        "id": "Qtzxwtv-eFu_",
        "outputId": "e9f9908d-f99f-40b3-abe9-354248e0a9f6"
      },
      "source": [
        "df3.head()"
      ],
      "execution_count": null,
      "outputs": [
        {
          "output_type": "execute_result",
          "data": {
            "text/html": [
              "<div>\n",
              "<style scoped>\n",
              "    .dataframe tbody tr th:only-of-type {\n",
              "        vertical-align: middle;\n",
              "    }\n",
              "\n",
              "    .dataframe tbody tr th {\n",
              "        vertical-align: top;\n",
              "    }\n",
              "\n",
              "    .dataframe thead th {\n",
              "        text-align: right;\n",
              "    }\n",
              "</style>\n",
              "<table border=\"1\" class=\"dataframe\">\n",
              "  <thead>\n",
              "    <tr style=\"text-align: right;\">\n",
              "      <th></th>\n",
              "      <th>l2</th>\n",
              "      <th>l3</th>\n",
              "      <th>rooms</th>\n",
              "      <th>bedrooms</th>\n",
              "      <th>bathrooms</th>\n",
              "      <th>surface_total</th>\n",
              "      <th>surface_covered</th>\n",
              "      <th>price</th>\n",
              "      <th>property_type</th>\n",
              "      <th>dif_days</th>\n",
              "      <th>adjetivos</th>\n",
              "    </tr>\n",
              "  </thead>\n",
              "  <tbody>\n",
              "    <tr>\n",
              "      <th>0</th>\n",
              "      <td>Capital Federal</td>\n",
              "      <td>San Cristobal</td>\n",
              "      <td>7.0</td>\n",
              "      <td>7.0</td>\n",
              "      <td>2.0</td>\n",
              "      <td>140.0</td>\n",
              "      <td>140.0</td>\n",
              "      <td>153000.0</td>\n",
              "      <td>Departamento</td>\n",
              "      <td>67.0</td>\n",
              "      <td>False</td>\n",
              "    </tr>\n",
              "    <tr>\n",
              "      <th>1</th>\n",
              "      <td>Capital Federal</td>\n",
              "      <td>Boedo</td>\n",
              "      <td>2.0</td>\n",
              "      <td>1.0</td>\n",
              "      <td>2.0</td>\n",
              "      <td>70.0</td>\n",
              "      <td>58.0</td>\n",
              "      <td>159000.0</td>\n",
              "      <td>PH</td>\n",
              "      <td>35.0</td>\n",
              "      <td>True</td>\n",
              "    </tr>\n",
              "    <tr>\n",
              "      <th>2</th>\n",
              "      <td>Capital Federal</td>\n",
              "      <td>Palermo</td>\n",
              "      <td>2.0</td>\n",
              "      <td>1.0</td>\n",
              "      <td>1.0</td>\n",
              "      <td>45.0</td>\n",
              "      <td>45.0</td>\n",
              "      <td>125000.0</td>\n",
              "      <td>PH</td>\n",
              "      <td>15.0</td>\n",
              "      <td>False</td>\n",
              "    </tr>\n",
              "    <tr>\n",
              "      <th>3</th>\n",
              "      <td>Capital Federal</td>\n",
              "      <td>Palermo</td>\n",
              "      <td>2.0</td>\n",
              "      <td>1.0</td>\n",
              "      <td>1.0</td>\n",
              "      <td>85.0</td>\n",
              "      <td>50.0</td>\n",
              "      <td>295000.0</td>\n",
              "      <td>PH</td>\n",
              "      <td>67.0</td>\n",
              "      <td>False</td>\n",
              "    </tr>\n",
              "    <tr>\n",
              "      <th>4</th>\n",
              "      <td>Bs.As. G.B.A. Zona Sur</td>\n",
              "      <td>La Plata</td>\n",
              "      <td>2.0</td>\n",
              "      <td>1.0</td>\n",
              "      <td>1.0</td>\n",
              "      <td>50.0</td>\n",
              "      <td>35.0</td>\n",
              "      <td>40000.0</td>\n",
              "      <td>PH</td>\n",
              "      <td>146.0</td>\n",
              "      <td>False</td>\n",
              "    </tr>\n",
              "  </tbody>\n",
              "</table>\n",
              "</div>"
            ],
            "text/plain": [
              "                       l2             l3  ...  dif_days  adjetivos\n",
              "0         Capital Federal  San Cristobal  ...      67.0      False\n",
              "1         Capital Federal          Boedo  ...      35.0       True\n",
              "2         Capital Federal        Palermo  ...      15.0      False\n",
              "3         Capital Federal        Palermo  ...      67.0      False\n",
              "4  Bs.As. G.B.A. Zona Sur       La Plata  ...     146.0      False\n",
              "\n",
              "[5 rows x 11 columns]"
            ]
          },
          "metadata": {
            "tags": []
          },
          "execution_count": 19
        }
      ]
    },
    {
      "cell_type": "code",
      "metadata": {
        "colab": {
          "base_uri": "https://localhost:8080/"
        },
        "id": "yDwlxSfINKvP",
        "outputId": "6004ee4a-b1a5-4aaf-c205-38b968412057"
      },
      "source": [
        "#Dif_days\n",
        "df3[\"dif_days\"] = df3.groupby(\"property_type\")[\"dif_days\"].transform(\n",
        "    lambda grp: grp.fillna(np.mean(grp)))\n",
        "\n",
        "\n",
        "#Bathrooms\n",
        "df3[\"bathrooms\"] = df3.groupby(\"property_type\")[\"bathrooms\"].transform(\n",
        "    lambda grp: grp.fillna(np.mean(grp)))\n",
        "\n",
        "#Surface total\n",
        "df3[\"surface_total\"] = df3.groupby(\"property_type\")[\"surface_total\"].transform(\n",
        "    lambda grp: grp.fillna(np.mean(grp)))\n",
        "\n",
        "#Surface covered\n",
        "df3[\"surface_covered\"] = df3.groupby(\"property_type\")[\"surface_covered\"].transform(\n",
        "    lambda grp: grp.fillna(np.mean(grp)))\n",
        "\n",
        "df3.isna().sum()"
      ],
      "execution_count": null,
      "outputs": [
        {
          "output_type": "stream",
          "text": [
            "/usr/local/lib/python3.6/dist-packages/ipykernel_launcher.py:3: SettingWithCopyWarning: \n",
            "A value is trying to be set on a copy of a slice from a DataFrame.\n",
            "Try using .loc[row_indexer,col_indexer] = value instead\n",
            "\n",
            "See the caveats in the documentation: https://pandas.pydata.org/pandas-docs/stable/user_guide/indexing.html#returning-a-view-versus-a-copy\n",
            "  This is separate from the ipykernel package so we can avoid doing imports until\n",
            "/usr/local/lib/python3.6/dist-packages/ipykernel_launcher.py:8: SettingWithCopyWarning: \n",
            "A value is trying to be set on a copy of a slice from a DataFrame.\n",
            "Try using .loc[row_indexer,col_indexer] = value instead\n",
            "\n",
            "See the caveats in the documentation: https://pandas.pydata.org/pandas-docs/stable/user_guide/indexing.html#returning-a-view-versus-a-copy\n",
            "  \n",
            "/usr/local/lib/python3.6/dist-packages/ipykernel_launcher.py:12: SettingWithCopyWarning: \n",
            "A value is trying to be set on a copy of a slice from a DataFrame.\n",
            "Try using .loc[row_indexer,col_indexer] = value instead\n",
            "\n",
            "See the caveats in the documentation: https://pandas.pydata.org/pandas-docs/stable/user_guide/indexing.html#returning-a-view-versus-a-copy\n",
            "  if sys.path[0] == '':\n",
            "/usr/local/lib/python3.6/dist-packages/ipykernel_launcher.py:16: SettingWithCopyWarning: \n",
            "A value is trying to be set on a copy of a slice from a DataFrame.\n",
            "Try using .loc[row_indexer,col_indexer] = value instead\n",
            "\n",
            "See the caveats in the documentation: https://pandas.pydata.org/pandas-docs/stable/user_guide/indexing.html#returning-a-view-versus-a-copy\n",
            "  app.launch_new_instance()\n"
          ],
          "name": "stderr"
        },
        {
          "output_type": "execute_result",
          "data": {
            "text/plain": [
              "l2                 0\n",
              "l3                 0\n",
              "rooms              0\n",
              "bedrooms           0\n",
              "bathrooms          0\n",
              "surface_total      0\n",
              "surface_covered    0\n",
              "price              0\n",
              "property_type      0\n",
              "dif_days           0\n",
              "adjetivos          0\n",
              "dtype: int64"
            ]
          },
          "metadata": {
            "tags": []
          },
          "execution_count": 20
        }
      ]
    },
    {
      "cell_type": "markdown",
      "metadata": {
        "id": "Ku6pulYxOF-l"
      },
      "source": [
        "Del proyecto 1 se identificó que podría existir una inconsistencia en las variables de superficie, en donde la superficie cubierta no podría ser superior a la total. Con las limpiezas que se le han hecho a la base de datos hasta este punto del ejercicio existen 1.939 registros de propiedades que tienen esta inconsistencia. Para corregirlo se impuratá el valor de la superficie total a la que cumpla con esta inconsistencia y al menos no persistirá el error y se asumirá que en estas propiedades la superficie total es exactamente igual a la cubierta. "
      ]
    },
    {
      "cell_type": "code",
      "metadata": {
        "colab": {
          "base_uri": "https://localhost:8080/",
          "height": 195
        },
        "id": "jeDbfn3ueUYZ",
        "outputId": "ad96bc9b-782b-448a-9156-d11a3bbf198b"
      },
      "source": [
        "df3.head()"
      ],
      "execution_count": null,
      "outputs": [
        {
          "output_type": "execute_result",
          "data": {
            "text/html": [
              "<div>\n",
              "<style scoped>\n",
              "    .dataframe tbody tr th:only-of-type {\n",
              "        vertical-align: middle;\n",
              "    }\n",
              "\n",
              "    .dataframe tbody tr th {\n",
              "        vertical-align: top;\n",
              "    }\n",
              "\n",
              "    .dataframe thead th {\n",
              "        text-align: right;\n",
              "    }\n",
              "</style>\n",
              "<table border=\"1\" class=\"dataframe\">\n",
              "  <thead>\n",
              "    <tr style=\"text-align: right;\">\n",
              "      <th></th>\n",
              "      <th>l2</th>\n",
              "      <th>l3</th>\n",
              "      <th>rooms</th>\n",
              "      <th>bedrooms</th>\n",
              "      <th>bathrooms</th>\n",
              "      <th>surface_total</th>\n",
              "      <th>surface_covered</th>\n",
              "      <th>price</th>\n",
              "      <th>property_type</th>\n",
              "      <th>dif_days</th>\n",
              "      <th>adjetivos</th>\n",
              "    </tr>\n",
              "  </thead>\n",
              "  <tbody>\n",
              "    <tr>\n",
              "      <th>0</th>\n",
              "      <td>Capital Federal</td>\n",
              "      <td>San Cristobal</td>\n",
              "      <td>7.0</td>\n",
              "      <td>7.0</td>\n",
              "      <td>2.0</td>\n",
              "      <td>140.0</td>\n",
              "      <td>140.0</td>\n",
              "      <td>153000.0</td>\n",
              "      <td>Departamento</td>\n",
              "      <td>67.0</td>\n",
              "      <td>False</td>\n",
              "    </tr>\n",
              "    <tr>\n",
              "      <th>1</th>\n",
              "      <td>Capital Federal</td>\n",
              "      <td>Boedo</td>\n",
              "      <td>2.0</td>\n",
              "      <td>1.0</td>\n",
              "      <td>2.0</td>\n",
              "      <td>70.0</td>\n",
              "      <td>58.0</td>\n",
              "      <td>159000.0</td>\n",
              "      <td>PH</td>\n",
              "      <td>35.0</td>\n",
              "      <td>True</td>\n",
              "    </tr>\n",
              "    <tr>\n",
              "      <th>2</th>\n",
              "      <td>Capital Federal</td>\n",
              "      <td>Palermo</td>\n",
              "      <td>2.0</td>\n",
              "      <td>1.0</td>\n",
              "      <td>1.0</td>\n",
              "      <td>45.0</td>\n",
              "      <td>45.0</td>\n",
              "      <td>125000.0</td>\n",
              "      <td>PH</td>\n",
              "      <td>15.0</td>\n",
              "      <td>False</td>\n",
              "    </tr>\n",
              "    <tr>\n",
              "      <th>3</th>\n",
              "      <td>Capital Federal</td>\n",
              "      <td>Palermo</td>\n",
              "      <td>2.0</td>\n",
              "      <td>1.0</td>\n",
              "      <td>1.0</td>\n",
              "      <td>85.0</td>\n",
              "      <td>50.0</td>\n",
              "      <td>295000.0</td>\n",
              "      <td>PH</td>\n",
              "      <td>67.0</td>\n",
              "      <td>False</td>\n",
              "    </tr>\n",
              "    <tr>\n",
              "      <th>4</th>\n",
              "      <td>Bs.As. G.B.A. Zona Sur</td>\n",
              "      <td>La Plata</td>\n",
              "      <td>2.0</td>\n",
              "      <td>1.0</td>\n",
              "      <td>1.0</td>\n",
              "      <td>50.0</td>\n",
              "      <td>35.0</td>\n",
              "      <td>40000.0</td>\n",
              "      <td>PH</td>\n",
              "      <td>146.0</td>\n",
              "      <td>False</td>\n",
              "    </tr>\n",
              "  </tbody>\n",
              "</table>\n",
              "</div>"
            ],
            "text/plain": [
              "                       l2             l3  ...  dif_days  adjetivos\n",
              "0         Capital Federal  San Cristobal  ...      67.0      False\n",
              "1         Capital Federal          Boedo  ...      35.0       True\n",
              "2         Capital Federal        Palermo  ...      15.0      False\n",
              "3         Capital Federal        Palermo  ...      67.0      False\n",
              "4  Bs.As. G.B.A. Zona Sur       La Plata  ...     146.0      False\n",
              "\n",
              "[5 rows x 11 columns]"
            ]
          },
          "metadata": {
            "tags": []
          },
          "execution_count": 21
        }
      ]
    },
    {
      "cell_type": "code",
      "metadata": {
        "colab": {
          "base_uri": "https://localhost:8080/"
        },
        "id": "ahDiQG2COFIt",
        "outputId": "f92c60f1-8717-40bc-90de-ba35f65e46b0"
      },
      "source": [
        "inconsistencia = df3[\"surface_covered\"] > df3[\"surface_total\"]\n",
        "inconsistencia.sum()"
      ],
      "execution_count": null,
      "outputs": [
        {
          "output_type": "execute_result",
          "data": {
            "text/plain": [
              "1939"
            ]
          },
          "metadata": {
            "tags": []
          },
          "execution_count": 22
        }
      ]
    },
    {
      "cell_type": "code",
      "metadata": {
        "colab": {
          "base_uri": "https://localhost:8080/"
        },
        "id": "vDo4fSD4OsTk",
        "outputId": "033cf2b8-71c9-4a34-fc63-c92ba35bd617"
      },
      "source": [
        "df3.loc[df3[\"surface_covered\"] > df3[\"surface_total\"], \"surface_covered\"] = df3[\"surface_total\"]"
      ],
      "execution_count": null,
      "outputs": [
        {
          "output_type": "stream",
          "text": [
            "/usr/local/lib/python3.6/dist-packages/pandas/core/indexing.py:1743: SettingWithCopyWarning: \n",
            "A value is trying to be set on a copy of a slice from a DataFrame.\n",
            "Try using .loc[row_indexer,col_indexer] = value instead\n",
            "\n",
            "See the caveats in the documentation: https://pandas.pydata.org/pandas-docs/stable/user_guide/indexing.html#returning-a-view-versus-a-copy\n",
            "  isetter(ilocs[0], value)\n"
          ],
          "name": "stderr"
        }
      ]
    },
    {
      "cell_type": "code",
      "metadata": {
        "colab": {
          "base_uri": "https://localhost:8080/"
        },
        "id": "Os4hdgc4O7JQ",
        "outputId": "e5b5084b-a57a-48bf-bcef-ca90e6b6f0e2"
      },
      "source": [
        "#Comprobación de la corrección\n",
        "inconsistencia2=df3[\"surface_covered\"] > df3[\"surface_total\"]\n",
        "inconsistencia2.sum()"
      ],
      "execution_count": null,
      "outputs": [
        {
          "output_type": "execute_result",
          "data": {
            "text/plain": [
              "0"
            ]
          },
          "metadata": {
            "tags": []
          },
          "execution_count": 24
        }
      ]
    },
    {
      "cell_type": "code",
      "metadata": {
        "colab": {
          "base_uri": "https://localhost:8080/",
          "height": 195
        },
        "id": "__PG338ReBH4",
        "outputId": "67f8ec34-3655-4c67-ca8e-68eac611727f"
      },
      "source": [
        "df3.head()"
      ],
      "execution_count": null,
      "outputs": [
        {
          "output_type": "execute_result",
          "data": {
            "text/html": [
              "<div>\n",
              "<style scoped>\n",
              "    .dataframe tbody tr th:only-of-type {\n",
              "        vertical-align: middle;\n",
              "    }\n",
              "\n",
              "    .dataframe tbody tr th {\n",
              "        vertical-align: top;\n",
              "    }\n",
              "\n",
              "    .dataframe thead th {\n",
              "        text-align: right;\n",
              "    }\n",
              "</style>\n",
              "<table border=\"1\" class=\"dataframe\">\n",
              "  <thead>\n",
              "    <tr style=\"text-align: right;\">\n",
              "      <th></th>\n",
              "      <th>l2</th>\n",
              "      <th>l3</th>\n",
              "      <th>rooms</th>\n",
              "      <th>bedrooms</th>\n",
              "      <th>bathrooms</th>\n",
              "      <th>surface_total</th>\n",
              "      <th>surface_covered</th>\n",
              "      <th>price</th>\n",
              "      <th>property_type</th>\n",
              "      <th>dif_days</th>\n",
              "      <th>adjetivos</th>\n",
              "    </tr>\n",
              "  </thead>\n",
              "  <tbody>\n",
              "    <tr>\n",
              "      <th>0</th>\n",
              "      <td>Capital Federal</td>\n",
              "      <td>San Cristobal</td>\n",
              "      <td>7.0</td>\n",
              "      <td>7.0</td>\n",
              "      <td>2.0</td>\n",
              "      <td>140.0</td>\n",
              "      <td>140.0</td>\n",
              "      <td>153000.0</td>\n",
              "      <td>Departamento</td>\n",
              "      <td>67.0</td>\n",
              "      <td>False</td>\n",
              "    </tr>\n",
              "    <tr>\n",
              "      <th>1</th>\n",
              "      <td>Capital Federal</td>\n",
              "      <td>Boedo</td>\n",
              "      <td>2.0</td>\n",
              "      <td>1.0</td>\n",
              "      <td>2.0</td>\n",
              "      <td>70.0</td>\n",
              "      <td>58.0</td>\n",
              "      <td>159000.0</td>\n",
              "      <td>PH</td>\n",
              "      <td>35.0</td>\n",
              "      <td>True</td>\n",
              "    </tr>\n",
              "    <tr>\n",
              "      <th>2</th>\n",
              "      <td>Capital Federal</td>\n",
              "      <td>Palermo</td>\n",
              "      <td>2.0</td>\n",
              "      <td>1.0</td>\n",
              "      <td>1.0</td>\n",
              "      <td>45.0</td>\n",
              "      <td>45.0</td>\n",
              "      <td>125000.0</td>\n",
              "      <td>PH</td>\n",
              "      <td>15.0</td>\n",
              "      <td>False</td>\n",
              "    </tr>\n",
              "    <tr>\n",
              "      <th>3</th>\n",
              "      <td>Capital Federal</td>\n",
              "      <td>Palermo</td>\n",
              "      <td>2.0</td>\n",
              "      <td>1.0</td>\n",
              "      <td>1.0</td>\n",
              "      <td>85.0</td>\n",
              "      <td>50.0</td>\n",
              "      <td>295000.0</td>\n",
              "      <td>PH</td>\n",
              "      <td>67.0</td>\n",
              "      <td>False</td>\n",
              "    </tr>\n",
              "    <tr>\n",
              "      <th>4</th>\n",
              "      <td>Bs.As. G.B.A. Zona Sur</td>\n",
              "      <td>La Plata</td>\n",
              "      <td>2.0</td>\n",
              "      <td>1.0</td>\n",
              "      <td>1.0</td>\n",
              "      <td>50.0</td>\n",
              "      <td>35.0</td>\n",
              "      <td>40000.0</td>\n",
              "      <td>PH</td>\n",
              "      <td>146.0</td>\n",
              "      <td>False</td>\n",
              "    </tr>\n",
              "  </tbody>\n",
              "</table>\n",
              "</div>"
            ],
            "text/plain": [
              "                       l2             l3  ...  dif_days  adjetivos\n",
              "0         Capital Federal  San Cristobal  ...      67.0      False\n",
              "1         Capital Federal          Boedo  ...      35.0       True\n",
              "2         Capital Federal        Palermo  ...      15.0      False\n",
              "3         Capital Federal        Palermo  ...      67.0      False\n",
              "4  Bs.As. G.B.A. Zona Sur       La Plata  ...     146.0      False\n",
              "\n",
              "[5 rows x 11 columns]"
            ]
          },
          "metadata": {
            "tags": []
          },
          "execution_count": 25
        }
      ]
    },
    {
      "cell_type": "markdown",
      "metadata": {
        "id": "c7SaXppaPGiB"
      },
      "source": [
        "**5. Encoding**\n",
        "\n",
        "Aquellas variables/columnas que tienen valores categóricos es importante tenerlas con una asignación numérica que permita incluirlas en los modelos. Variables como el barrio en el que está la propiedad son de gran relevancia para el análisis pues influye en las condiciones de entorno de la propiedad. "
      ]
    },
    {
      "cell_type": "code",
      "metadata": {
        "colab": {
          "base_uri": "https://localhost:8080/",
          "height": 474
        },
        "id": "rdv5Z-n6PdYu",
        "outputId": "63063f11-aaf8-4d25-8a8c-2ca115f254cc"
      },
      "source": [
        "from sklearn.preprocessing import OrdinalEncoder\n",
        "\n",
        "ord_enc = OrdinalEncoder()\n",
        "df3[\"property_type_en\"] = ord_enc.fit_transform(df3[[\"property_type\"]])\n",
        "df3[[\"property_type\", \"property_type_en\"]].head(11)"
      ],
      "execution_count": null,
      "outputs": [
        {
          "output_type": "stream",
          "text": [
            "/usr/local/lib/python3.6/dist-packages/ipykernel_launcher.py:4: SettingWithCopyWarning: \n",
            "A value is trying to be set on a copy of a slice from a DataFrame.\n",
            "Try using .loc[row_indexer,col_indexer] = value instead\n",
            "\n",
            "See the caveats in the documentation: https://pandas.pydata.org/pandas-docs/stable/user_guide/indexing.html#returning-a-view-versus-a-copy\n",
            "  after removing the cwd from sys.path.\n"
          ],
          "name": "stderr"
        },
        {
          "output_type": "execute_result",
          "data": {
            "text/html": [
              "<div>\n",
              "<style scoped>\n",
              "    .dataframe tbody tr th:only-of-type {\n",
              "        vertical-align: middle;\n",
              "    }\n",
              "\n",
              "    .dataframe tbody tr th {\n",
              "        vertical-align: top;\n",
              "    }\n",
              "\n",
              "    .dataframe thead th {\n",
              "        text-align: right;\n",
              "    }\n",
              "</style>\n",
              "<table border=\"1\" class=\"dataframe\">\n",
              "  <thead>\n",
              "    <tr style=\"text-align: right;\">\n",
              "      <th></th>\n",
              "      <th>property_type</th>\n",
              "      <th>property_type_en</th>\n",
              "    </tr>\n",
              "  </thead>\n",
              "  <tbody>\n",
              "    <tr>\n",
              "      <th>0</th>\n",
              "      <td>Departamento</td>\n",
              "      <td>3.0</td>\n",
              "    </tr>\n",
              "    <tr>\n",
              "      <th>1</th>\n",
              "      <td>PH</td>\n",
              "      <td>9.0</td>\n",
              "    </tr>\n",
              "    <tr>\n",
              "      <th>2</th>\n",
              "      <td>PH</td>\n",
              "      <td>9.0</td>\n",
              "    </tr>\n",
              "    <tr>\n",
              "      <th>3</th>\n",
              "      <td>PH</td>\n",
              "      <td>9.0</td>\n",
              "    </tr>\n",
              "    <tr>\n",
              "      <th>4</th>\n",
              "      <td>PH</td>\n",
              "      <td>9.0</td>\n",
              "    </tr>\n",
              "    <tr>\n",
              "      <th>5</th>\n",
              "      <td>PH</td>\n",
              "      <td>9.0</td>\n",
              "    </tr>\n",
              "    <tr>\n",
              "      <th>6</th>\n",
              "      <td>PH</td>\n",
              "      <td>9.0</td>\n",
              "    </tr>\n",
              "    <tr>\n",
              "      <th>7</th>\n",
              "      <td>PH</td>\n",
              "      <td>9.0</td>\n",
              "    </tr>\n",
              "    <tr>\n",
              "      <th>8</th>\n",
              "      <td>PH</td>\n",
              "      <td>9.0</td>\n",
              "    </tr>\n",
              "    <tr>\n",
              "      <th>9</th>\n",
              "      <td>PH</td>\n",
              "      <td>9.0</td>\n",
              "    </tr>\n",
              "    <tr>\n",
              "      <th>10</th>\n",
              "      <td>PH</td>\n",
              "      <td>9.0</td>\n",
              "    </tr>\n",
              "  </tbody>\n",
              "</table>\n",
              "</div>"
            ],
            "text/plain": [
              "   property_type  property_type_en\n",
              "0   Departamento               3.0\n",
              "1             PH               9.0\n",
              "2             PH               9.0\n",
              "3             PH               9.0\n",
              "4             PH               9.0\n",
              "5             PH               9.0\n",
              "6             PH               9.0\n",
              "7             PH               9.0\n",
              "8             PH               9.0\n",
              "9             PH               9.0\n",
              "10            PH               9.0"
            ]
          },
          "metadata": {
            "tags": []
          },
          "execution_count": 26
        }
      ]
    },
    {
      "cell_type": "code",
      "metadata": {
        "colab": {
          "base_uri": "https://localhost:8080/",
          "height": 404
        },
        "id": "DjmzIH3GQS6A",
        "outputId": "e885a6b0-e806-4a31-d6c9-dfa70d577b1f"
      },
      "source": [
        "#Conteo del número de propiedades por tipo\n",
        "plt.figure(figsize=(16, 6))\n",
        "#https://python-graph-gallery.com/python-colors/\n",
        "#Paletas posibles: Spectral, Set2, Set3, RdPu, RdBu, PuRd, Accent, Paired\n",
        "plot1=sns.countplot(data = df3, x = 'property_type_en', palette='Paired', order=df3['property_type_en'].value_counts().index)\n",
        "plt.title(\"Número de propiedades por tipo\")\n",
        "plt.xlabel('Tipo de propiedad')\n",
        "plt.ylabel('Número de propiedades')\n",
        "\n",
        "\n",
        "for i in plot1.patches: \n",
        "  plot1.annotate(format(i.get_height()), (i.get_x()+i.get_width()/2., i.get_height()), ha='center', va='center', xytext=(0,5), textcoords='offset points')\n",
        "\n",
        "plt.show()"
      ],
      "execution_count": null,
      "outputs": [
        {
          "output_type": "display_data",
          "data": {
            "image/png": "[encoded data removed]",
            "text/plain": [
              "<Figure size 1152x432 with 1 Axes>"
            ]
          },
          "metadata": {
            "tags": [],
            "needs_background": "light"
          }
        }
      ]
    },
    {
      "cell_type": "code",
      "metadata": {
        "colab": {
          "base_uri": "https://localhost:8080/",
          "height": 474
        },
        "id": "O2dL8gNGQbZw",
        "outputId": "b153b14d-2406-4a09-d216-b3601939c77d"
      },
      "source": [
        "df3[\"l3_en\"] = ord_enc.fit_transform(df3[[\"l3\"]])\n",
        "df3[[\"l3\", \"l3_en\"]].head(11)"
      ],
      "execution_count": null,
      "outputs": [
        {
          "output_type": "stream",
          "text": [
            "/usr/local/lib/python3.6/dist-packages/ipykernel_launcher.py:1: SettingWithCopyWarning: \n",
            "A value is trying to be set on a copy of a slice from a DataFrame.\n",
            "Try using .loc[row_indexer,col_indexer] = value instead\n",
            "\n",
            "See the caveats in the documentation: https://pandas.pydata.org/pandas-docs/stable/user_guide/indexing.html#returning-a-view-versus-a-copy\n",
            "  \"\"\"Entry point for launching an IPython kernel.\n"
          ],
          "name": "stderr"
        },
        {
          "output_type": "execute_result",
          "data": {
            "text/html": [
              "<div>\n",
              "<style scoped>\n",
              "    .dataframe tbody tr th:only-of-type {\n",
              "        vertical-align: middle;\n",
              "    }\n",
              "\n",
              "    .dataframe tbody tr th {\n",
              "        vertical-align: top;\n",
              "    }\n",
              "\n",
              "    .dataframe thead th {\n",
              "        text-align: right;\n",
              "    }\n",
              "</style>\n",
              "<table border=\"1\" class=\"dataframe\">\n",
              "  <thead>\n",
              "    <tr style=\"text-align: right;\">\n",
              "      <th></th>\n",
              "      <th>l3</th>\n",
              "      <th>l3_en</th>\n",
              "    </tr>\n",
              "  </thead>\n",
              "  <tbody>\n",
              "    <tr>\n",
              "      <th>0</th>\n",
              "      <td>San Cristobal</td>\n",
              "      <td>63.0</td>\n",
              "    </tr>\n",
              "    <tr>\n",
              "      <th>1</th>\n",
              "      <td>Boedo</td>\n",
              "      <td>11.0</td>\n",
              "    </tr>\n",
              "    <tr>\n",
              "      <th>2</th>\n",
              "      <td>Palermo</td>\n",
              "      <td>48.0</td>\n",
              "    </tr>\n",
              "    <tr>\n",
              "      <th>3</th>\n",
              "      <td>Palermo</td>\n",
              "      <td>48.0</td>\n",
              "    </tr>\n",
              "    <tr>\n",
              "      <th>4</th>\n",
              "      <td>La Plata</td>\n",
              "      <td>33.0</td>\n",
              "    </tr>\n",
              "    <tr>\n",
              "      <th>5</th>\n",
              "      <td>Villa Crespo</td>\n",
              "      <td>76.0</td>\n",
              "    </tr>\n",
              "    <tr>\n",
              "      <th>6</th>\n",
              "      <td>Villa Crespo</td>\n",
              "      <td>76.0</td>\n",
              "    </tr>\n",
              "    <tr>\n",
              "      <th>7</th>\n",
              "      <td>Villa Crespo</td>\n",
              "      <td>76.0</td>\n",
              "    </tr>\n",
              "    <tr>\n",
              "      <th>8</th>\n",
              "      <td>Parque Patricios</td>\n",
              "      <td>53.0</td>\n",
              "    </tr>\n",
              "    <tr>\n",
              "      <th>9</th>\n",
              "      <td>Parque Patricios</td>\n",
              "      <td>53.0</td>\n",
              "    </tr>\n",
              "    <tr>\n",
              "      <th>10</th>\n",
              "      <td>Villa Pueyrredón</td>\n",
              "      <td>82.0</td>\n",
              "    </tr>\n",
              "  </tbody>\n",
              "</table>\n",
              "</div>"
            ],
            "text/plain": [
              "                  l3  l3_en\n",
              "0      San Cristobal   63.0\n",
              "1              Boedo   11.0\n",
              "2            Palermo   48.0\n",
              "3            Palermo   48.0\n",
              "4           La Plata   33.0\n",
              "5       Villa Crespo   76.0\n",
              "6       Villa Crespo   76.0\n",
              "7       Villa Crespo   76.0\n",
              "8   Parque Patricios   53.0\n",
              "9   Parque Patricios   53.0\n",
              "10  Villa Pueyrredón   82.0"
            ]
          },
          "metadata": {
            "tags": []
          },
          "execution_count": 28
        }
      ]
    },
    {
      "cell_type": "code",
      "metadata": {
        "colab": {
          "base_uri": "https://localhost:8080/",
          "height": 474
        },
        "id": "4DCt7oKwdARZ",
        "outputId": "e44b0f93-ff02-442c-b600-97e2f70c538d"
      },
      "source": [
        "df3[\"adjetivos_en\"] = ord_enc.fit_transform(df3[[\"adjetivos\"]])\n",
        "df3[[\"adjetivos\", \"adjetivos_en\"]].head(11)"
      ],
      "execution_count": null,
      "outputs": [
        {
          "output_type": "stream",
          "text": [
            "/usr/local/lib/python3.6/dist-packages/ipykernel_launcher.py:1: SettingWithCopyWarning: \n",
            "A value is trying to be set on a copy of a slice from a DataFrame.\n",
            "Try using .loc[row_indexer,col_indexer] = value instead\n",
            "\n",
            "See the caveats in the documentation: https://pandas.pydata.org/pandas-docs/stable/user_guide/indexing.html#returning-a-view-versus-a-copy\n",
            "  \"\"\"Entry point for launching an IPython kernel.\n"
          ],
          "name": "stderr"
        },
        {
          "output_type": "execute_result",
          "data": {
            "text/html": [
              "<div>\n",
              "<style scoped>\n",
              "    .dataframe tbody tr th:only-of-type {\n",
              "        vertical-align: middle;\n",
              "    }\n",
              "\n",
              "    .dataframe tbody tr th {\n",
              "        vertical-align: top;\n",
              "    }\n",
              "\n",
              "    .dataframe thead th {\n",
              "        text-align: right;\n",
              "    }\n",
              "</style>\n",
              "<table border=\"1\" class=\"dataframe\">\n",
              "  <thead>\n",
              "    <tr style=\"text-align: right;\">\n",
              "      <th></th>\n",
              "      <th>adjetivos</th>\n",
              "      <th>adjetivos_en</th>\n",
              "    </tr>\n",
              "  </thead>\n",
              "  <tbody>\n",
              "    <tr>\n",
              "      <th>0</th>\n",
              "      <td>False</td>\n",
              "      <td>0.0</td>\n",
              "    </tr>\n",
              "    <tr>\n",
              "      <th>1</th>\n",
              "      <td>True</td>\n",
              "      <td>1.0</td>\n",
              "    </tr>\n",
              "    <tr>\n",
              "      <th>2</th>\n",
              "      <td>False</td>\n",
              "      <td>0.0</td>\n",
              "    </tr>\n",
              "    <tr>\n",
              "      <th>3</th>\n",
              "      <td>False</td>\n",
              "      <td>0.0</td>\n",
              "    </tr>\n",
              "    <tr>\n",
              "      <th>4</th>\n",
              "      <td>False</td>\n",
              "      <td>0.0</td>\n",
              "    </tr>\n",
              "    <tr>\n",
              "      <th>5</th>\n",
              "      <td>False</td>\n",
              "      <td>0.0</td>\n",
              "    </tr>\n",
              "    <tr>\n",
              "      <th>6</th>\n",
              "      <td>False</td>\n",
              "      <td>0.0</td>\n",
              "    </tr>\n",
              "    <tr>\n",
              "      <th>7</th>\n",
              "      <td>False</td>\n",
              "      <td>0.0</td>\n",
              "    </tr>\n",
              "    <tr>\n",
              "      <th>8</th>\n",
              "      <td>False</td>\n",
              "      <td>0.0</td>\n",
              "    </tr>\n",
              "    <tr>\n",
              "      <th>9</th>\n",
              "      <td>False</td>\n",
              "      <td>0.0</td>\n",
              "    </tr>\n",
              "    <tr>\n",
              "      <th>10</th>\n",
              "      <td>False</td>\n",
              "      <td>0.0</td>\n",
              "    </tr>\n",
              "  </tbody>\n",
              "</table>\n",
              "</div>"
            ],
            "text/plain": [
              "    adjetivos  adjetivos_en\n",
              "0       False           0.0\n",
              "1        True           1.0\n",
              "2       False           0.0\n",
              "3       False           0.0\n",
              "4       False           0.0\n",
              "5       False           0.0\n",
              "6       False           0.0\n",
              "7       False           0.0\n",
              "8       False           0.0\n",
              "9       False           0.0\n",
              "10      False           0.0"
            ]
          },
          "metadata": {
            "tags": []
          },
          "execution_count": 29
        }
      ]
    },
    {
      "cell_type": "code",
      "metadata": {
        "colab": {
          "base_uri": "https://localhost:8080/"
        },
        "id": "A7jrAsNPdIdY",
        "outputId": "a9f1e19a-331a-4108-ffc2-5307ff198083"
      },
      "source": [
        "columnas_eliminar1=['l2', 'l3', 'adjetivos', 'property_type']\n",
        "\n",
        "df3.drop(columns=columnas_eliminar1, inplace=True)\n",
        "df3.shape"
      ],
      "execution_count": null,
      "outputs": [
        {
          "output_type": "stream",
          "text": [
            "/usr/local/lib/python3.6/dist-packages/pandas/core/frame.py:4174: SettingWithCopyWarning: \n",
            "A value is trying to be set on a copy of a slice from a DataFrame\n",
            "\n",
            "See the caveats in the documentation: https://pandas.pydata.org/pandas-docs/stable/user_guide/indexing.html#returning-a-view-versus-a-copy\n",
            "  errors=errors,\n"
          ],
          "name": "stderr"
        },
        {
          "output_type": "execute_result",
          "data": {
            "text/plain": [
              "(135666, 10)"
            ]
          },
          "metadata": {
            "tags": []
          },
          "execution_count": 30
        }
      ]
    },
    {
      "cell_type": "code",
      "metadata": {
        "colab": {
          "base_uri": "https://localhost:8080/",
          "height": 402
        },
        "id": "AtXpbug3dbZF",
        "outputId": "71f166d4-859c-40ba-829e-0eefaa9aa103"
      },
      "source": [
        "df3.head(100)"
      ],
      "execution_count": null,
      "outputs": [
        {
          "output_type": "execute_result",
          "data": {
            "text/html": [
              "<div>\n",
              "<style scoped>\n",
              "    .dataframe tbody tr th:only-of-type {\n",
              "        vertical-align: middle;\n",
              "    }\n",
              "\n",
              "    .dataframe tbody tr th {\n",
              "        vertical-align: top;\n",
              "    }\n",
              "\n",
              "    .dataframe thead th {\n",
              "        text-align: right;\n",
              "    }\n",
              "</style>\n",
              "<table border=\"1\" class=\"dataframe\">\n",
              "  <thead>\n",
              "    <tr style=\"text-align: right;\">\n",
              "      <th></th>\n",
              "      <th>rooms</th>\n",
              "      <th>bedrooms</th>\n",
              "      <th>bathrooms</th>\n",
              "      <th>surface_total</th>\n",
              "      <th>surface_covered</th>\n",
              "      <th>price</th>\n",
              "      <th>dif_days</th>\n",
              "      <th>property_type_en</th>\n",
              "      <th>l3_en</th>\n",
              "      <th>adjetivos_en</th>\n",
              "    </tr>\n",
              "  </thead>\n",
              "  <tbody>\n",
              "    <tr>\n",
              "      <th>0</th>\n",
              "      <td>7.0</td>\n",
              "      <td>7.0</td>\n",
              "      <td>2.0</td>\n",
              "      <td>140.0</td>\n",
              "      <td>140.0</td>\n",
              "      <td>153000.0</td>\n",
              "      <td>67.0</td>\n",
              "      <td>3.0</td>\n",
              "      <td>63.0</td>\n",
              "      <td>0.0</td>\n",
              "    </tr>\n",
              "    <tr>\n",
              "      <th>1</th>\n",
              "      <td>2.0</td>\n",
              "      <td>1.0</td>\n",
              "      <td>2.0</td>\n",
              "      <td>70.0</td>\n",
              "      <td>58.0</td>\n",
              "      <td>159000.0</td>\n",
              "      <td>35.0</td>\n",
              "      <td>9.0</td>\n",
              "      <td>11.0</td>\n",
              "      <td>1.0</td>\n",
              "    </tr>\n",
              "    <tr>\n",
              "      <th>2</th>\n",
              "      <td>2.0</td>\n",
              "      <td>1.0</td>\n",
              "      <td>1.0</td>\n",
              "      <td>45.0</td>\n",
              "      <td>45.0</td>\n",
              "      <td>125000.0</td>\n",
              "      <td>15.0</td>\n",
              "      <td>9.0</td>\n",
              "      <td>48.0</td>\n",
              "      <td>0.0</td>\n",
              "    </tr>\n",
              "    <tr>\n",
              "      <th>3</th>\n",
              "      <td>2.0</td>\n",
              "      <td>1.0</td>\n",
              "      <td>1.0</td>\n",
              "      <td>85.0</td>\n",
              "      <td>50.0</td>\n",
              "      <td>295000.0</td>\n",
              "      <td>67.0</td>\n",
              "      <td>9.0</td>\n",
              "      <td>48.0</td>\n",
              "      <td>0.0</td>\n",
              "    </tr>\n",
              "    <tr>\n",
              "      <th>4</th>\n",
              "      <td>2.0</td>\n",
              "      <td>1.0</td>\n",
              "      <td>1.0</td>\n",
              "      <td>50.0</td>\n",
              "      <td>35.0</td>\n",
              "      <td>40000.0</td>\n",
              "      <td>146.0</td>\n",
              "      <td>9.0</td>\n",
              "      <td>33.0</td>\n",
              "      <td>0.0</td>\n",
              "    </tr>\n",
              "    <tr>\n",
              "      <th>...</th>\n",
              "      <td>...</td>\n",
              "      <td>...</td>\n",
              "      <td>...</td>\n",
              "      <td>...</td>\n",
              "      <td>...</td>\n",
              "      <td>...</td>\n",
              "      <td>...</td>\n",
              "      <td>...</td>\n",
              "      <td>...</td>\n",
              "      <td>...</td>\n",
              "    </tr>\n",
              "    <tr>\n",
              "      <th>95</th>\n",
              "      <td>2.0</td>\n",
              "      <td>1.0</td>\n",
              "      <td>1.0</td>\n",
              "      <td>43.0</td>\n",
              "      <td>37.0</td>\n",
              "      <td>151500.0</td>\n",
              "      <td>5.0</td>\n",
              "      <td>3.0</td>\n",
              "      <td>18.0</td>\n",
              "      <td>1.0</td>\n",
              "    </tr>\n",
              "    <tr>\n",
              "      <th>96</th>\n",
              "      <td>2.0</td>\n",
              "      <td>1.0</td>\n",
              "      <td>1.0</td>\n",
              "      <td>43.0</td>\n",
              "      <td>40.0</td>\n",
              "      <td>95000.0</td>\n",
              "      <td>67.0</td>\n",
              "      <td>3.0</td>\n",
              "      <td>32.0</td>\n",
              "      <td>0.0</td>\n",
              "    </tr>\n",
              "    <tr>\n",
              "      <th>97</th>\n",
              "      <td>1.0</td>\n",
              "      <td>1.0</td>\n",
              "      <td>1.0</td>\n",
              "      <td>25.0</td>\n",
              "      <td>25.0</td>\n",
              "      <td>70000.0</td>\n",
              "      <td>127.0</td>\n",
              "      <td>3.0</td>\n",
              "      <td>32.0</td>\n",
              "      <td>0.0</td>\n",
              "    </tr>\n",
              "    <tr>\n",
              "      <th>98</th>\n",
              "      <td>2.0</td>\n",
              "      <td>1.0</td>\n",
              "      <td>1.0</td>\n",
              "      <td>48.0</td>\n",
              "      <td>48.0</td>\n",
              "      <td>165000.0</td>\n",
              "      <td>67.0</td>\n",
              "      <td>3.0</td>\n",
              "      <td>65.0</td>\n",
              "      <td>0.0</td>\n",
              "    </tr>\n",
              "    <tr>\n",
              "      <th>99</th>\n",
              "      <td>2.0</td>\n",
              "      <td>1.0</td>\n",
              "      <td>1.0</td>\n",
              "      <td>45.0</td>\n",
              "      <td>45.0</td>\n",
              "      <td>95000.0</td>\n",
              "      <td>67.0</td>\n",
              "      <td>3.0</td>\n",
              "      <td>66.0</td>\n",
              "      <td>1.0</td>\n",
              "    </tr>\n",
              "  </tbody>\n",
              "</table>\n",
              "<p>100 rows × 10 columns</p>\n",
              "</div>"
            ],
            "text/plain": [
              "    rooms  bedrooms  bathrooms  ...  property_type_en  l3_en  adjetivos_en\n",
              "0     7.0       7.0        2.0  ...               3.0   63.0           0.0\n",
              "1     2.0       1.0        2.0  ...               9.0   11.0           1.0\n",
              "2     2.0       1.0        1.0  ...               9.0   48.0           0.0\n",
              "3     2.0       1.0        1.0  ...               9.0   48.0           0.0\n",
              "4     2.0       1.0        1.0  ...               9.0   33.0           0.0\n",
              "..    ...       ...        ...  ...               ...    ...           ...\n",
              "95    2.0       1.0        1.0  ...               3.0   18.0           1.0\n",
              "96    2.0       1.0        1.0  ...               3.0   32.0           0.0\n",
              "97    1.0       1.0        1.0  ...               3.0   32.0           0.0\n",
              "98    2.0       1.0        1.0  ...               3.0   65.0           0.0\n",
              "99    2.0       1.0        1.0  ...               3.0   66.0           1.0\n",
              "\n",
              "[100 rows x 10 columns]"
            ]
          },
          "metadata": {
            "tags": []
          },
          "execution_count": 31
        }
      ]
    },
    {
      "cell_type": "markdown",
      "metadata": {
        "id": "D2sO9vsUy9ZA"
      },
      "source": [
        "Traigo la limpieza del dataset utilizado en el Proyecto 1 "
      ]
    },
    {
      "cell_type": "code",
      "metadata": {
        "id": "3ZXinJQZzT2B"
      },
      "source": [
        "#1. Propiedades en Capital Federal\n",
        "temp = df[df['l2'].str.contains('Capital Federal')]\n",
        "\n",
        "#1. Tipo de propiedad: Departamento, PH o Casa\n",
        "select = ['Casa', 'Departamento', 'PH']\n",
        "data_ml = temp[temp['property_type'].isin(select)] \n",
        "\n",
        "#2. Superficie total menor a 1000 m2 y mayor a 15 m2.\n",
        "data_ml = data_ml[data_ml['surface_total'].between(15, 1000)]\n",
        "\n",
        "#3. Precio menor 4.000.000 dólares\n",
        "data_ml = data_ml[data_ml['price'].between(0, 4000000)]\n",
        "\n",
        "#4. Selecciona las columnas rooms, bedrooms, bathrooms, surface_total, surface_covered y price (6 variables)\n",
        "data_ml = data_ml[['rooms', 'bedrooms', 'bathrooms', 'surface_total', 'surface_covered', 'price']] \n",
        "\n",
        "#5. Descarta aquellas instancias con valores faltantes.\n",
        "data_ml = data_ml.dropna() #drop missing values"
      ],
      "execution_count": null,
      "outputs": []
    },
    {
      "cell_type": "code",
      "metadata": {
        "id": "78uSu15yzchr"
      },
      "source": [
        "# X e y para el dataset del proyecto 1 \n",
        "X_ml = data_ml.drop([\"price\"], axis=1)\n",
        "y_ml = data_ml.price/1000"
      ],
      "execution_count": null,
      "outputs": []
    },
    {
      "cell_type": "code",
      "metadata": {
        "id": "FbXxj2X7y8cC"
      },
      "source": [
        "#Realizar un Train/Test split de los datos\n",
        "from sklearn.model_selection import train_test_split\n",
        "X_train_ml, X_test_ml, y_train_ml, y_test_ml = train_test_split(X_ml, y_ml, train_size=0.8,test_size=0.2, random_state=42)"
      ],
      "execution_count": null,
      "outputs": []
    },
    {
      "cell_type": "code",
      "metadata": {
        "id": "17ZxjAE_yR45"
      },
      "source": [
        "#X e y par el dataset limpio en los pasos 1-5\n",
        "X_nd = df3.drop([\"price\"], axis = 1)\n",
        "y_nd = df3.price / 1000"
      ],
      "execution_count": null,
      "outputs": []
    },
    {
      "cell_type": "code",
      "metadata": {
        "id": "uheiuYX4yuiE"
      },
      "source": [
        "#Realizar un Train/Test split de los datos\n",
        "from sklearn.model_selection import train_test_split\n",
        "X_train_nd, X_test_nd, y_train_nd, y_test_nd = train_test_split(X_nd, y_nd, train_size=0.8,test_size=0.2, random_state=42)"
      ],
      "execution_count": null,
      "outputs": []
    },
    {
      "cell_type": "markdown",
      "metadata": {
        "id": "EXw18_p00KZQ"
      },
      "source": [
        "**Entrega 1 Conclusiones (Recordar)**\n",
        "\n",
        "En la entrega del primer proyecto se hizo un modelo de árbol de decisión y vecinos más cercanos. Al final del proyecto se concluyó que el modelo de vecinos más cercano tenía la metodología más sencilla y una facilidad mayor para optimizar sus hiperparámetros. \n",
        "\n"
      ]
    },
    {
      "cell_type": "markdown",
      "metadata": {
        "id": "0gG_NjQo2e6G"
      },
      "source": [
        "**Consigna:**\n",
        "\n",
        "Vuelve a entrenar el modelo implementado en la Entrega 01 - en particular, el árbol de decisión - con este nuevo dataset transformado. Evalúa su desempeño a partir del dataset obtenido luego de transformar los datos. ¿Hay una mejora en su desempeño? Compara con el desempeño obtenido en el proyecto 01. Sea cual sea la respuesta, intenta explicar a qué se debe."
      ]
    },
    {
      "cell_type": "markdown",
      "metadata": {
        "id": "1B83edT03OoR"
      },
      "source": [
        "**1. Comparación con Regresión lineal**"
      ]
    },
    {
      "cell_type": "markdown",
      "metadata": {
        "id": "HYL6MEHr3l8l"
      },
      "source": [
        "Métricas: Error medio absoluto (MAE) que indica en promedio qué tanto se equivoca el modelo en su predicción del valor verdadero. Por otro lado el R2 o coeficiente de determinación indica la bondad de ajuste del modelo, entre más cercano a 1 indica que las variables independientes explican la variable dependiente o target. "
      ]
    },
    {
      "cell_type": "code",
      "metadata": {
        "id": "yJFZqTzf3V-s"
      },
      "source": [
        "from sklearn.linear_model import LinearRegression\n",
        "from sklearn.metrics import mean_absolute_error\n",
        "from sklearn.metrics import r2_score\n",
        "from sklearn.metrics import mean_squared_error"
      ],
      "execution_count": null,
      "outputs": []
    },
    {
      "cell_type": "code",
      "metadata": {
        "colab": {
          "base_uri": "https://localhost:8080/"
        },
        "id": "9Wj3UNsU2eI3",
        "outputId": "b259b8f2-a09f-413b-cba3-904dc0746a0c"
      },
      "source": [
        "linear_regression = LinearRegression()\n",
        "\n",
        "#Entrenamiento para los dos datasets\n",
        "#New dataset\n",
        "linear_regression.fit(X_train_nd, y_train_nd)\n",
        "pred_nd = linear_regression.predict(X_test_nd)\n",
        "#Dataset del royecto 1 \n",
        "linear_regression.fit(X_train_ml, y_train_ml)\n",
        "pred_ml = linear_regression.predict(X_test_ml)\n",
        "\n",
        "\n",
        "#Métricas de evaluación de modelos\n",
        "error_nd = round(mean_absolute_error(y_test_nd, pred_nd))\n",
        "r2_nd = r2_score(y_test_nd, pred_nd)\n",
        "rmse_nd=mean_squared_error(y_test_nd, pred_nd)\n",
        "\n",
        "error_ml = round(mean_absolute_error(y_test_ml, pred_ml))\n",
        "r2_ml = r2_score(y_test_ml, pred_ml)\n",
        "rmse_ml=mean_squared_error(y_test_ml, pred_ml)\n",
        "\n",
        "print(\"MAE con el nuevo dataset: \"+str(error_nd)+ \" dólares\")\n",
        "print(\"R2 con el nuevo dataset: \"+str(r2_nd))\n",
        "print(\"RMSE con el nuevo dataset: \"+str(rmse_nd))\n",
        "print(\"MAE con el dataset del proyecto 1: \"+str(error_ml)+\" dólares\")\n",
        "print(\"R2 con el dataset del proyecto 1: \"+str(r2_ml))\n",
        "print(\"RMSE con el dataset del proyecto 1: \"+str(rmse_ml))"
      ],
      "execution_count": null,
      "outputs": [
        {
          "output_type": "stream",
          "text": [
            "MAE con el nuevo dataset: 56 dólares\n",
            "R2 con el nuevo dataset: 0.406439221881264\n",
            "RMSE con el nuevo dataset: 5612.534920357394\n",
            "MAE con el dataset del proyecto 1: 97 dólares\n",
            "R2 con el dataset del proyecto 1: 0.5469193790361684\n",
            "RMSE con el dataset del proyecto 1: 41318.6242765869\n"
          ],
          "name": "stdout"
        }
      ]
    },
    {
      "cell_type": "markdown",
      "metadata": {
        "id": "_dTlzEyl5noh"
      },
      "source": [
        "Comparando los resultados se puede observar que el error promedio de predicción con el dataset limpio en esta entrega mejora en 41 dólares. Sin embargo, la bondad de ajuste empeora en casi 0.14. Por su lado el RMSE es mucho más alto al correr el modelo con la base de datos del proyecto número 1."
      ]
    },
    {
      "cell_type": "markdown",
      "metadata": {
        "id": "fzbRFTjP55-P"
      },
      "source": [
        "**2. Comparación con Árbol de Decisión**"
      ]
    },
    {
      "cell_type": "code",
      "metadata": {
        "id": "zRGKgAK67Dar"
      },
      "source": [
        "from sklearn.tree import DecisionTreeRegressor\n",
        "m_tree = DecisionTreeRegressor()"
      ],
      "execution_count": null,
      "outputs": []
    },
    {
      "cell_type": "code",
      "metadata": {
        "colab": {
          "base_uri": "https://localhost:8080/"
        },
        "id": "712EpJBa55V_",
        "outputId": "2f4b9eec-99cc-4440-9bd4-7eb55a57afcf"
      },
      "source": [
        "#Entrenamiento para los dos datasets\n",
        "#New dataset\n",
        "m_tree.fit(X_train_nd, y_train_nd)\n",
        "pred_nd = m_tree.predict(X_test_nd)\n",
        "#Dataset del royecto 1 \n",
        "m_tree.fit(X_train_ml, y_train_ml)\n",
        "pred_ml = m_tree.predict(X_test_ml)\n",
        "\n",
        "\n",
        "#Métricas de evaluación de modelos\n",
        "error_nd = round(mean_absolute_error(y_test_nd, pred_nd))\n",
        "r2_nd = r2_score(y_test_nd, pred_nd)\n",
        "rmse_nd=mean_squared_error(y_test_nd, pred_nd)\n",
        "\n",
        "error_ml = round(mean_absolute_error(y_test_ml, pred_ml))\n",
        "r2_ml = r2_score(y_test_ml, pred_ml)\n",
        "rmse_ml=mean_squared_error(y_test_ml, pred_ml)\n",
        "\n",
        "print(\"MAE con el nuevo dataset: \"+str(error_nd)+ \" dólares\")\n",
        "print(\"R2 con el nuevo dataset: \"+str(r2_nd))\n",
        "print(\"RMSE con el nuevo dataset: \"+str(rmse_nd))\n",
        "print(\"MAE con el dataset del proyecto 1: \"+str(error_ml)+\" dólares\")\n",
        "print(\"R2 con el dataset del proyecto 1: \"+str(r2_ml))\n",
        "print(\"RMSE con el dataset del proyecto 1: \"+str(rmse_ml))"
      ],
      "execution_count": null,
      "outputs": [
        {
          "output_type": "stream",
          "text": [
            "MAE con el nuevo dataset: 32 dólares\n",
            "R2 con el nuevo dataset: 0.672962374929819\n",
            "RMSE con el nuevo dataset: 3092.3709224768963\n",
            "MAE con el dataset del proyecto 1: 50 dólares\n",
            "R2 con el dataset del proyecto 1: 0.7776305018780192\n",
            "RMSE con el dataset del proyecto 1: 20278.95548463279\n"
          ],
          "name": "stdout"
        }
      ]
    },
    {
      "cell_type": "markdown",
      "metadata": {
        "id": "8hY4i6Fh8MiH"
      },
      "source": [
        "Comparando los resultados se puede observar que el error promedio de predicción con el dataset limpio en esta entrega mejora en 17 dólares. Sin embargo, la bondad de ajuste empeora en casi 0.12. En este caso el RMSE continúa siendo más bajo en el modelo con el dataset limpio."
      ]
    },
    {
      "cell_type": "code",
      "metadata": {
        "colab": {
          "base_uri": "https://localhost:8080/",
          "height": 391
        },
        "id": "Jfc8baSZ8tTo",
        "outputId": "056fc590-5d68-45fc-c6d9-761506bff94b"
      },
      "source": [
        "plt.figure(figsize=(16,6))\n",
        "sns.regplot(y=y_test_nd,x=pred_nd,scatter_kws={\"color\": \"steelblue\",\"s\":8,\"edgecolors\":\"white\", \"marker\":\"+\"}, line_kws={'lw': 0.7, \"color\": \"darkblue\", \"marker\":\".\"})"
      ],
      "execution_count": null,
      "outputs": [
        {
          "output_type": "execute_result",
          "data": {
            "text/plain": [
              "<matplotlib.axes._subplots.AxesSubplot at 0x7f1b6c9bd7f0>"
            ]
          },
          "metadata": {
            "tags": []
          },
          "execution_count": 41
        },
        {
          "output_type": "display_data",
          "data": {
            "image/png": "[encoded data removed]",
            "text/plain": [
              "<Figure size 1152x432 with 1 Axes>"
            ]
          },
          "metadata": {
            "tags": [],
            "needs_background": "light"
          }
        }
      ]
    },
    {
      "cell_type": "markdown",
      "metadata": {
        "id": "cGkNKqno8YXw"
      },
      "source": [
        "**3. Comparación con Vecinos más cercanos**"
      ]
    },
    {
      "cell_type": "code",
      "metadata": {
        "id": "ELAyBF-T8TXh"
      },
      "source": [
        "from sklearn.neighbors import KNeighborsRegressor\n",
        "knn = KNeighborsRegressor()"
      ],
      "execution_count": null,
      "outputs": []
    },
    {
      "cell_type": "code",
      "metadata": {
        "colab": {
          "base_uri": "https://localhost:8080/"
        },
        "id": "fPKwkU_M_OeW",
        "outputId": "397ffdad-2bd3-4fd4-b310-b42f28ba4ea8"
      },
      "source": [
        "#Entrenamiento para los dos datasets\n",
        "#New dataset\n",
        "knn.fit(X_train_nd, y_train_nd)\n",
        "pred_nd = knn.predict(X_test_nd)\n",
        "#Dataset del royecto 1 \n",
        "knn.fit(X_train_ml, y_train_ml)\n",
        "pred_ml = knn.predict(X_test_ml)\n",
        "\n",
        "\n",
        "#Métricas de evaluación de modelos\n",
        "error_nd = round(mean_absolute_error(y_test_nd, pred_nd))\n",
        "r2_nd = r2_score(y_test_nd, pred_nd)\n",
        "rmse_nd=mean_squared_error(y_test_nd, pred_nd)\n",
        "\n",
        "error_ml = round(mean_absolute_error(y_test_ml, pred_ml))\n",
        "r2_ml = r2_score(y_test_ml, pred_ml)\n",
        "rmse_ml=mean_squared_error(y_test_ml, pred_ml)\n",
        "\n",
        "print(\"MAE con el nuevo dataset: \"+str(error_nd)+ \" dólares\")\n",
        "print(\"R2 con el nuevo dataset: \"+str(r2_nd))\n",
        "print(\"RMSE con el nuevo dataset: \"+str(rmse_nd))\n",
        "print(\"MAE con el dataset del proyecto 1: \"+str(error_ml)+\" dólares\")\n",
        "print(\"R2 con el dataset del proyecto 1: \"+str(r2_ml))\n",
        "print(\"RMSE con el dataset del proyecto 1: \"+str(rmse_ml))"
      ],
      "execution_count": null,
      "outputs": [
        {
          "output_type": "stream",
          "text": [
            "MAE con el nuevo dataset: 43 dólares\n",
            "R2 con el nuevo dataset: 0.5686121194881889\n",
            "RMSE con el nuevo dataset: 4079.0760320540753\n",
            "MAE con el dataset del proyecto 1: 60 dólares\n",
            "R2 con el dataset del proyecto 1: 0.7433840415905911\n",
            "RMSE con el dataset del proyecto 1: 23402.05667225178\n"
          ],
          "name": "stdout"
        }
      ]
    },
    {
      "cell_type": "markdown",
      "metadata": {
        "id": "klX4d7jy_YyP"
      },
      "source": [
        "Comparando los resultados se puede observar que el error promedio de predicción con el dataset limpio en esta entrega mejora en 17 dólares. Sin embargo, la bondad de ajuste empeora en casi 0.18. No obstante el RMSE es mucho más alto en el dataset del proyecto 1. "
      ]
    },
    {
      "cell_type": "markdown",
      "metadata": {
        "id": "cw7nVMd6DAi7"
      },
      "source": [
        "**Conclusión**\n",
        "\n",
        "La limpieza de la base de datos puede influir en el desempeño de los modelos dado que le permite generalizar mucho mejor y desviarse menos del precio real. En el caso del nuevo dataset al categorizar las variables, limpiar outliers resulta mucho mejor que en el dataset anterior que tenía un universo más acotado y no contemplaba los missing values y fijaba un tope de precios estudiado."
      ]
    },
    {
      "cell_type": "markdown",
      "metadata": {
        "id": "hM3NId4OC8BH"
      },
      "source": [
        "**PARTE B - Modelos Avanzados**"
      ]
    },
    {
      "cell_type": "markdown",
      "metadata": {
        "id": "gftNrW5TEWuD"
      },
      "source": [
        "**Consigna:**\n",
        "\n",
        "1. Elige dos de los modelos avanzados vistos Compara con el desempeño obtenido en el proyecto 01 (en el caso de regresión, considera una regresión lineal con atributos polinómicos y regularización). Entrénalos y evalúalos con sus argumentos por defecto. No te olvides de hacer un train/test split y usar Validación Cruzada.\n",
        "\n",
        "\n",
        "2. Optimiza sus hiperparámetros mediante Validación Cruzada y Grid Search o Random Search.\n",
        "\n",
        "3. Compara el desempeño de los nuevos modelos entre sí y con el modelo de la Parte A. ¿Cuál elegirías? Justifica."
      ]
    },
    {
      "cell_type": "markdown",
      "metadata": {
        "id": "q0HQqNTpEvEt"
      },
      "source": [
        "**1. Random Forest** "
      ]
    },
    {
      "cell_type": "code",
      "metadata": {
        "id": "P6V0HXgbEV7S"
      },
      "source": [
        "from sklearn.ensemble import RandomForestRegressor\n",
        "from xgboost import XGBRegressor"
      ],
      "execution_count": null,
      "outputs": []
    },
    {
      "cell_type": "code",
      "metadata": {
        "id": "tal80QkVETFv"
      },
      "source": [
        "X_ad = df3.drop([\"price\"], axis = 1)\n",
        "y_ad = df3.price / 1000\n",
        "X_train_ad, X_test_ad, y_train_ad, y_test_ad = train_test_split(X_ad, y_ad, train_size=0.8,test_size=0.2, random_state=42)"
      ],
      "execution_count": null,
      "outputs": []
    },
    {
      "cell_type": "code",
      "metadata": {
        "colab": {
          "base_uri": "https://localhost:8080/"
        },
        "id": "l1a_m9XDFBOX",
        "outputId": "fe6a2a17-779a-4c84-cdd4-026044c2bb84"
      },
      "source": [
        "#Entrenamiento\n",
        "random_forest = RandomForestRegressor(random_state=0).fit(X_train_ad, y_train_ad)\n",
        "pred_ad = random_forest.predict(X_test_ad)\n",
        "\n",
        "#Métricas\n",
        "error_ad = mean_absolute_error(y_test_ad, pred_ad)\n",
        "r2_ad = r2_score(y_test_ad, pred_ad)\n",
        "rmse_ad=mean_squared_error(y_test_ad, pred_ad)\n",
        "\n",
        "print(\"MAE random forest: \"+str(error_ad))\n",
        "print(\"R2 random forest: \"+str(r2_ad))\n",
        "print(\"RMSE random forest: \"+str(rmse_ad))"
      ],
      "execution_count": null,
      "outputs": [
        {
          "output_type": "stream",
          "text": [
            "MAE random forest: 27.392689273952506\n",
            "R2 random forest: 0.7950828384566657\n",
            "RMSE random forest: 1937.6359883274065\n"
          ],
          "name": "stdout"
        }
      ]
    },
    {
      "cell_type": "code",
      "metadata": {
        "colab": {
          "base_uri": "https://localhost:8080/"
        },
        "id": "Nz7KTGWJF4xT",
        "outputId": "142238aa-3740-4130-dcba-cbc1bc0fed47"
      },
      "source": [
        "#Parámetros que está usando el modelo por default\n",
        "random_forest.get_params()"
      ],
      "execution_count": null,
      "outputs": [
        {
          "output_type": "execute_result",
          "data": {
            "text/plain": [
              "{'bootstrap': True,\n",
              " 'ccp_alpha': 0.0,\n",
              " 'criterion': 'mse',\n",
              " 'max_depth': None,\n",
              " 'max_features': 'auto',\n",
              " 'max_leaf_nodes': None,\n",
              " 'max_samples': None,\n",
              " 'min_impurity_decrease': 0.0,\n",
              " 'min_impurity_split': None,\n",
              " 'min_samples_leaf': 1,\n",
              " 'min_samples_split': 2,\n",
              " 'min_weight_fraction_leaf': 0.0,\n",
              " 'n_estimators': 100,\n",
              " 'n_jobs': None,\n",
              " 'oob_score': False,\n",
              " 'random_state': 0,\n",
              " 'verbose': 0,\n",
              " 'warm_start': False}"
            ]
          },
          "metadata": {
            "tags": []
          },
          "execution_count": 47
        }
      ]
    },
    {
      "cell_type": "code",
      "metadata": {
        "id": "XRopD6hUGFCP"
      },
      "source": [
        "#Usamos RandomizedSearchCV para ajustar los hiperparámetros del modelo\n",
        "#Debería ser un poco más rápida que GridSearch, ya que no ejecuta todas las combinaciones, sino algunas al azar\n",
        "from sklearn.model_selection import RandomizedSearchCV"
      ],
      "execution_count": null,
      "outputs": []
    },
    {
      "cell_type": "code",
      "metadata": {
        "colab": {
          "base_uri": "https://localhost:8080/"
        },
        "id": "h6ikliOTGU5A",
        "outputId": "7c421009-c2fe-49dc-b9ef-bc8c89853b5e"
      },
      "source": [
        "# Número de árboles\n",
        "n_estimators = [200, 500, 1000]\n",
        "# Profundidad\n",
        "max_depth = [10, 50, 100, None]\n",
        "# Número mínimo de muestras necesarias para dividir un nodo interno\n",
        "min_samples_split = [2, 5, 10]\n",
        "# Número mínimo de muestras que deben estar en cada nodo de la hoja\n",
        "min_samples_leaf = [1, 2, 4]\n",
        "# Crear la grilla\n",
        "random_grid = {'n_estimators': n_estimators, 'max_depth': max_depth, 'min_samples_split': min_samples_split, 'min_samples_leaf': min_samples_leaf,}\n",
        "\n",
        "random_forest_RS = RandomizedSearchCV(random_forest, random_grid, n_iter = 25, verbose=2, cv = 3, random_state=42, n_jobs = -1)\n",
        "\n",
        "random_forest_RS.fit(X_train_ad, y_train_ad)"
      ],
      "execution_count": null,
      "outputs": [
        {
          "output_type": "stream",
          "text": [
            "Fitting 3 folds for each of 25 candidates, totalling 75 fits\n"
          ],
          "name": "stdout"
        },
        {
          "output_type": "stream",
          "text": [
            "[Parallel(n_jobs=-1)]: Using backend LokyBackend with 2 concurrent workers.\n",
            "/usr/local/lib/python3.6/dist-packages/joblib/externals/loky/process_executor.py:691: UserWarning: A worker stopped while some jobs were given to the executor. This can be caused by a too short worker timeout or by a memory leak.\n",
            "  \"timeout or by a memory leak.\", UserWarning\n",
            "[Parallel(n_jobs=-1)]: Done  37 tasks      | elapsed: 59.3min\n",
            "[Parallel(n_jobs=-1)]: Done  75 out of  75 | elapsed: 104.5min finished\n"
          ],
          "name": "stderr"
        },
        {
          "output_type": "execute_result",
          "data": {
            "text/plain": [
              "RandomizedSearchCV(cv=3, error_score=nan,\n",
              "                   estimator=RandomForestRegressor(bootstrap=True,\n",
              "                                                   ccp_alpha=0.0,\n",
              "                                                   criterion='mse',\n",
              "                                                   max_depth=None,\n",
              "                                                   max_features='auto',\n",
              "                                                   max_leaf_nodes=None,\n",
              "                                                   max_samples=None,\n",
              "                                                   min_impurity_decrease=0.0,\n",
              "                                                   min_impurity_split=None,\n",
              "                                                   min_samples_leaf=1,\n",
              "                                                   min_samples_split=2,\n",
              "                                                   min_weight_fraction_leaf=0.0,\n",
              "                                                   n_estimators=100,\n",
              "                                                   n_jobs=None, oob_score=False,\n",
              "                                                   random_state=0, verbose=0,\n",
              "                                                   warm_start=False),\n",
              "                   iid='deprecated', n_iter=25, n_jobs=-1,\n",
              "                   param_distributions={'max_depth': [10, 50, 100, None],\n",
              "                                        'min_samples_leaf': [1, 2, 4],\n",
              "                                        'min_samples_split': [2, 5, 10],\n",
              "                                        'n_estimators': [200, 500, 1000]},\n",
              "                   pre_dispatch='2*n_jobs', random_state=42, refit=True,\n",
              "                   return_train_score=False, scoring=None, verbose=2)"
            ]
          },
          "metadata": {
            "tags": []
          },
          "execution_count": 49
        }
      ]
    },
    {
      "cell_type": "code",
      "metadata": {
        "colab": {
          "base_uri": "https://localhost:8080/"
        },
        "id": "wmB_w9LuhYw8",
        "outputId": "c32c53f6-31f0-4b4f-f8a2-5ecd8ea67c11"
      },
      "source": [
        "print(\"Mejores parametros: \"+str(random_forest_RS.best_params_))\n",
        "print(\"Mejor Score: \"+str(random_forest_RS.best_score_))"
      ],
      "execution_count": null,
      "outputs": [
        {
          "output_type": "stream",
          "text": [
            "Mejores parametros: {'n_estimators': 1000, 'min_samples_split': 2, 'min_samples_leaf': 1, 'max_depth': None}\n",
            "Mejor Score: 0.7798621237159798\n"
          ],
          "name": "stdout"
        }
      ]
    },
    {
      "cell_type": "markdown",
      "metadata": {
        "id": "iPRgTpoohuWg"
      },
      "source": [
        "Con la optimización, se realiza la predicción del modelo nuevamente con su respectiva métrica de evaluación."
      ]
    },
    {
      "cell_type": "code",
      "metadata": {
        "colab": {
          "base_uri": "https://localhost:8080/"
        },
        "id": "IM1Xad06h7mS",
        "outputId": "782173d1-70f8-466e-88a7-2321291e75b0"
      },
      "source": [
        "pred_random_op = random_forest_RS.predict(X_test_ad)\n",
        "\n",
        "#Métricas\n",
        "error_random_op = mean_absolute_error(y_test_ad, pred_random_op)\n",
        "r2_random_op = r2_score(y_test_ad, pred_random_op)\n",
        "rmse_random_op=mean_squared_error(y_test_ad, pred_random_op)\n",
        "\n",
        "print(\"MAE: \"+str(error_random_op))\n",
        "print(\"R2: \"+str(r2_random_op))\n",
        "print(\"RMSE: \"+str(rmse_random_op))"
      ],
      "execution_count": null,
      "outputs": [
        {
          "output_type": "stream",
          "text": [
            "MAE: 27.290026989135857\n",
            "R2: 0.796904626462129\n",
            "RMSE: 1920.4097005147944\n"
          ],
          "name": "stdout"
        }
      ]
    },
    {
      "cell_type": "markdown",
      "metadata": {
        "id": "s6fHzoPHitdt"
      },
      "source": [
        "Con la optimización, el modelo tiene una bondad de ajuste muy superior a los estimados en la Parte A. El error es de 27 dólares en promedio del precio normal y el RMSE es el más bajo calculado en todos los ejercicios. "
      ]
    },
    {
      "cell_type": "markdown",
      "metadata": {
        "id": "uTPvAtFQjNtO"
      },
      "source": [
        "**2. XGBoost**"
      ]
    },
    {
      "cell_type": "code",
      "metadata": {
        "id": "Q_-BPAExjCiP"
      },
      "source": [
        "import xgboost as xgb"
      ],
      "execution_count": null,
      "outputs": []
    },
    {
      "cell_type": "code",
      "metadata": {
        "colab": {
          "base_uri": "https://localhost:8080/"
        },
        "id": "R0SsGIUnjn88",
        "outputId": "c57e3dab-8293-4760-b4a7-3e59e7788100"
      },
      "source": [
        "xgb_regressor = XGBRegressor(random_state=1).fit(X_train_ad, y_train_ad)"
      ],
      "execution_count": null,
      "outputs": [
        {
          "output_type": "stream",
          "text": [
            "[15:13:55] WARNING: /workspace/src/objective/regression_obj.cu:152: reg:linear is now deprecated in favor of reg:squarederror.\n"
          ],
          "name": "stdout"
        }
      ]
    },
    {
      "cell_type": "code",
      "metadata": {
        "colab": {
          "base_uri": "https://localhost:8080/"
        },
        "id": "3UwlBlVUj8uR",
        "outputId": "8dfc96ed-a292-49cc-9f91-8b6a511ac8ea"
      },
      "source": [
        "#Predicción\n",
        "pred_xgb = xgb_regressor.predict(X_test_ad)\n",
        "\n",
        "#Métricas\n",
        "error_xgb = mean_absolute_error(y_test_ad, pred_xgb)\n",
        "r2_xgb = r2_score(y_test_ad, pred_xgb)\n",
        "rmse_xgb=mean_squared_error(y_test_ad, pred_xgb)\n",
        "\n",
        "print(\"MAE: \"+str(error_xgb))\n",
        "print(\"R2: \"+str(r2_xgb))\n",
        "print(\"RMSE: \"+str(rmse_xgb))"
      ],
      "execution_count": null,
      "outputs": [
        {
          "output_type": "stream",
          "text": [
            "MAE: 40.605968369905774\n",
            "R2: 0.6622582995015058\n",
            "RMSE: 3193.5854894534377\n"
          ],
          "name": "stdout"
        }
      ]
    },
    {
      "cell_type": "markdown",
      "metadata": {
        "id": "OwiA3gslkaFS"
      },
      "source": [
        "Comparado con los modelos estudiados en la Parte A, el desempeño es muy similar e inferior al Random Forest optimizado. El desempeño disminuye en cerca de 0.13.  El RMSE es sólo más alto que comparado con el Árbol de decisión."
      ]
    },
    {
      "cell_type": "markdown",
      "metadata": {
        "id": "PabNzYa-lIh6"
      },
      "source": [
        "**Optimización del XGBoost**"
      ]
    },
    {
      "cell_type": "markdown",
      "metadata": {
        "id": "XCu1XActlOyp"
      },
      "source": [
        "Al igual que con Random Forest se buscará la optimziación de hiperparámetros del modelo usando RandomSearchCV."
      ]
    },
    {
      "cell_type": "code",
      "metadata": {
        "colab": {
          "base_uri": "https://localhost:8080/"
        },
        "id": "Tb8DdtyUko04",
        "outputId": "1489f044-057d-4acd-ff1e-c5ca911f7a5e"
      },
      "source": [
        "# Cantidad de árboles\n",
        "n_estimators = [50, 100, 150, 200]\n",
        "# Profundidad \n",
        "max_depth = [2, 10, 50, None]\n",
        "# Factor de contracción o tasa de aprendizaje\n",
        "learning_rate = [0.05, 0.1, 0.3]\n",
        "\n",
        "# Crear la grilla\n",
        "random_grid = {'n_estimators': n_estimators,\n",
        "               'learning_rate': learning_rate,\n",
        "               'max_depth': max_depth}\n",
        "\n",
        "xgb_RS = RandomizedSearchCV(xgb_regressor, random_grid, n_iter = 10, verbose=2, cv = 3, random_state=42, n_jobs = -1)\n",
        "\n",
        "xgb_RS.fit(X_train_ad, y_train_ad)"
      ],
      "execution_count": null,
      "outputs": [
        {
          "output_type": "stream",
          "text": [
            "Fitting 3 folds for each of 10 candidates, totalling 30 fits\n"
          ],
          "name": "stdout"
        },
        {
          "output_type": "stream",
          "text": [
            "[Parallel(n_jobs=-1)]: Using backend LokyBackend with 2 concurrent workers.\n",
            "[Parallel(n_jobs=-1)]: Done  30 out of  30 | elapsed: 20.5min finished\n"
          ],
          "name": "stderr"
        },
        {
          "output_type": "stream",
          "text": [
            "[15:34:28] WARNING: /workspace/src/objective/regression_obj.cu:152: reg:linear is now deprecated in favor of reg:squarederror.\n"
          ],
          "name": "stdout"
        },
        {
          "output_type": "execute_result",
          "data": {
            "text/plain": [
              "RandomizedSearchCV(cv=3, error_score=nan,\n",
              "                   estimator=XGBRegressor(base_score=0.5, booster='gbtree',\n",
              "                                          colsample_bylevel=1,\n",
              "                                          colsample_bynode=1,\n",
              "                                          colsample_bytree=1, gamma=0,\n",
              "                                          importance_type='gain',\n",
              "                                          learning_rate=0.1, max_delta_step=0,\n",
              "                                          max_depth=3, min_child_weight=1,\n",
              "                                          missing=None, n_estimators=100,\n",
              "                                          n_jobs=1, nthread=None,\n",
              "                                          objective='reg:linear',\n",
              "                                          random_state=1, reg_alpha=0,\n",
              "                                          reg_lambda=1, scale_pos_weight=1,\n",
              "                                          seed=None, silent=None, subsample=1,\n",
              "                                          verbosity=1),\n",
              "                   iid='deprecated', n_iter=10, n_jobs=-1,\n",
              "                   param_distributions={'learning_rate': [0.05, 0.1, 0.3],\n",
              "                                        'max_depth': [2, 10, 50, None],\n",
              "                                        'n_estimators': [50, 100, 150, 200]},\n",
              "                   pre_dispatch='2*n_jobs', random_state=42, refit=True,\n",
              "                   return_train_score=False, scoring=None, verbose=2)"
            ]
          },
          "metadata": {
            "tags": []
          },
          "execution_count": 55
        }
      ]
    },
    {
      "cell_type": "code",
      "metadata": {
        "colab": {
          "base_uri": "https://localhost:8080/"
        },
        "id": "GHfqo9KirPIC",
        "outputId": "32d844fa-a702-4beb-f3de-510260e4e1af"
      },
      "source": [
        "pred_xgb_op = xgb_RS.predict(X_test_ad)\n",
        "\n",
        "#Métricas\n",
        "error_xgb_op = mean_absolute_error(y_test_ad, pred_xgb_op)\n",
        "r2_xgb_op = r2_score(y_test_ad, pred_xgb_op)\n",
        "rmse_xgb_op=mean_squared_error(y_test_ad, pred_xgb_op)\n",
        "\n",
        "print(\"MAE: \"+str(error_xgb_op))\n",
        "print(\"R2: \"+str(r2_xgb_op))\n",
        "print(\"RMSE: \"+str(rmse_xgb_op))"
      ],
      "execution_count": null,
      "outputs": [
        {
          "output_type": "stream",
          "text": [
            "MAE: 29.118025817796862\n",
            "R2: 0.7968552944633251\n",
            "RMSE: 1920.8761692846062\n"
          ],
          "name": "stdout"
        }
      ]
    },
    {
      "cell_type": "markdown",
      "metadata": {
        "id": "ji_fTUeSr9WI"
      },
      "source": [
        "Tras el uso de los mejores hierpámetros del modelo se obtiene un error promedio de 29,1 dólares. Asimismo la bondad de ajuste es muy cercana a la obtenida del modelo optimizado en Random Forest. No obstante, el RMSE es superior por 0,2 aproximadamente. \n",
        "\n",
        "En todo caso al comparar los modelos, por muy poco el random forest con los hiperparámetros optimizados a través de la grilla es mejor. Sin embargo, es importante considerar que en términos computacionales el Random Forest es mucho más demandante que XgBoost."
      ]
    },
    {
      "cell_type": "markdown",
      "metadata": {
        "id": "LAJKzEpMsu3U"
      },
      "source": [
        "**Extra: Uso de HyperOpt**\n",
        "\n",
        "Esta librería optimiza hiperparámetros y vale la pena utilizarla dadas sus bondades en eficiencia computacional lo que podría ejecutar la funcionalidad de RandomGridSearch puesto que realiza optimización bayesiana."
      ]
    },
    {
      "cell_type": "code",
      "metadata": {
        "colab": {
          "base_uri": "https://localhost:8080/"
        },
        "id": "koVaqe9stilu",
        "outputId": "1fd48c97-0e52-4fff-c042-1ceb01277221"
      },
      "source": [
        "pip install hyperopt"
      ],
      "execution_count": null,
      "outputs": [
        {
          "output_type": "stream",
          "text": [
            "Requirement already satisfied: hyperopt in /usr/local/lib/python3.6/dist-packages (0.1.2)\n",
            "Requirement already satisfied: numpy in /usr/local/lib/python3.6/dist-packages (from hyperopt) (1.19.5)\n",
            "Requirement already satisfied: networkx in /usr/local/lib/python3.6/dist-packages (from hyperopt) (2.5)\n",
            "Requirement already satisfied: pymongo in /usr/local/lib/python3.6/dist-packages (from hyperopt) (3.11.3)\n",
            "Requirement already satisfied: tqdm in /usr/local/lib/python3.6/dist-packages (from hyperopt) (4.41.1)\n",
            "Requirement already satisfied: future in /usr/local/lib/python3.6/dist-packages (from hyperopt) (0.16.0)\n",
            "Requirement already satisfied: six in /usr/local/lib/python3.6/dist-packages (from hyperopt) (1.15.0)\n",
            "Requirement already satisfied: scipy in /usr/local/lib/python3.6/dist-packages (from hyperopt) (1.4.1)\n",
            "Requirement already satisfied: decorator>=4.3.0 in /usr/local/lib/python3.6/dist-packages (from networkx->hyperopt) (4.4.2)\n"
          ],
          "name": "stdout"
        }
      ]
    },
    {
      "cell_type": "code",
      "metadata": {
        "colab": {
          "base_uri": "https://localhost:8080/"
        },
        "id": "4hOuZhVXuCFc",
        "outputId": "02dc53b0-2e1e-4ca3-cf1a-f8876c2af4ae"
      },
      "source": [
        "pip install git+https://github.com/hyperopt/hyperopt-sklearn"
      ],
      "execution_count": null,
      "outputs": [
        {
          "output_type": "stream",
          "text": [
            "Collecting git+https://github.com/hyperopt/hyperopt-sklearn\n",
            "  Cloning https://github.com/hyperopt/hyperopt-sklearn to /tmp/pip-req-build-cn7hwehg\n",
            "  Running command git clone -q https://github.com/hyperopt/hyperopt-sklearn /tmp/pip-req-build-cn7hwehg\n",
            "Requirement already satisfied: hyperopt in /usr/local/lib/python3.6/dist-packages (from hpsklearn==0.0.3) (0.1.2)\n",
            "Collecting nose\n",
            "\u001b[?25l  Downloading https://files.pythonhosted.org/packages/15/d8/dd071918c040f50fa1cf80da16423af51ff8ce4a0f2399b7bf8de45ac3d9/nose-1.3.7-py3-none-any.whl (154kB)\n",
            "\u001b[K     |████████████████████████████████| 163kB 7.5MB/s \n",
            "\u001b[?25hRequirement already satisfied: numpy in /usr/local/lib/python3.6/dist-packages (from hpsklearn==0.0.3) (1.19.5)\n",
            "Requirement already satisfied: scikit-learn in /usr/local/lib/python3.6/dist-packages (from hpsklearn==0.0.3) (0.22.2.post1)\n",
            "Requirement already satisfied: scipy in /usr/local/lib/python3.6/dist-packages (from hpsklearn==0.0.3) (1.4.1)\n",
            "Requirement already satisfied: pymongo in /usr/local/lib/python3.6/dist-packages (from hyperopt->hpsklearn==0.0.3) (3.11.3)\n",
            "Requirement already satisfied: six in /usr/local/lib/python3.6/dist-packages (from hyperopt->hpsklearn==0.0.3) (1.15.0)\n",
            "Requirement already satisfied: tqdm in /usr/local/lib/python3.6/dist-packages (from hyperopt->hpsklearn==0.0.3) (4.41.1)\n",
            "Requirement already satisfied: future in /usr/local/lib/python3.6/dist-packages (from hyperopt->hpsklearn==0.0.3) (0.16.0)\n",
            "Requirement already satisfied: networkx in /usr/local/lib/python3.6/dist-packages (from hyperopt->hpsklearn==0.0.3) (2.5)\n",
            "Requirement already satisfied: joblib>=0.11 in /usr/local/lib/python3.6/dist-packages (from scikit-learn->hpsklearn==0.0.3) (1.0.0)\n",
            "Requirement already satisfied: decorator>=4.3.0 in /usr/local/lib/python3.6/dist-packages (from networkx->hyperopt->hpsklearn==0.0.3) (4.4.2)\n",
            "Building wheels for collected packages: hpsklearn\n",
            "  Building wheel for hpsklearn (setup.py) ... \u001b[?25l\u001b[?25hdone\n",
            "  Created wheel for hpsklearn: filename=hpsklearn-0.0.3-cp36-none-any.whl size=26923 sha256=385f1ca029c9227d752895401e69fa976077c5f8aeb77b024f826a250ef2f4e6\n",
            "  Stored in directory: /tmp/pip-ephem-wheel-cache-7ru3tp5m/wheels/41/1f/14/fd9ceae3ef0a227e2a6ea0a12b3c94202507000f48ca21c823\n",
            "Successfully built hpsklearn\n",
            "Installing collected packages: nose, hpsklearn\n",
            "Successfully installed hpsklearn-0.0.3 nose-1.3.7\n"
          ],
          "name": "stdout"
        }
      ]
    },
    {
      "cell_type": "code",
      "metadata": {
        "colab": {
          "base_uri": "https://localhost:8080/"
        },
        "id": "sCdZzcFmtkmX",
        "outputId": "f9c7b022-472d-46ce-de6d-5ea5124d1b66"
      },
      "source": [
        "from hpsklearn import HyperoptEstimator\n",
        "from hpsklearn import any_regressor\n",
        "from hpsklearn import any_preprocessing\n",
        "from hyperopt import tpe"
      ],
      "execution_count": null,
      "outputs": [
        {
          "output_type": "stream",
          "text": [
            "WARN: OMP_NUM_THREADS=None =>\n",
            "... If you are using openblas if you are using openblas set OMP_NUM_THREADS=1 or risk subprocess calls hanging indefinitely\n"
          ],
          "name": "stdout"
        }
      ]
    },
    {
      "cell_type": "code",
      "metadata": {
        "id": "-Da4k0rUuFV5"
      },
      "source": [
        "#Instanciamos un modelo\n",
        "#Hyperopt va a buscar entre todos los algoritmos de regresión con los que cuenta y evaluarlos\n",
        "#Se le puede poner un tiempo máximo para la evaluación, para que no sea tan tedioso el proceso\n",
        "\n",
        "hyperop_regr = HyperoptEstimator(regressor=any_regressor('reg'), preprocessing=any_preprocessing('pre'), \n",
        "                            loss_fn=mean_absolute_error, algo=tpe.suggest, max_evals=50, trial_timeout=120, verbose=True)"
      ],
      "execution_count": null,
      "outputs": []
    },
    {
      "cell_type": "code",
      "metadata": {
        "colab": {
          "base_uri": "https://localhost:8080/"
        },
        "id": "Yh-_w6IIuNAD",
        "outputId": "26712fa4-4f51-4542-8727-bd0e3d107e60"
      },
      "source": [
        "#Entrenamiento\n",
        "hyperop_regr.fit(X_train_ad, y_train_ad)"
      ],
      "execution_count": null,
      "outputs": [
        {
          "output_type": "stream",
          "text": [
            "Will use the last 0.2 portion of samples for validation\n",
            "Fitting PCA(copy=True, iterated_power='auto', n_components=32, random_state=None,\n",
            "    svd_solver='auto', tol=0.0, whiten=True) to X of shape (86825, 9)\n",
            "Limited PCA n_components at 9\n",
            "Transforming Xfit (86825, 9)\n",
            "Transforming Xval (21707, 9)\n",
            "Training learner AdaBoostRegressor(base_estimator=None, learning_rate=0.24635545261073202,\n",
            "                  loss='square', n_estimators=128, random_state=1) on X/EX of dimension (86825, 9)\n",
            "Scoring on X/EX validation of shape (21707, 9)\n",
            "OK trial with loss 89.9\n",
            "100%|██████████| 1/1 [00:28<00:00, 28.24s/it, best loss: 89.90426763139244]\n",
            "Will use the last 0.2 portion of samples for validation\n",
            "Fitting StandardScaler(copy=True, with_mean=False, with_std=False) to X of shape (86825, 9)\n",
            "Transforming Xfit (86825, 9)\n",
            "Transforming Xval (21707, 9)\n",
            "Training learner KNeighborsRegressor(algorithm='auto', leaf_size=30, metric='euclidean',\n",
            "                    metric_params=None, n_jobs=1, n_neighbors=45, p=2,\n",
            "                    weights='distance') on X/EX of dimension (86825, 9)\n",
            "Scoring on X/EX validation of shape (21707, 9)\n",
            "OK trial with loss 41.5\n",
            "100%|██████████| 1/1 [00:01<00:00,  1.83s/it, best loss: 41.503120515735844]\n",
            "Will use the last 0.2 portion of samples for validation\n",
            "Fitting Normalizer(copy=True, norm='l1') to X of shape (86825, 9)\n",
            "Transforming Xfit (86825, 9)\n",
            "Transforming Xval (21707, 9)\n",
            "Training learner RandomForestRegressor(bootstrap=False, ccp_alpha=0.0, criterion='mse',\n",
            "                      max_depth=None, max_features=0.8633094152831453,\n",
            "                      max_leaf_nodes=None, max_samples=None,\n",
            "                      min_impurity_decrease=0.0, min_impurity_split=None,\n",
            "                      min_samples_leaf=5, min_samples_split=2,\n",
            "                      min_weight_fraction_leaf=0.0, n_estimators=12, n_jobs=1,\n",
            "                      oob_score=False, random_state=2, verbose=False,\n",
            "                      warm_start=False) on X/EX of dimension (86825, 9)\n",
            "Scoring on X/EX validation of shape (21707, 9)\n",
            "OK trial with loss 38.8\n",
            "100%|██████████| 1/1 [00:09<00:00,  9.18s/it, best loss: 38.78451325169796]\n",
            "Will use the last 0.2 portion of samples for validation\n",
            "Fitting PCA(copy=True, iterated_power='auto', n_components=32, random_state=None,\n",
            "    svd_solver='auto', tol=0.0, whiten=True) to X of shape (86825, 9)\n",
            "Limited PCA n_components at 9\n",
            "Transforming Xfit (86825, 9)\n",
            "Transforming Xval (21707, 9)\n",
            "Training learner ExtraTreesRegressor(bootstrap=True, ccp_alpha=0.0, criterion='mse',\n",
            "                    max_depth=None, max_features=0.2154872346649822,\n",
            "                    max_leaf_nodes=None, max_samples=None,\n",
            "                    min_impurity_decrease=0.0, min_impurity_split=None,\n",
            "                    min_samples_leaf=4, min_samples_split=2,\n",
            "                    min_weight_fraction_leaf=0.0, n_estimators=23, n_jobs=1,\n",
            "                    oob_score=False, random_state=2, verbose=False,\n",
            "                    warm_start=False) on X/EX of dimension (86825, 9)\n",
            "Scoring on X/EX validation of shape (21707, 9)\n",
            "OK trial with loss 76.1\n",
            "100%|██████████| 1/1 [00:00<00:00,  1.19it/s, best loss: 38.78451325169796]\n",
            "Will use the last 0.2 portion of samples for validation\n",
            "Training learner AdaBoostRegressor(base_estimator=None, learning_rate=0.23532651342322924,\n",
            "                  loss='exponential', n_estimators=86, random_state=3) on X/EX of dimension (86825, 9)\n",
            "Scoring on X/EX validation of shape (21707, 9)\n",
            "OK trial with loss 57.2\n",
            "100%|██████████| 1/1 [00:11<00:00, 11.11s/it, best loss: 38.78451325169796]\n",
            "Will use the last 0.2 portion of samples for validation\n",
            "Fitting StandardScaler(copy=True, with_mean=False, with_std=False) to X of shape (86825, 9)\n",
            "Transforming Xfit (86825, 9)\n",
            "Transforming Xval (21707, 9)\n",
            "Training learner GradientBoostingRegressor(alpha=0.9, ccp_alpha=0.0, criterion='friedman_mse',\n",
            "                          init=None, learning_rate=0.001455897262497543,\n",
            "                          loss='lad', max_depth=None,\n",
            "                          max_features=0.6216988059751111, max_leaf_nodes=None,\n",
            "                          min_impurity_decrease=0.0, min_impurity_split=None,\n",
            "                          min_samples_leaf=9, min_samples_split=2,\n",
            "                          min_weight_fraction_leaf=0.0, n_estimators=961,\n",
            "                          n_iter_no_change=None, presort='deprecated',\n",
            "                          random_state=1, subsample=0.7558375579803126,\n",
            "                          tol=0.0001, validation_fraction=0.1, verbose=0,\n",
            "                          warm_start=False) on X/EX of dimension (86825, 9)\n",
            "TERMINATING DUE TO TIMEOUT\n",
            "100%|██████████| 1/1 [02:00<00:00, 120.29s/it, best loss: 38.78451325169796]\n",
            "Will use the last 0.2 portion of samples for validation\n",
            "Fitting PCA(copy=True, iterated_power='auto', n_components=68, random_state=None,\n",
            "    svd_solver='auto', tol=0.0, whiten=True) to X of shape (86825, 9)\n",
            "Limited PCA n_components at 9\n",
            "Transforming Xfit (86825, 9)\n",
            "Transforming Xval (21707, 9)\n",
            "Training learner XGBRegressor(base_score=0.5, booster='gbtree',\n",
            "             colsample_bylevel=0.9138260294935134, colsample_bynode=1,\n",
            "             colsample_bytree=0.6154596921555121, gamma=0.5655695897473159,\n",
            "             importance_type='gain', learning_rate=0.000490705203680326,\n",
            "             max_delta_step=0, max_depth=6, min_child_weight=14, missing=None,\n",
            "             n_estimators=2000, n_jobs=1, nthread=None, objective='reg:linear',\n",
            "             random_state=0, reg_alpha=0.4466475110133358,\n",
            "             reg_lambda=3.5398078138873674, scale_pos_weight=1, seed=3,\n",
            "             silent=None, subsample=0.867410347727701, verbosity=1) on X/EX of dimension (86825, 9)\n",
            "[15:37:48] WARNING: /workspace/src/objective/regression_obj.cu:152: reg:linear is now deprecated in favor of reg:squarederror.\n",
            "TERMINATING DUE TO TIMEOUT\n",
            "100%|██████████| 1/1 [02:00<00:00, 120.28s/it, best loss: 38.78451325169796]\n",
            "Will use the last 0.2 portion of samples for validation\n",
            "Fitting MinMaxScaler(copy=True, feature_range=(0.0, 1.0)) to X of shape (86825, 9)\n",
            "Transforming Xfit (86825, 9)\n",
            "Transforming Xval (21707, 9)\n",
            "Training learner SVR(C=0.15649979865017258, cache_size=512, coef0=0, degree=1,\n",
            "    epsilon=0.006508129866007667, gamma=51.2590356888956, kernel='sigmoid',\n",
            "    max_iter=216395577.0, shrinking=False, tol=0.00986945579569798,\n",
            "    verbose=False) on X/EX of dimension (86825, 9)\n",
            "TERMINATING DUE TO TIMEOUT\n",
            "100%|██████████| 1/1 [02:00<00:00, 120.34s/it, best loss: 38.78451325169796]\n",
            "Will use the last 0.2 portion of samples for validation\n",
            "Fitting PCA(copy=True, iterated_power='auto', n_components=84, random_state=None,\n",
            "    svd_solver='auto', tol=0.0, whiten=True) to X of shape (86825, 9)\n",
            "Limited PCA n_components at 9\n",
            "Transforming Xfit (86825, 9)\n",
            "Transforming Xval (21707, 9)\n",
            "Training learner KNeighborsRegressor(algorithm='auto', leaf_size=30, metric='euclidean',\n",
            "                    metric_params=None, n_jobs=1, n_neighbors=5, p=2,\n",
            "                    weights='uniform') on X/EX of dimension (86825, 9)\n",
            "Scoring on X/EX validation of shape (21707, 9)\n",
            "OK trial with loss 41.8\n",
            "100%|██████████| 1/1 [00:01<00:00,  1.98s/it, best loss: 38.78451325169796]\n",
            "Will use the last 0.2 portion of samples for validation\n",
            "Fitting Normalizer(copy=True, norm='l2') to X of shape (86825, 9)\n",
            "Transforming Xfit (86825, 9)\n",
            "Transforming Xval (21707, 9)\n",
            "Training learner SVR(C=0.0004891057710511698, cache_size=512, coef0=-0.30719673528246, degree=1,\n",
            "    epsilon=28.537372862688798, gamma=0.07447424504042709, kernel='sigmoid',\n",
            "    max_iter=641174866.0, shrinking=False, tol=0.0067199739639576634,\n",
            "    verbose=False) on X/EX of dimension (86825, 9)\n",
            "TERMINATING DUE TO TIMEOUT\n",
            "100%|██████████| 1/1 [02:00<00:00, 120.38s/it, best loss: 38.78451325169796]\n",
            "Will use the last 0.2 portion of samples for validation\n",
            "Training learner KNeighborsRegressor(algorithm='auto', leaf_size=30, metric='euclidean',\n",
            "                    metric_params=None, n_jobs=1, n_neighbors=5, p=2,\n",
            "                    weights='distance') on X/EX of dimension (86825, 9)\n",
            "Scoring on X/EX validation of shape (21707, 9)\n",
            "OK trial with loss 40.7\n",
            "100%|██████████| 1/1 [00:01<00:00,  1.17s/it, best loss: 38.78451325169796]\n",
            "Will use the last 0.2 portion of samples for validation\n",
            "Fitting StandardScaler(copy=True, with_mean=True, with_std=True) to X of shape (86825, 9)\n",
            "Transforming Xfit (86825, 9)\n",
            "Transforming Xval (21707, 9)\n",
            "Training learner ExtraTreesRegressor(bootstrap=False, ccp_alpha=0.0, criterion='mse',\n",
            "                    max_depth=2, max_features='sqrt', max_leaf_nodes=None,\n",
            "                    max_samples=None, min_impurity_decrease=0.0,\n",
            "                    min_impurity_split=None, min_samples_leaf=5,\n",
            "                    min_samples_split=2, min_weight_fraction_leaf=0.0,\n",
            "                    n_estimators=168, n_jobs=1, oob_score=False, random_state=3,\n",
            "                    verbose=False, warm_start=False) on X/EX of dimension (86825, 9)\n",
            "Scoring on X/EX validation of shape (21707, 9)\n",
            "OK trial with loss 73.8\n",
            "100%|██████████| 1/1 [00:01<00:00,  1.51s/it, best loss: 38.78451325169796]\n",
            "Will use the last 0.2 portion of samples for validation\n",
            "Fitting MinMaxScaler(copy=True, feature_range=(-1.0, 1.0)) to X of shape (86825, 9)\n",
            "Transforming Xfit (86825, 9)\n",
            "Transforming Xval (21707, 9)\n",
            "Training learner ExtraTreesRegressor(bootstrap=True, ccp_alpha=0.0, criterion='mse',\n",
            "                    max_depth=None, max_features='sqrt', max_leaf_nodes=None,\n",
            "                    max_samples=None, min_impurity_decrease=0.0,\n",
            "                    min_impurity_split=None, min_samples_leaf=1,\n",
            "                    min_samples_split=2, min_weight_fraction_leaf=0.0,\n",
            "                    n_estimators=14, n_jobs=1, oob_score=False, random_state=1,\n",
            "                    verbose=False, warm_start=False) on X/EX of dimension (86825, 9)\n",
            "Scoring on X/EX validation of shape (21707, 9)\n",
            "OK trial with loss 32.0\n",
            "100%|██████████| 1/1 [00:01<00:00,  1.63s/it, best loss: 32.02327525042284]\n",
            "Will use the last 0.2 portion of samples for validation\n",
            "Training learner SVR(C=0.04823059135502093, cache_size=512, coef0=0.0, degree=1,\n",
            "    epsilon=0.005203045443868689, gamma=0.4109498924544792, kernel='rbf',\n",
            "    max_iter=120468329.0, shrinking=True, tol=0.0004394026654901809,\n",
            "    verbose=False) on X/EX of dimension (86825, 9)\n",
            "TERMINATING DUE TO TIMEOUT\n",
            "100%|██████████| 1/1 [02:00<00:00, 120.38s/it, best loss: 32.02327525042284]\n",
            "Will use the last 0.2 portion of samples for validation\n",
            "Fitting Normalizer(copy=True, norm='l2') to X of shape (86825, 9)\n",
            "Transforming Xfit (86825, 9)\n",
            "Transforming Xval (21707, 9)\n",
            "Training learner GradientBoostingRegressor(alpha=0.8603484768488237, ccp_alpha=0.0,\n",
            "                          criterion='friedman_mse', init=None,\n",
            "                          learning_rate=0.0007160363984997105, loss='huber',\n",
            "                          max_depth=4, max_features=0.8694683860324771,\n",
            "                          max_leaf_nodes=None, min_impurity_decrease=0.0,\n",
            "                          min_impurity_split=None, min_samples_leaf=7,\n",
            "                          min_samples_split=2, min_weight_fraction_leaf=0.0,\n",
            "                          n_estimators=226, n_iter_no_change=None,\n",
            "                          presort='deprecated', random_state=3,\n",
            "                          subsample=0.6865009079726287, tol=0.0001,\n",
            "                          validation_fraction=0.1, verbose=0, warm_start=False) on X/EX of dimension (86825, 9)\n",
            "Scoring on X/EX validation of shape (21707, 9)\n",
            "OK trial with loss 71.8\n",
            "100%|██████████| 1/1 [00:57<00:00, 57.93s/it, best loss: 32.02327525042284]\n",
            "Will use the last 0.2 portion of samples for validation\n",
            "Fitting StandardScaler(copy=True, with_mean=True, with_std=False) to X of shape (86825, 9)\n",
            "Transforming Xfit (86825, 9)\n",
            "Transforming Xval (21707, 9)\n",
            "Training learner ExtraTreesRegressor(bootstrap=True, ccp_alpha=0.0, criterion='mse',\n",
            "                    max_depth=None, max_features='log2', max_leaf_nodes=None,\n",
            "                    max_samples=None, min_impurity_decrease=0.0,\n",
            "                    min_impurity_split=None, min_samples_leaf=12,\n",
            "                    min_samples_split=2, min_weight_fraction_leaf=0.0,\n",
            "                    n_estimators=24, n_jobs=1, oob_score=False, random_state=3,\n",
            "                    verbose=False, warm_start=False) on X/EX of dimension (86825, 9)\n",
            "Scoring on X/EX validation of shape (21707, 9)\n",
            "OK trial with loss 54.9\n",
            "100%|██████████| 1/1 [00:00<00:00,  1.09it/s, best loss: 32.02327525042284]\n",
            "Will use the last 0.2 portion of samples for validation\n",
            "Fitting Normalizer(copy=True, norm='l1') to X of shape (86825, 9)\n",
            "Transforming Xfit (86825, 9)\n",
            "Transforming Xval (21707, 9)\n",
            "Training learner XGBRegressor(base_score=0.5, booster='gbtree',\n",
            "             colsample_bylevel=0.8792042299224629, colsample_bynode=1,\n",
            "             colsample_bytree=0.9954324325156088, gamma=0.00045123811442589694,\n",
            "             importance_type='gain', learning_rate=0.013198223931442411,\n",
            "             max_delta_step=0, max_depth=1, min_child_weight=41, missing=None,\n",
            "             n_estimators=4800, n_jobs=1, nthread=None, objective='reg:linear',\n",
            "             random_state=0, reg_alpha=0.05333034483302568,\n",
            "             reg_lambda=2.5324461058331007, scale_pos_weight=1, seed=4,\n",
            "             silent=None, subsample=0.5515591173095167, verbosity=1) on X/EX of dimension (86825, 9)\n",
            "[15:46:56] WARNING: /workspace/src/objective/regression_obj.cu:152: reg:linear is now deprecated in favor of reg:squarederror.\n",
            "TERMINATING DUE TO TIMEOUT\n",
            "100%|██████████| 1/1 [02:00<00:00, 120.45s/it, best loss: 32.02327525042284]\n",
            "Will use the last 0.2 portion of samples for validation\n",
            "Training learner KNeighborsRegressor(algorithm='auto', leaf_size=30, metric='euclidean',\n",
            "                    metric_params=None, n_jobs=1, n_neighbors=2, p=2,\n",
            "                    weights='distance') on X/EX of dimension (86825, 9)\n",
            "Scoring on X/EX validation of shape (21707, 9)\n",
            "OK trial with loss 43.2\n",
            "100%|██████████| 1/1 [00:00<00:00,  1.00it/s, best loss: 32.02327525042284]\n",
            "Will use the last 0.2 portion of samples for validation\n",
            "Fitting Normalizer(copy=True, norm='l2') to X of shape (86825, 9)\n",
            "Transforming Xfit (86825, 9)\n",
            "Transforming Xval (21707, 9)\n",
            "Training learner SVR(C=52.10195938266047, cache_size=512, coef0=0.0, degree=1,\n",
            "    epsilon=0.06106346158866012, gamma='auto', kernel='linear',\n",
            "    max_iter=372494693.0, shrinking=False, tol=0.0001125524102889939,\n",
            "    verbose=False) on X/EX of dimension (86825, 9)\n",
            "TERMINATING DUE TO TIMEOUT\n",
            "100%|██████████| 1/1 [02:00<00:00, 120.31s/it, best loss: 32.02327525042284]\n",
            "Will use the last 0.2 portion of samples for validation\n",
            "Fitting MinMaxScaler(copy=True, feature_range=(0.0, 1.0)) to X of shape (86825, 9)\n",
            "Transforming Xfit (86825, 9)\n",
            "Transforming Xval (21707, 9)\n",
            "Training learner GradientBoostingRegressor(alpha=0.9, ccp_alpha=0.0, criterion='friedman_mse',\n",
            "                          init=None, learning_rate=0.010608477016125937,\n",
            "                          loss='ls', max_depth=None,\n",
            "                          max_features=0.29756469866254465, max_leaf_nodes=None,\n",
            "                          min_impurity_decrease=0.0, min_impurity_split=None,\n",
            "                          min_samples_leaf=4, min_samples_split=2,\n",
            "                          min_weight_fraction_leaf=0.0, n_estimators=386,\n",
            "                          n_iter_no_change=None, presort='deprecated',\n",
            "                          random_state=4, subsample=1.0, tol=0.0001,\n",
            "                          validation_fraction=0.1, verbose=0, warm_start=False) on X/EX of dimension (86825, 9)\n",
            "Scoring on X/EX validation of shape (21707, 9)\n",
            "OK trial with loss 29.2\n",
            "100%|██████████| 1/1 [00:52<00:00, 53.00s/it, best loss: 29.177987017905433]\n",
            "Will use the last 0.2 portion of samples for validation\n",
            "Fitting MinMaxScaler(copy=True, feature_range=(-1.0, 1.0)) to X of shape (86825, 9)\n",
            "Transforming Xfit (86825, 9)\n",
            "Transforming Xval (21707, 9)\n",
            "Training learner SGDRegressor(alpha=4.199302563318683e-06, average=False, early_stopping=False,\n",
            "             epsilon=0.27556645656101536, eta0=2.19671688234539e-05,\n",
            "             fit_intercept=True, l1_ratio=0.8649929899949231,\n",
            "             learning_rate='invscaling', loss='squared_epsilon_insensitive',\n",
            "             max_iter=110682756.0, n_iter_no_change=5, penalty='l2',\n",
            "             power_t=0.875373782091884, random_state=0, shuffle=True,\n",
            "             tol=0.00019556046994594016, validation_fraction=0.1, verbose=False,\n",
            "             warm_start=False) on X/EX of dimension (86825, 9)\n",
            "TERMINATING DUE TO TIMEOUT\n",
            "100%|██████████| 1/1 [02:00<00:00, 120.56s/it, best loss: 29.177987017905433]\n",
            "Will use the last 0.2 portion of samples for validation\n",
            "Fitting MinMaxScaler(copy=True, feature_range=(-1.0, 1.0)) to X of shape (86825, 9)\n",
            "Transforming Xfit (86825, 9)\n",
            "Transforming Xval (21707, 9)\n",
            "Training learner GradientBoostingRegressor(alpha=0.9, ccp_alpha=0.0, criterion='friedman_mse',\n",
            "                          init=None, learning_rate=0.017983607144555484,\n",
            "                          loss='ls', max_depth=2, max_features='sqrt',\n",
            "                          max_leaf_nodes=None, min_impurity_decrease=0.0,\n",
            "                          min_impurity_split=None, min_samples_leaf=1,\n",
            "                          min_samples_split=2, min_weight_fraction_leaf=0.0,\n",
            "                          n_estimators=11, n_iter_no_change=None,\n",
            "                          presort='deprecated', random_state=4, subsample=1.0,\n",
            "                          tol=0.0001, validation_fraction=0.1, verbose=0,\n",
            "                          warm_start=False) on X/EX of dimension (86825, 9)\n",
            "Scoring on X/EX validation of shape (21707, 9)\n",
            "OK trial with loss 73.3\n",
            "100%|██████████| 1/1 [00:00<00:00,  1.21it/s, best loss: 29.177987017905433]\n",
            "Will use the last 0.2 portion of samples for validation\n",
            "Fitting MinMaxScaler(copy=True, feature_range=(0.0, 1.0)) to X of shape (86825, 9)\n",
            "Transforming Xfit (86825, 9)\n",
            "Transforming Xval (21707, 9)\n",
            "Training learner SGDRegressor(alpha=0.06731086437022187, average=False, early_stopping=False,\n",
            "             epsilon=117.27567770459044, eta0=0.09184441330296833,\n",
            "             fit_intercept=True, l1_ratio=0.008162256522031786,\n",
            "             learning_rate='optimal', loss='epsilon_insensitive',\n",
            "             max_iter=11179412.0, n_iter_no_change=5, penalty='l1',\n",
            "             power_t=0.013067850095374534, random_state=2, shuffle=True,\n",
            "             tol=0.009732150329984474, validation_fraction=0.1, verbose=False,\n",
            "             warm_start=False) on X/EX of dimension (86825, 9)\n",
            "Scoring on X/EX validation of shape (21707, 9)\n",
            "OK trial with loss 87.1\n",
            "100%|██████████| 1/1 [00:02<00:00,  2.25s/it, best loss: 29.177987017905433]\n",
            "Will use the last 0.2 portion of samples for validation\n",
            "Fitting MinMaxScaler(copy=True, feature_range=(0.0, 1.0)) to X of shape (86825, 9)\n",
            "Transforming Xfit (86825, 9)\n",
            "Transforming Xval (21707, 9)\n",
            "Training learner ExtraTreesRegressor(bootstrap=True, ccp_alpha=0.0, criterion='mse', max_depth=3,\n",
            "                    max_features='sqrt', max_leaf_nodes=None, max_samples=None,\n",
            "                    min_impurity_decrease=0.0, min_impurity_split=None,\n",
            "                    min_samples_leaf=1, min_samples_split=2,\n",
            "                    min_weight_fraction_leaf=0.0, n_estimators=2130, n_jobs=1,\n",
            "                    oob_score=False, random_state=1, verbose=False,\n",
            "                    warm_start=False) on X/EX of dimension (86825, 9)\n",
            "Scoring on X/EX validation of shape (21707, 9)\n",
            "OK trial with loss 69.7\n",
            "100%|██████████| 1/1 [00:20<00:00, 20.59s/it, best loss: 29.177987017905433]\n",
            "Will use the last 0.2 portion of samples for validation\n",
            "Fitting MinMaxScaler(copy=True, feature_range=(-1.0, 1.0)) to X of shape (86825, 9)\n",
            "Transforming Xfit (86825, 9)\n",
            "Transforming Xval (21707, 9)\n",
            "Training learner GradientBoostingRegressor(alpha=0.5, ccp_alpha=0.0, criterion='friedman_mse',\n",
            "                          init=None, learning_rate=0.07307111207480561,\n",
            "                          loss='quantile', max_depth=None, max_features='log2',\n",
            "                          max_leaf_nodes=None, min_impurity_decrease=0.0,\n",
            "                          min_impurity_split=None, min_samples_leaf=2,\n",
            "                          min_samples_split=2, min_weight_fraction_leaf=0.0,\n",
            "                          n_estimators=33, n_iter_no_change=None,\n",
            "                          presort='deprecated', random_state=2, subsample=1.0,\n",
            "                          tol=0.0001, validation_fraction=0.1, verbose=0,\n",
            "                          warm_start=False) on X/EX of dimension (86825, 9)\n",
            "Scoring on X/EX validation of shape (21707, 9)\n",
            "OK trial with loss 31.6\n",
            "100%|██████████| 1/1 [01:40<00:00, 100.41s/it, best loss: 29.177987017905433]\n",
            "Will use the last 0.2 portion of samples for validation\n",
            "Fitting MinMaxScaler(copy=True, feature_range=(-1.0, 1.0)) to X of shape (86825, 9)\n",
            "Transforming Xfit (86825, 9)\n",
            "Transforming Xval (21707, 9)\n",
            "Training learner GradientBoostingRegressor(alpha=0.5, ccp_alpha=0.0, criterion='friedman_mse',\n",
            "                          init=None, learning_rate=4.550110076647527,\n",
            "                          loss='quantile', max_depth=None, max_features='log2',\n",
            "                          max_leaf_nodes=None, min_impurity_decrease=0.0,\n",
            "                          min_impurity_split=None, min_samples_leaf=2,\n",
            "                          min_samples_split=2, min_weight_fraction_leaf=0.0,\n",
            "                          n_estimators=24, n_iter_no_change=None,\n",
            "                          presort='deprecated', random_state=2, subsample=1.0,\n",
            "                          tol=0.0001, validation_fraction=0.1, verbose=0,\n",
            "                          warm_start=False) on X/EX of dimension (86825, 9)\n",
            "Scoring on X/EX validation of shape (21707, 9)\n",
            "OK trial with loss 1312172828495149.0\n",
            "100%|██████████| 1/1 [00:30<00:00, 30.94s/it, best loss: 29.177987017905433]\n",
            "Will use the last 0.2 portion of samples for validation\n",
            "Fitting MinMaxScaler(copy=True, feature_range=(0.0, 1.0)) to X of shape (86825, 9)\n",
            "Transforming Xfit (86825, 9)\n",
            "Transforming Xval (21707, 9)\n",
            "Training learner GradientBoostingRegressor(alpha=0.9, ccp_alpha=0.0, criterion='friedman_mse',\n",
            "                          init=None, learning_rate=0.08859056631685026,\n",
            "                          loss='ls', max_depth=3, max_features='log2',\n",
            "                          max_leaf_nodes=None, min_impurity_decrease=0.0,\n",
            "                          min_impurity_split=None, min_samples_leaf=2,\n",
            "                          min_samples_split=2, min_weight_fraction_leaf=0.0,\n",
            "                          n_estimators=71, n_iter_no_change=None,\n",
            "                          presort='deprecated', random_state=2, subsample=1.0,\n",
            "                          tol=0.0001, validation_fraction=0.1, verbose=0,\n",
            "                          warm_start=False) on X/EX of dimension (86825, 9)\n",
            "Scoring on X/EX validation of shape (21707, 9)\n",
            "OK trial with loss 44.6\n",
            "100%|██████████| 1/1 [00:02<00:00,  2.95s/it, best loss: 29.177987017905433]\n",
            "Will use the last 0.2 portion of samples for validation\n",
            "Fitting MinMaxScaler(copy=True, feature_range=(-1.0, 1.0)) to X of shape (86825, 9)\n",
            "Transforming Xfit (86825, 9)\n",
            "Transforming Xval (21707, 9)\n",
            "Training learner GradientBoostingRegressor(alpha=0.5, ccp_alpha=0.0, criterion='friedman_mse',\n",
            "                          init=None, learning_rate=0.05155687680874273,\n",
            "                          loss='quantile', max_depth=None,\n",
            "                          max_features=0.08387045535905394, max_leaf_nodes=None,\n",
            "                          min_impurity_decrease=0.0, min_impurity_split=None,\n",
            "                          min_samples_leaf=3, min_samples_split=2,\n",
            "                          min_weight_fraction_leaf=0.0, n_estimators=544,\n",
            "                          n_iter_no_change=None, presort='deprecated',\n",
            "                          random_state=4, subsample=1.0, tol=0.0001,\n",
            "                          validation_fraction=0.1, verbose=0, warm_start=False) on X/EX of dimension (86825, 9)\n",
            "TERMINATING DUE TO TIMEOUT\n",
            "100%|██████████| 1/1 [02:00<00:00, 120.53s/it, best loss: 29.177987017905433]\n",
            "Will use the last 0.2 portion of samples for validation\n",
            "Fitting MinMaxScaler(copy=True, feature_range=(0.0, 1.0)) to X of shape (86825, 9)\n",
            "Transforming Xfit (86825, 9)\n",
            "Transforming Xval (21707, 9)\n",
            "Training learner RandomForestRegressor(bootstrap=True, ccp_alpha=0.0, criterion='mse',\n",
            "                      max_depth=2, max_features=None, max_leaf_nodes=None,\n",
            "                      max_samples=None, min_impurity_decrease=0.0,\n",
            "                      min_impurity_split=None, min_samples_leaf=1,\n",
            "                      min_samples_split=2, min_weight_fraction_leaf=0.0,\n",
            "                      n_estimators=2760, n_jobs=1, oob_score=False,\n",
            "                      random_state=0, verbose=False, warm_start=False) on X/EX of dimension (86825, 9)\n",
            "Scoring on X/EX validation of shape (21707, 9)\n",
            "OK trial with loss 56.1\n",
            "100%|██████████| 1/1 [01:49<00:00, 109.36s/it, best loss: 29.177987017905433]\n",
            "Will use the last 0.2 portion of samples for validation\n",
            "Fitting MinMaxScaler(copy=True, feature_range=(-1.0, 1.0)) to X of shape (86825, 9)\n",
            "Transforming Xfit (86825, 9)\n",
            "Transforming Xval (21707, 9)\n",
            "Training learner AdaBoostRegressor(base_estimator=None, learning_rate=0.00034654576726988003,\n",
            "                  loss='linear', n_estimators=946, random_state=2) on X/EX of dimension (86825, 9)\n",
            "Scoring on X/EX validation of shape (21707, 9)\n",
            "OK trial with loss 54.2\n",
            "100%|██████████| 1/1 [01:59<00:00, 119.63s/it, best loss: 29.177987017905433]\n",
            "Will use the last 0.2 portion of samples for validation\n",
            "Fitting MinMaxScaler(copy=True, feature_range=(0.0, 1.0)) to X of shape (86825, 9)\n",
            "Transforming Xfit (86825, 9)\n",
            "Transforming Xval (21707, 9)\n",
            "Training learner GradientBoostingRegressor(alpha=0.9, ccp_alpha=0.0, criterion='friedman_mse',\n",
            "                          init=None, learning_rate=0.00418810881365968,\n",
            "                          loss='ls', max_depth=None, max_features=None,\n",
            "                          max_leaf_nodes=None, min_impurity_decrease=0.0,\n",
            "                          min_impurity_split=None, min_samples_leaf=50,\n",
            "                          min_samples_split=2, min_weight_fraction_leaf=0.0,\n",
            "                          n_estimators=53, n_iter_no_change=None,\n",
            "                          presort='deprecated', random_state=0, subsample=1.0,\n",
            "                          tol=0.0001, validation_fraction=0.1, verbose=0,\n",
            "                          warm_start=False) on X/EX of dimension (86825, 9)\n",
            "Scoring on X/EX validation of shape (21707, 9)\n",
            "OK trial with loss 67.6\n",
            "100%|██████████| 1/1 [00:15<00:00, 15.06s/it, best loss: 29.177987017905433]\n",
            "Will use the last 0.2 portion of samples for validation\n",
            "Fitting PCA(copy=True, iterated_power='auto', n_components=4, random_state=None,\n",
            "    svd_solver='auto', tol=0.0, whiten=False) to X of shape (86825, 9)\n",
            "Limited PCA n_components at 4\n",
            "Transforming Xfit (86825, 9)\n",
            "Transforming Xval (21707, 9)\n",
            "Training learner GradientBoostingRegressor(alpha=0.5, ccp_alpha=0.0, criterion='friedman_mse',\n",
            "                          init=None, learning_rate=0.2890667297444311,\n",
            "                          loss='quantile', max_depth=None,\n",
            "                          max_features=0.0008750493412351124,\n",
            "                          max_leaf_nodes=None, min_impurity_decrease=0.0,\n",
            "                          min_impurity_split=None, min_samples_leaf=1,\n",
            "                          min_samples_split=2, min_weight_fraction_leaf=0.0,\n",
            "                          n_estimators=212, n_iter_no_change=None,\n",
            "                          presort='deprecated', random_state=4,\n",
            "                          subsample=0.9837145572185493, tol=0.0001,\n",
            "                          validation_fraction=0.1, verbose=0, warm_start=False) on X/EX of dimension (86825, 4)\n",
            "TERMINATING DUE TO TIMEOUT\n",
            "100%|██████████| 1/1 [02:00<00:00, 120.46s/it, best loss: 29.177987017905433]\n",
            "Will use the last 0.2 portion of samples for validation\n",
            "Fitting StandardScaler(copy=True, with_mean=False, with_std=True) to X of shape (86825, 9)\n",
            "Transforming Xfit (86825, 9)\n",
            "Transforming Xval (21707, 9)\n",
            "Training learner RandomForestRegressor(bootstrap=False, ccp_alpha=0.0, criterion='mse',\n",
            "                      max_depth=3, max_features='log2', max_leaf_nodes=None,\n",
            "                      max_samples=None, min_impurity_decrease=0.0,\n",
            "                      min_impurity_split=None, min_samples_leaf=50,\n",
            "                      min_samples_split=2, min_weight_fraction_leaf=0.0,\n",
            "                      n_estimators=345, n_jobs=1, oob_score=False,\n",
            "                      random_state=4, verbose=False, warm_start=False) on X/EX of dimension (86825, 9)\n",
            "Scoring on X/EX validation of shape (21707, 9)\n",
            "OK trial with loss 53.6\n",
            "100%|██████████| 1/1 [00:10<00:00, 10.85s/it, best loss: 29.177987017905433]\n",
            "Will use the last 0.2 portion of samples for validation\n",
            "Fitting MinMaxScaler(copy=True, feature_range=(0.0, 1.0)) to X of shape (86825, 9)\n",
            "Transforming Xfit (86825, 9)\n",
            "Transforming Xval (21707, 9)\n",
            "Training learner AdaBoostRegressor(base_estimator=None, learning_rate=0.008526040290979068,\n",
            "                  loss='square', n_estimators=14, random_state=0) on X/EX of dimension (86825, 9)\n",
            "Scoring on X/EX validation of shape (21707, 9)\n",
            "OK trial with loss 54.4\n",
            "100%|██████████| 1/1 [00:02<00:00,  2.18s/it, best loss: 29.177987017905433]\n",
            "Will use the last 0.2 portion of samples for validation\n",
            "Fitting PCA(copy=True, iterated_power='auto', n_components=4, random_state=None,\n",
            "    svd_solver='auto', tol=0.0, whiten=False) to X of shape (86825, 9)\n",
            "Limited PCA n_components at 4\n",
            "Transforming Xfit (86825, 9)\n",
            "Transforming Xval (21707, 9)\n",
            "Training learner GradientBoostingRegressor(alpha=0.5, ccp_alpha=0.0, criterion='friedman_mse',\n",
            "                          init=None, learning_rate=0.00012546577607943615,\n",
            "                          loss='quantile', max_depth=None, max_features='log2',\n",
            "                          max_leaf_nodes=None, min_impurity_decrease=0.0,\n",
            "                          min_impurity_split=None, min_samples_leaf=5,\n",
            "                          min_samples_split=2, min_weight_fraction_leaf=0.0,\n",
            "                          n_estimators=25, n_iter_no_change=None,\n",
            "                          presort='deprecated', random_state=2, subsample=1.0,\n",
            "                          tol=0.0001, validation_fraction=0.1, verbose=0,\n",
            "                          warm_start=False) on X/EX of dimension (86825, 4)\n",
            "Scoring on X/EX validation of shape (21707, 4)\n",
            "OK trial with loss 75.8\n",
            "100%|██████████| 1/1 [00:38<00:00, 38.88s/it, best loss: 29.177987017905433]\n",
            "Will use the last 0.2 portion of samples for validation\n",
            "Training learner XGBRegressor(base_score=0.5, booster='gbtree',\n",
            "             colsample_bylevel=0.5045684765313319, colsample_bynode=1,\n",
            "             colsample_bytree=0.9464966174936823, gamma=2.9692288090531533e-05,\n",
            "             importance_type='gain', learning_rate=0.49834786661896285,\n",
            "             max_delta_step=0, max_depth=10, min_child_weight=1, missing=None,\n",
            "             n_estimators=400, n_jobs=1, nthread=None, objective='reg:linear',\n",
            "             random_state=0, reg_alpha=9.439942174634132e-05,\n",
            "             reg_lambda=1.1235101173896094, scale_pos_weight=1, seed=0,\n",
            "             silent=None, subsample=0.5119954249163745, verbosity=1) on X/EX of dimension (86825, 9)\n",
            "[16:05:29] WARNING: /workspace/src/objective/regression_obj.cu:152: reg:linear is now deprecated in favor of reg:squarederror.\n",
            "Scoring on X/EX validation of shape (21707, 9)\n",
            "OK trial with loss 34.4\n",
            "100%|██████████| 1/1 [00:45<00:00, 45.26s/it, best loss: 29.177987017905433]\n",
            "Will use the last 0.2 portion of samples for validation\n",
            "Fitting MinMaxScaler(copy=True, feature_range=(-1.0, 1.0)) to X of shape (86825, 9)\n",
            "Transforming Xfit (86825, 9)\n",
            "Transforming Xval (21707, 9)\n",
            "Training learner SGDRegressor(alpha=0.0868338538856792, average=False, early_stopping=False,\n",
            "             epsilon=0.0010353907185490256, eta0=0.027878181384390598,\n",
            "             fit_intercept=True, l1_ratio=0.021184956047514247,\n",
            "             learning_rate='constant', loss='squared_loss',\n",
            "             max_iter=910460390.0, n_iter_no_change=5, penalty='elasticnet',\n",
            "             power_t=0.013813315913136115, random_state=3, shuffle=True,\n",
            "             tol=1.3202997023436301e-05, validation_fraction=0.1, verbose=False,\n",
            "             warm_start=False) on X/EX of dimension (86825, 9)\n",
            "Scoring on X/EX validation of shape (21707, 9)\n",
            "OK trial with loss 67.3\n",
            "100%|██████████| 1/1 [00:00<00:00,  1.24it/s, best loss: 29.177987017905433]\n",
            "Will use the last 0.2 portion of samples for validation\n",
            "Fitting StandardScaler(copy=True, with_mean=True, with_std=True) to X of shape (86825, 9)\n",
            "Transforming Xfit (86825, 9)\n",
            "Transforming Xval (21707, 9)\n",
            "Training learner GradientBoostingRegressor(alpha=0.9, ccp_alpha=0.0, criterion='friedman_mse',\n",
            "                          init=None, learning_rate=0.018139360946847264,\n",
            "                          loss='ls', max_depth=None,\n",
            "                          max_features=0.32230642422843697, max_leaf_nodes=None,\n",
            "                          min_impurity_decrease=0.0, min_impurity_split=None,\n",
            "                          min_samples_leaf=16, min_samples_split=2,\n",
            "                          min_weight_fraction_leaf=0.0, n_estimators=196,\n",
            "                          n_iter_no_change=None, presort='deprecated',\n",
            "                          random_state=1, subsample=1.0, tol=0.0001,\n",
            "                          validation_fraction=0.1, verbose=0, warm_start=False) on X/EX of dimension (86825, 9)\n",
            "Scoring on X/EX validation of shape (21707, 9)\n",
            "OK trial with loss 32.0\n",
            "100%|██████████| 1/1 [00:21<00:00, 21.35s/it, best loss: 29.177987017905433]\n",
            "Will use the last 0.2 portion of samples for validation\n",
            "Fitting PCA(copy=True, iterated_power='auto', n_components=12, random_state=None,\n",
            "    svd_solver='auto', tol=0.0, whiten=False) to X of shape (86825, 9)\n",
            "Limited PCA n_components at 9\n",
            "Transforming Xfit (86825, 9)\n",
            "Transforming Xval (21707, 9)\n",
            "Training learner RandomForestRegressor(bootstrap=True, ccp_alpha=0.0, criterion='mse',\n",
            "                      max_depth=4, max_features='sqrt', max_leaf_nodes=None,\n",
            "                      max_samples=None, min_impurity_decrease=0.0,\n",
            "                      min_impurity_split=None, min_samples_leaf=1,\n",
            "                      min_samples_split=2, min_weight_fraction_leaf=0.0,\n",
            "                      n_estimators=22, n_jobs=1, oob_score=False,\n",
            "                      random_state=1, verbose=False, warm_start=False) on X/EX of dimension (86825, 9)\n",
            "Scoring on X/EX validation of shape (21707, 9)\n",
            "OK trial with loss 51.8\n",
            "100%|██████████| 1/1 [00:02<00:00,  2.98s/it, best loss: 29.177987017905433]\n",
            "Will use the last 0.2 portion of samples for validation\n",
            "Fitting MinMaxScaler(copy=True, feature_range=(0.0, 1.0)) to X of shape (86825, 9)\n",
            "Transforming Xfit (86825, 9)\n",
            "Transforming Xval (21707, 9)\n",
            "Training learner AdaBoostRegressor(base_estimator=None, learning_rate=0.0096524828216026,\n",
            "                  loss='exponential', n_estimators=948, random_state=4) on X/EX of dimension (86825, 9)\n",
            "Scoring on X/EX validation of shape (21707, 9)\n",
            "OK trial with loss 54.8\n",
            "100%|██████████| 1/1 [01:56<00:00, 116.96s/it, best loss: 29.177987017905433]\n",
            "Will use the last 0.2 portion of samples for validation\n",
            "Fitting Normalizer(copy=True, norm='l1') to X of shape (86825, 9)\n",
            "Transforming Xfit (86825, 9)\n",
            "Transforming Xval (21707, 9)\n",
            "Training learner GradientBoostingRegressor(alpha=0.949358182204656, ccp_alpha=0.0,\n",
            "                          criterion='friedman_mse', init=None,\n",
            "                          learning_rate=0.20399508037705646, loss='huber',\n",
            "                          max_depth=None, max_features=0.4139644073126651,\n",
            "                          max_leaf_nodes=None, min_impurity_decrease=0.0,\n",
            "                          min_impurity_split=None, min_samples_leaf=4,\n",
            "                          min_samples_split=2, min_weight_fraction_leaf=0.0,\n",
            "                          n_estimators=29, n_iter_no_change=None,\n",
            "                          presort='deprecated', random_state=2,\n",
            "                          subsample=0.5233019009793876, tol=0.0001,\n",
            "                          validation_fraction=0.1, verbose=0, warm_start=False) on X/EX of dimension (86825, 9)\n",
            "Scoring on X/EX validation of shape (21707, 9)\n",
            "OK trial with loss 40.1\n",
            "100%|██████████| 1/1 [01:05<00:00, 65.34s/it, best loss: 29.177987017905433]\n",
            "Will use the last 0.2 portion of samples for validation\n",
            "Training learner XGBRegressor(base_score=0.5, booster='gbtree',\n",
            "             colsample_bylevel=0.5359720514761697, colsample_bynode=1,\n",
            "             colsample_bytree=0.5232284852157362, gamma=1.8310106935146406,\n",
            "             importance_type='gain', learning_rate=5.587650960995027e-07,\n",
            "             max_delta_step=0, max_depth=1, min_child_weight=1, missing=None,\n",
            "             n_estimators=6000, n_jobs=1, nthread=None, objective='reg:linear',\n",
            "             random_state=0, reg_alpha=2.0577918524203355e-05,\n",
            "             reg_lambda=1.0833996544878903, scale_pos_weight=1, seed=2,\n",
            "             silent=None, subsample=0.9941852689640993, verbosity=1) on X/EX of dimension (86825, 9)\n",
            "[16:09:43] WARNING: /workspace/src/objective/regression_obj.cu:152: reg:linear is now deprecated in favor of reg:squarederror.\n",
            "Scoring on X/EX validation of shape (21707, 9)\n",
            "OK trial with loss 181.0\n",
            "100%|██████████| 1/1 [01:48<00:00, 108.15s/it, best loss: 29.177987017905433]\n",
            "Will use the last 0.2 portion of samples for validation\n",
            "Fitting MinMaxScaler(copy=True, feature_range=(-1.0, 1.0)) to X of shape (86825, 9)\n",
            "Transforming Xfit (86825, 9)\n",
            "Transforming Xval (21707, 9)\n",
            "Training learner KNeighborsRegressor(algorithm='auto', leaf_size=30, metric='manhattan',\n",
            "                    metric_params=None, n_jobs=1, n_neighbors=46, p=1,\n",
            "                    weights='uniform') on X/EX of dimension (86825, 9)\n",
            "Scoring on X/EX validation of shape (21707, 9)\n",
            "OK trial with loss 45.8\n",
            "100%|██████████| 1/1 [00:11<00:00, 11.51s/it, best loss: 29.177987017905433]\n",
            "Will use the last 0.2 portion of samples for validation\n",
            "Fitting StandardScaler(copy=True, with_mean=False, with_std=False) to X of shape (86825, 9)\n",
            "Transforming Xfit (86825, 9)\n",
            "Transforming Xval (21707, 9)\n",
            "Training learner GradientBoostingRegressor(alpha=0.9, ccp_alpha=0.0, criterion='friedman_mse',\n",
            "                          init=None, learning_rate=0.007354412407778219,\n",
            "                          loss='lad', max_depth=None, max_features='log2',\n",
            "                          max_leaf_nodes=None, min_impurity_decrease=0.0,\n",
            "                          min_impurity_split=None, min_samples_leaf=1,\n",
            "                          min_samples_split=2, min_weight_fraction_leaf=0.0,\n",
            "                          n_estimators=756, n_iter_no_change=None,\n",
            "                          presort='deprecated', random_state=4, subsample=1.0,\n",
            "                          tol=0.0001, validation_fraction=0.1, verbose=0,\n",
            "                          warm_start=False) on X/EX of dimension (86825, 9)\n",
            "TERMINATING DUE TO TIMEOUT\n",
            "100%|██████████| 1/1 [02:00<00:00, 120.37s/it, best loss: 29.177987017905433]\n",
            "Will use the last 0.2 portion of samples for validation\n",
            "Fitting PCA(copy=True, iterated_power='auto', n_components=12, random_state=None,\n",
            "    svd_solver='auto', tol=0.0, whiten=False) to X of shape (86825, 9)\n",
            "Limited PCA n_components at 9\n",
            "Transforming Xfit (86825, 9)\n",
            "Transforming Xval (21707, 9)\n",
            "Training learner SVR(C=13.766209324450763, cache_size=512, coef0=14.451244339295737, degree=4.0,\n",
            "    epsilon=0.27733093350765914, gamma=2.3779127544497145, kernel='poly',\n",
            "    max_iter=17326870.0, shrinking=False, tol=0.004239885783524921,\n",
            "    verbose=False) on X/EX of dimension (86825, 9)\n",
            "TERMINATING DUE TO TIMEOUT\n",
            "100%|██████████| 1/1 [02:00<00:00, 120.58s/it, best loss: 29.177987017905433]\n",
            "Will use the last 0.2 portion of samples for validation\n",
            "Fitting MinMaxScaler(copy=True, feature_range=(-1.0, 1.0)) to X of shape (86825, 9)\n",
            "Transforming Xfit (86825, 9)\n",
            "Transforming Xval (21707, 9)\n",
            "Training learner SGDRegressor(alpha=9.663060209534534e-05, average=False, early_stopping=False,\n",
            "             epsilon=486.1240878800609, eta0=2.035834454133816e-05,\n",
            "             fit_intercept=True, l1_ratio=0.5041577257782974,\n",
            "             learning_rate='invscaling', loss='huber', max_iter=10976794.0,\n",
            "             n_iter_no_change=5, penalty='l2', power_t=0.5269207754875544,\n",
            "             random_state=1, shuffle=True, tol=0.008834952637720559,\n",
            "             validation_fraction=0.1, verbose=False, warm_start=False) on X/EX of dimension (86825, 9)\n",
            "Scoring on X/EX validation of shape (21707, 9)\n",
            "OK trial with loss 81.4\n",
            "100%|██████████| 1/1 [01:30<00:00, 90.00s/it, best loss: 29.177987017905433]\n",
            "Will use the last 0.2 portion of samples for validation\n",
            "Fitting Normalizer(copy=True, norm='l1') to X of shape (86825, 9)\n",
            "Transforming Xfit (86825, 9)\n",
            "Transforming Xval (21707, 9)\n",
            "Training learner GradientBoostingRegressor(alpha=0.5, ccp_alpha=0.0, criterion='friedman_mse',\n",
            "                          init=None, learning_rate=0.041421674544772066,\n",
            "                          loss='quantile', max_depth=None, max_features='sqrt',\n",
            "                          max_leaf_nodes=None, min_impurity_decrease=0.0,\n",
            "                          min_impurity_split=None, min_samples_leaf=2,\n",
            "                          min_samples_split=2, min_weight_fraction_leaf=0.0,\n",
            "                          n_estimators=471, n_iter_no_change=None,\n",
            "                          presort='deprecated', random_state=3,\n",
            "                          subsample=0.9585798698526475, tol=0.0001,\n",
            "                          validation_fraction=0.1, verbose=0, warm_start=False) on X/EX of dimension (86825, 9)\n",
            "TERMINATING DUE TO TIMEOUT\n",
            "100%|██████████| 1/1 [02:00<00:00, 120.44s/it, best loss: 29.177987017905433]\n",
            "Will use the last 0.2 portion of samples for validation\n",
            "Training learner KNeighborsRegressor(algorithm='auto', leaf_size=30, metric='chebyshev',\n",
            "                    metric_params=None, n_jobs=1, n_neighbors=1, p=0,\n",
            "                    weights='uniform') on X/EX of dimension (86825, 9)\n",
            "Scoring on X/EX validation of shape (21707, 9)\n",
            "OK trial with loss 50.8\n",
            "100%|██████████| 1/1 [00:01<00:00,  1.02s/it, best loss: 29.177987017905433]\n",
            "Will use the last 0.2 portion of samples for validation\n",
            "Fitting MinMaxScaler(copy=True, feature_range=(0.0, 1.0)) to X of shape (86825, 9)\n",
            "Transforming Xfit (86825, 9)\n",
            "Transforming Xval (21707, 9)\n",
            "Training learner ExtraTreesRegressor(bootstrap=False, ccp_alpha=0.0, criterion='mse',\n",
            "                    max_depth=4, max_features=None, max_leaf_nodes=None,\n",
            "                    max_samples=None, min_impurity_decrease=0.0,\n",
            "                    min_impurity_split=None, min_samples_leaf=1,\n",
            "                    min_samples_split=2, min_weight_fraction_leaf=0.0,\n",
            "                    n_estimators=1583, n_jobs=1, oob_score=False,\n",
            "                    random_state=4, verbose=False, warm_start=False) on X/EX of dimension (86825, 9)\n",
            "Scoring on X/EX validation of shape (21707, 9)\n",
            "OK trial with loss 57.4\n",
            "100%|██████████| 1/1 [00:37<00:00, 37.87s/it, best loss: 29.177987017905433]\n",
            "Will use the last 0.2 portion of samples for validation\n",
            "Fitting StandardScaler(copy=True, with_mean=True, with_std=True) to X of shape (86825, 9)\n",
            "Transforming Xfit (86825, 9)\n",
            "Transforming Xval (21707, 9)\n",
            "Training learner XGBRegressor(base_score=0.5, booster='gbtree',\n",
            "             colsample_bylevel=0.69592077822829, colsample_bynode=1,\n",
            "             colsample_bytree=0.8081790400945174, gamma=0.016133984047159287,\n",
            "             importance_type='gain', learning_rate=0.37631341055197787,\n",
            "             max_delta_step=0, max_depth=10, min_child_weight=95, missing=None,\n",
            "             n_estimators=3000, n_jobs=1, nthread=None, objective='reg:linear',\n",
            "             random_state=0, reg_alpha=0.002744637748483996,\n",
            "             reg_lambda=1.6372665610064912, scale_pos_weight=1, seed=1,\n",
            "             silent=None, subsample=0.7151883846447699, verbosity=1) on X/EX of dimension (86825, 9)\n",
            "[16:19:54] WARNING: /workspace/src/objective/regression_obj.cu:152: reg:linear is now deprecated in favor of reg:squarederror.\n",
            "TERMINATING DUE TO TIMEOUT\n",
            "100%|██████████| 1/1 [02:00<00:00, 120.42s/it, best loss: 29.177987017905433]\n",
            "Fitting MinMaxScaler(copy=True, feature_range=(0.0, 1.0)) to X of shape (108532, 9)\n",
            "Transforming Xfit (108532, 9)\n",
            "Training learner GradientBoostingRegressor(alpha=0.9, ccp_alpha=0.0, criterion='friedman_mse',\n",
            "                          init=None, learning_rate=0.010608477016125937,\n",
            "                          loss='ls', max_depth=None,\n",
            "                          max_features=0.29756469866254465, max_leaf_nodes=None,\n",
            "                          min_impurity_decrease=0.0, min_impurity_split=None,\n",
            "                          min_samples_leaf=4, min_samples_split=2,\n",
            "                          min_weight_fraction_leaf=0.0, n_estimators=386,\n",
            "                          n_iter_no_change=None, presort='deprecated',\n",
            "                          random_state=4, subsample=1.0, tol=0.0001,\n",
            "                          validation_fraction=0.1, verbose=0, warm_start=False) on X/EX of dimension (108532, 9)\n"
          ],
          "name": "stdout"
        }
      ]
    },
    {
      "cell_type": "markdown",
      "metadata": {
        "id": "gJETuvSKumSv"
      },
      "source": [
        "Ahora es posible encontrar el mejor modelo:"
      ]
    },
    {
      "cell_type": "code",
      "metadata": {
        "colab": {
          "base_uri": "https://localhost:8080/"
        },
        "id": "gDu2frBTuibH",
        "outputId": "e9ff5982-ffbf-47da-fa9c-95317b9f3866"
      },
      "source": [
        "print(hyperop_regr.best_model())"
      ],
      "execution_count": null,
      "outputs": [
        {
          "output_type": "stream",
          "text": [
            "{'learner': GradientBoostingRegressor(alpha=0.9, ccp_alpha=0.0, criterion='friedman_mse',\n",
            "                          init=None, learning_rate=0.010608477016125937,\n",
            "                          loss='ls', max_depth=None,\n",
            "                          max_features=0.29756469866254465, max_leaf_nodes=None,\n",
            "                          min_impurity_decrease=0.0, min_impurity_split=None,\n",
            "                          min_samples_leaf=4, min_samples_split=2,\n",
            "                          min_weight_fraction_leaf=0.0, n_estimators=386,\n",
            "                          n_iter_no_change=None, presort='deprecated',\n",
            "                          random_state=4, subsample=1.0, tol=0.0001,\n",
            "                          validation_fraction=0.1, verbose=0, warm_start=False), 'preprocs': (MinMaxScaler(copy=True, feature_range=(0.0, 1.0)),), 'ex_preprocs': ()}\n"
          ],
          "name": "stdout"
        }
      ]
    },
    {
      "cell_type": "code",
      "metadata": {
        "colab": {
          "base_uri": "https://localhost:8080/"
        },
        "id": "9jnLlMh5uxjv",
        "outputId": "d600be1e-d361-4539-fbaf-b1de3ad7f672"
      },
      "source": [
        "#Predicción\n",
        "pred_hyperop = hyperop_regr.predict(X_test_ad)\n",
        "\n",
        "#Métrica\n",
        "error_hyperop = mean_absolute_error(y_test_ad, pred_hyperop)\n",
        "r2_hyperop = r2_score(y_test_ad, pred_hyperop)\n",
        "rmse_hyperop=mean_squared_error(y_test_ad, pred_hyperop)\n",
        "\n",
        "print(\"MAE: \"+str(error_hyperop))\n",
        "print(\"R2: \"+str(r2_hyperop))\n",
        "print(\"RMSE: \"+str(rmse_hyperop))"
      ],
      "execution_count": null,
      "outputs": [
        {
          "output_type": "stream",
          "text": [
            "Fitting MinMaxScaler(copy=True, feature_range=(0.0, 1.0)) to X of shape (27134, 9)\n",
            "Transforming Xfit (27134, 9)\n",
            "MAE: 28.28704185929606\n",
            "R2: 0.7972119469491786\n",
            "RMSE: 1917.5037690097276\n"
          ],
          "name": "stdout"
        }
      ]
    },
    {
      "cell_type": "markdown",
      "metadata": {
        "id": "GN4ahAiB3z5Q"
      },
      "source": [
        "Con esta librería se obtuvo el mejor modelo en todo el proyecto. El error promedio es de 27 dólares, la bondad de ajuste es la más alta pero esta mejora es mínima comparada con la optimización óptima de random forest y XGBoost. No obstante el RMSE es el más bajo de todos. El modelo seleccionado se denomina ExtraTreesRegressor. \n",
        "\n",
        "Esta clase implementa un metaestimador que se ajusta a varios árboles de decisión aleatorios (también conocidos como árboles extra) en varias submuestras del conjunto de datos y usa promedios para mejorar la precisión predictiva y controlar el sobreajuste.\n",
        "\n",
        "En términos del tiempo en su cálculo, en tiempo es más rápido que el ejercicio realizado para Random Forest con RandomGridSearch, no obstante el más rápido de los tres es el cálculo de la optimización del XGBoost."
      ]
    },
    {
      "cell_type": "markdown",
      "metadata": {
        "id": "WAZTeUz04-RF"
      },
      "source": [
        "**Elección de modelos**\n",
        "\n",
        "Tras realizar todos los ejercicios con Random Forest, XGBoost y el adicional utilizando Hyperopt que es el modelo ExtraTreesRegressor, el mejor modelo es el optimizado con XGBoost. La bondad de ajuste de este modelo es superior a los estimados en la Parte A, al igual que las métricas de MAE y RMSE. \n",
        "\n",
        "A pesar del gran poder que tiene ExtraTreesRegressor el costo en tiempo por una mejora que no es tan amplia no justifica su elección. No obstante y dado su mejor comportamiento se realizará la parte C del proyecto con este modelo, que además permite tener un mayor conocimiento sobre un modelo no estudiado en clase. "
      ]
    },
    {
      "cell_type": "markdown",
      "metadata": {
        "id": "9z-oRJi65rB2"
      },
      "source": [
        "**PARTE C - Interpretación de modelos**\n",
        "\n",
        "De acuerdo a lo que el modelo permite, responde algunas o todas las siguientes preguntas:\n",
        "\n",
        "\n",
        "\n",
        "*   ¿Qué variables fueron relevantes para el modelo para hacer una predicción? ¿Cuáles no? Si usaste una regresión lineal con regularización, presta atención a los parámetros (pendientes) obtenidas. Si usaste un modelo de ensamble en árboles, además de ver la importancia de cada atributo, también elige algunos árboles al azar y observa qué atributos considera importantes. \n",
        "*   ¿En qué se diferencian esos árboles? ¿Por qué? Finalmente, responde, ¿coincide con lo que esperabas a partir de tu experiencia con este dataset?\n",
        "¿Cómo es la distribución de errores (regresión) o qué clases se confunden entre sí (clasificación)? ¿Dónde falla? ¿A qué se debe?\n",
        "\n",
        "\n",
        "\n"
      ]
    },
    {
      "cell_type": "code",
      "metadata": {
        "id": "PDHHPzlg49pz"
      },
      "source": [
        "from sklearn.ensemble import ExtraTreesRegressor\n",
        "\n",
        "extratrees_regressor = ExtraTreesRegressor(bootstrap=True, ccp_alpha=0.0, criterion='mse', max_depth=None, max_features=None, max_leaf_nodes=None, max_samples=None, min_impurity_decrease=0.0,\n",
        "                    min_impurity_split=None, min_samples_leaf=1, min_samples_split=2, min_weight_fraction_leaf=0.0, n_estimators=523, n_jobs=1, oob_score=False, random_state=3,\n",
        "                    verbose=False, warm_start=False).fit(X_train_ad, y_train_ad)             \n",
        "                    \n",
        "\n"
      ],
      "execution_count": null,
      "outputs": []
    },
    {
      "cell_type": "code",
      "metadata": {
        "colab": {
          "base_uri": "https://localhost:8080/"
        },
        "id": "VW0xFbuc6wwa",
        "outputId": "08bbad79-c4c7-470a-fa5a-5fda53a1b0e0"
      },
      "source": [
        "#Predicción\n",
        "pred_extratree = extratrees_regressor.predict(X_test_ad)\n",
        "\n",
        "#Métrica\n",
        "error_extratree = mean_absolute_error(y_test_ad, pred_extratree)\n",
        "r2_extratree = r2_score(y_test_ad, pred_extratree)\n",
        "rmse_extratree=mean_squared_error(y_test_ad, pred_extratree)\n",
        "\n",
        "print(\"MAE: \"+str(error_extratree))\n",
        "print(\"R2: \"+str(r2_extratree))\n",
        "print(\"RMSE: \"+str(rmse_extratree))"
      ],
      "execution_count": null,
      "outputs": [
        {
          "output_type": "stream",
          "text": [
            "MAE: 27.148875412202123\n",
            "R2: 0.8019610810868795\n",
            "RMSE: 1872.5973631757909\n"
          ],
          "name": "stdout"
        }
      ]
    },
    {
      "cell_type": "markdown",
      "metadata": {
        "id": "dnEdkawd7q62"
      },
      "source": [
        "Ahora se determinará la importancia de features"
      ]
    },
    {
      "cell_type": "code",
      "metadata": {
        "id": "knWvv79n4vKs"
      },
      "source": [
        "#Features\n",
        "features_nombre = X_train_ad.columns\n",
        "\n",
        "importances = extratrees_regressor.feature_importances_[:]\n",
        "\n",
        "listado_importancias = np.argsort(importances) #Le da el orden a las importancias\n",
        "\n",
        "\n"
      ],
      "execution_count": null,
      "outputs": []
    },
    {
      "cell_type": "markdown",
      "metadata": {
        "id": "wmUU51sX97AM"
      },
      "source": [
        "La gráfica a continuación permite ver el listado de importancia de mayor a menor con su respectiva importancia relativa en el modelo. La variable más relevante en el modelo son los baños, seguida por el barrio y la superficie cubierta. \n",
        "\n",
        "Los baños son una señal propia del tipo de propiedad que puede estar capturando con mayor facilidad el precio de la misma y este puede ser un factor determinante que debe alinearse con la superficie cubierta. \n",
        "\n",
        "De la hipótesis que se tuvo cuando se le realizó el encode al barrio se supuso que era relevante y resultó ser comprobada. Por otro lado las variables creadas como la diferencia de días y los adjetivos de para describir la propiedad no son los factores más relevantes en el precio y más bien en el caso de los adjetivos no influyen en el precio pero si podrían influir en que las personas se interesen más en la propiedad. \n",
        "\n",
        "Por otro lado, la diferencia en días desde la publiación y efectiva venta de la propiedad no determina el precio como se planteó al crear esta variable. \n"
      ]
    },
    {
      "cell_type": "code",
      "metadata": {
        "colab": {
          "base_uri": "https://localhost:8080/",
          "height": 404
        },
        "id": "mfShpXhw9VTn",
        "outputId": "3840b4ed-fc00-47bb-c54d-8fa49252d680"
      },
      "source": [
        "plt.figure(figsize=(16,6))\n",
        "plt.title('Importancia de los atributos')\n",
        "plt.barh(range(len(listado_importancias)), importances[listado_importancias], color='lightcoral', align='center')\n",
        "plt.yticks(range(len(listado_importancias)), [features_nombre[i] for i in listado_importancias])\n",
        "plt.xlabel('Importancia Relativa')\n",
        "plt.show()"
      ],
      "execution_count": null,
      "outputs": [
        {
          "output_type": "display_data",
          "data": {
            "image/png": "[encoded data removed]",
            "text/plain": [
              "<Figure size 1152x432 with 1 Axes>"
            ]
          },
          "metadata": {
            "tags": [],
            "needs_background": "light"
          }
        }
      ]
    },
    {
      "cell_type": "markdown",
      "metadata": {
        "id": "qivjsOT9AHd_"
      },
      "source": [
        "Siguiendo la consigna, dado que extratrees es un árbol, se elegirán al azar 10 para determinar cómo varía la importancia de los features. \n",
        "\n",
        "Del ejercicio se puede observar que la importancia se rota entre el número de baños, como se observó en el general, número de habitaciones y el barrio. Al tomar de manera aleatoria el orden de importancias dada su importancia relativa, se puede observar que cada árbol está aportando información similar y que es coherente con la general como se ha mencionado. \n",
        "\n",
        "El ejercicio permite tener una mayor certeza del resultado completo. Además en todos los casos el feature que menos importa es igual que es el de los adjetivos. "
      ]
    },
    {
      "cell_type": "code",
      "metadata": {
        "colab": {
          "base_uri": "https://localhost:8080/",
          "height": 1000
        },
        "id": "0SfEjoX4_HRA",
        "outputId": "2a7a580c-ccb6-4123-cec5-9149ea20a17e"
      },
      "source": [
        "estimadores_extratrees = extratrees_regressor.estimators_\n",
        "\n",
        "estimador_aleatorio = np.random.choice(estimadores_extratrees, size=10, replace=False)\n",
        "\n",
        "for estimador in estimador_aleatorio:\n",
        "    importances = estimador.feature_importances_[:] #Se capturan todas las columnas\n",
        "    listado_importancias = np.argsort(importances)\n",
        "    plt.figure(figsize=(16,6))\n",
        "    plt.title('Importancia de los atributos para el estimador '+ str(estimador))\n",
        "    plt.barh(range(len(listado_importancias)), importances[listado_importancias], color=\"navy\", align='center')\n",
        "    plt.yticks(range(len(listado_importancias)), [features_nombre[i] for i in listado_importancias])\n",
        "    plt.xlabel('Importancia Relativa')\n",
        "    plt.show()"
      ],
      "execution_count": null,
      "outputs": [
        {
          "output_type": "display_data",
          "data": {
            "image/png": "[encoded data removed]",
            "text/plain": [
              "<Figure size 1152x432 with 1 Axes>"
            ]
          },
          "metadata": {
            "tags": [],
            "needs_background": "light"
          }
        },
        {
          "output_type": "display_data",
          "data": {
            "image/png": "[encoded data removed]",
            "text/plain": [
              "<Figure size 1152x432 with 1 Axes>"
            ]
          },
          "metadata": {
            "tags": [],
            "needs_background": "light"
          }
        },
        {
          "output_type": "display_data",
          "data": {
            "image/png": "[encoded data removed]",
            "text/plain": [
              "<Figure size 1152x432 with 1 Axes>"
            ]
          },
          "metadata": {
            "tags": [],
            "needs_background": "light"
          }
        },
        {
          "output_type": "display_data",
          "data": {
            "image/png": "[encoded data removed]",
            "text/plain": [
              "<Figure size 1152x432 with 1 Axes>"
            ]
          },
          "metadata": {
            "tags": [],
            "needs_background": "light"
          }
        },
        {
          "output_type": "display_data",
          "data": {
            "image/png": "[encoded data removed]",
            "text/plain": [
              "<Figure size 1152x432 with 1 Axes>"
            ]
          },
          "metadata": {
            "tags": [],
            "needs_background": "light"
          }
        },
        {
          "output_type": "display_data",
          "data": {
            "image/png": "[encoded data removed]",
            "text/plain": [
              "<Figure size 1152x432 with 1 Axes>"
            ]
          },
          "metadata": {
            "tags": [],
            "needs_background": "light"
          }
        },
        {
          "output_type": "display_data",
          "data": {
            "image/png": "[encoded data removed]",
            "text/plain": [
              "<Figure size 1152x432 with 1 Axes>"
            ]
          },
          "metadata": {
            "tags": [],
            "needs_background": "light"
          }
        },
        {
          "output_type": "display_data",
          "data": {
            "image/png": "[encoded data removed]",
            "text/plain": [
              "<Figure size 1152x432 with 1 Axes>"
            ]
          },
          "metadata": {
            "tags": [],
            "needs_background": "light"
          }
        },
        {
          "output_type": "display_data",
          "data": {
            "image/png": "[encoded data removed]",
            "text/plain": [
              "<Figure size 1152x432 with 1 Axes>"
            ]
          },
          "metadata": {
            "tags": [],
            "needs_background": "light"
          }
        },
        {
          "output_type": "display_data",
          "data": {
            "image/png": "[encoded data removed]",
            "text/plain": [
              "<Figure size 1152x432 with 1 Axes>"
            ]
          },
          "metadata": {
            "tags": [],
            "needs_background": "light"
          }
        }
      ]
    },
    {
      "cell_type": "markdown",
      "metadata": {
        "id": "DptSzC28CIg-"
      },
      "source": [
        "Tras estudiar la importancia de los atributos y su importancia relativa, es importante analizar los errores del modelo. La gráfica a continuación muestra que hay errores que son outliers pero en general el error se ajusta como se puede observar en la sección que ajusta a la línea roja. Además tiene una distribución normal que se encuentra muy concentrada en cero, mostrando que hay un ajuste importante en donde el error predicho con el modelo de extratree no discrepa de forma significativa del precio real.\n",
        "\n",
        "Este resultado es coherente con las métricas de evaluación de este modelo, en donde el MAE muestra este resultado. \n",
        "\n",
        "El mayor error se da entre -300 o 300 de acuerdo con la gráfica pero hay muy pocas observaciones concentradas allí, coherente con la distribución normal del error que se calcula con el precio real y el predicho. "
      ]
    },
    {
      "cell_type": "code",
      "metadata": {
        "id": "F3Sx1oq8EiPk"
      },
      "source": [
        "from scipy import stats\n",
        "\n",
        "error_calculado = y_test_ad - pred_extratree "
      ],
      "execution_count": null,
      "outputs": []
    },
    {
      "cell_type": "code",
      "metadata": {
        "colab": {
          "base_uri": "https://localhost:8080/",
          "height": 458
        },
        "id": "k7l-23HzEgwa",
        "outputId": "b2e8f296-3be3-419a-b15a-ddeb793d1a86"
      },
      "source": [
        "plt.figure(figsize=(10,6))\n",
        "sns.distplot(error_calculado, color=\"coral\")"
      ],
      "execution_count": null,
      "outputs": [
        {
          "output_type": "stream",
          "text": [
            "/usr/local/lib/python3.6/dist-packages/seaborn/distributions.py:2557: FutureWarning: `distplot` is a deprecated function and will be removed in a future version. Please adapt your code to use either `displot` (a figure-level function with similar flexibility) or `histplot` (an axes-level function for histograms).\n",
            "  warnings.warn(msg, FutureWarning)\n"
          ],
          "name": "stderr"
        },
        {
          "output_type": "execute_result",
          "data": {
            "text/plain": [
              "<matplotlib.axes._subplots.AxesSubplot at 0x7f1b5e6b2cc0>"
            ]
          },
          "metadata": {
            "tags": []
          },
          "execution_count": 70
        },
        {
          "output_type": "display_data",
          "data": {
            "image/png": "[encoded data removed]",
            "text/plain": [
              "<Figure size 720x432 with 1 Axes>"
            ]
          },
          "metadata": {
            "tags": [],
            "needs_background": "light"
          }
        }
      ]
    },
    {
      "cell_type": "code",
      "metadata": {
        "colab": {
          "base_uri": "https://localhost:8080/",
          "height": 404
        },
        "id": "3_QzPtYmCIBY",
        "outputId": "1459fb28-0d4d-4ca7-82d0-ff78b9c10318"
      },
      "source": [
        "plt.figure(figsize=(10,6))\n",
        "ax=stats.probplot(error_calculado, dist=\"norm\", plot=plt)\n"
      ],
      "execution_count": null,
      "outputs": [
        {
          "output_type": "display_data",
          "data": {
            "image/png": "[encoded data removed]",
            "text/plain": [
              "<Figure size 720x432 with 1 Axes>"
            ]
          },
          "metadata": {
            "tags": [],
            "needs_background": "light"
          }
        }
      ]
    },
    {
      "cell_type": "markdown",
      "metadata": {
        "id": "Yk5uqnMiGYvW"
      },
      "source": [
        "**Conclusiones del Proyecto 2**\n",
        "\n",
        "Tras todo el ejercicio se denota la importancia de la limpieza de datos con todos los pasos propuestos, el tratamiento de los missings y su imputación, el control de los outliers y la importancia de las variables que se pueden volver en numéricas tras hacer un encoding a la categoría. \n",
        "\n",
        "\n",
        "Como se propuso al inicio del ejercicio, se estimó una serie de variables que podrían ser de utilidad: diferencia en días y los adjetivos utilizados para describir las propiedades. No obstante la inclusión de estas variables no tuvo el efecto deseado en donde las avriables que ya estaban en el dataset tuvieron un papel protagónico y eso se denota en el análisis de importancia. \n",
        "\n",
        "Por otro lado, el encoding es clave y se esperaba que el barrio tuviera un impacto importante en el precio. Tradicionalmente hay barrios más costosos que otros, en el caso de Colombia en donde hay una separación de estratros, hay barrios tradicionalmente más costosos en donde las personas más acomodadas tienen sus propiedades, allí el costo de los servicios públicos es superior y tienen unas condiciones de entorno (parques, centros comerciales, colegios, entre otros) con mayor acceso a barrios que tienen estratos más bajos o que tradicionalmente son más económicos. \n",
        "\n",
        "Al realizar este encode se rescató esta hipótesis y se corroboró en donde se pudo notar que efectivamente era una variable importante a tomar en cuenta para predecir el precio de la vivienda. \n",
        "\n",
        "Los missing values y los outliers permiten llevar a una base de datos más limpia en donde es posible lograr un ejercicio más prolijo en donde los modelos tienen una mejor capacidad para generalizar y predecir. \n",
        "\n",
        "Ahondando en los modelos, en la Parte A, la relevancia de tener una base de datos más procesada y tratada con más minucia arroja mejores resultados en los modelos, medido en este caso por métricas de MAE, R2 (coeficiente de determinación) y RMSE. \n",
        "\n",
        "Ya en la Parte B es posible ver el sacrificio computacional versus el resultado obtenido de dos modelos: Random Forest, XGBoost que funciona bajo la lógica de gradiente.Estos dos modelos arrojaron mejores resultados de predicción comparado con los utilizados en la Parte A por lo que muestra la gran habilidad de estos modelos avanzados. Por otro lado, al realizar la optimización de hiperparámetros se encuentra una variable adicional a contemplar para el data scientist y es el tiempo que demora. La optimización por RandomGridSearch toma mas tiempo en Random Forest que en XGBoost, no obstante tras el uso de los modelos con estos hiperparámetros la mejora es importante pero comparada entre Random Forest y XGBoost no hay una mejora significativa por lo que se podría atender al que menos tiempo tome y el resultado sería satisfactorio. \n",
        "\n",
        "Finalmente, usando hyperopt, se hizo la búsqueda del mejor modelo y los hiperparámetros para el dataset propuesto. En este se encontró un modelo que es un poco superior a los dos anteriores y es ExtraTreesRegressor. \n",
        "\n",
        "Con este último se realizó el ejercicio de importancias que arrojó los resultados ya mencionados. Tomando de forma aleatoria los distintos árboles que lo conforman, se encontró consistencia en la importancia de los atributos para predecir el precio de las propiedades. \n",
        "\n",
        "*¿Qué falta por mejorar? ¿Qué agregaría más valor al ejercicio?*\n",
        "\n",
        "El modelo se puede mejorar incorporando más información que permita enriquecer el dataset, además se puede estudiar la posibilidad de hacer un ejercicio separado por tipo de propiedad que permita tener mayor certeza y mayor pureza del ejercicio. Cada tipo de propiedad se define de forma distina, un departamento o una casa que son propiedades para habitar son distintas en su uso e interés en ubicación y superficie cubierta y otras amenidades que las de las de oficinas. \n",
        "\n",
        "En el caso específico de inclusión de un análisis teniendo en cuenta la temporalidad es relevante. El precio de la vivienda también se encuentra atado a factores económicos, cuando una economía se encuentra en bonanza los precios son mucho mayores a los que se encuentran cuando la economía está en recesión y la necesidad de liquidez de los propietarios de vivienda se convierte en una prioridad y los precios pueden ser distintos. \n",
        "\n",
        "El ejercicio incorporando una serie de tiempo de viviendas puede resultar poderoso para mostrar dinámicas del sector de construcción que reacciona con los factores económicos y que además es un sector relevante para reactivar la actividad económica en un momento de crisis. Este tipo de ejercicios permite incorporar mayores usos como toma de decisiones a nivel macroeconómico. \n",
        "\n"
      ]
    }
  ]
}